{
 "cells": [
  {
   "cell_type": "markdown",
   "id": "fd09f418",
   "metadata": {},
   "source": [
    "# Creating DataFrames"
   ]
  },
  {
   "cell_type": "markdown",
   "id": "1a0421b1",
   "metadata": {},
   "source": [
    "Specify values for each column"
   ]
  },
  {
   "cell_type": "code",
   "execution_count": 7,
   "id": "a989c1e7",
   "metadata": {},
   "outputs": [
    {
     "name": "stdout",
     "output_type": "stream",
     "text": [
      "   Day  Vehicle_Count  Accidents\n",
      "A  Mon            100          1\n",
      "B  Tue            120          0\n",
      "C  Wed            130          2\n",
      "D  Thu            140          1\n",
      "E  Fri            150          0\n"
     ]
    }
   ],
   "source": [
    "import pandas as pd\n",
    "\n",
    "data = {\n",
    "    'Day': ['Mon', 'Tue', 'Wed', 'Thu', 'Fri'],\n",
    "    'Vehicle_Count': [100, 120, 130, 140, 150],\n",
    "    'Accidents': [1, 0, 2, 1, 0]\n",
    "}\n",
    "df = pd.DataFrame(data, index=['A', 'B', 'C', 'D', 'E'])\n",
    "print(df)"
   ]
  },
  {
   "cell_type": "markdown",
   "id": "aa44ffdd",
   "metadata": {},
   "source": [
    "Specify values for each row"
   ]
  },
  {
   "cell_type": "code",
   "execution_count": 2,
   "id": "9c1af097",
   "metadata": {},
   "outputs": [
    {
     "name": "stdout",
     "output_type": "stream",
     "text": [
      "   Day  Vehicle_Count  Accidents\n",
      "1  Mon            100          1\n",
      "2  Tue            120          0\n",
      "3  Wed            130          2\n",
      "4  Thu            140          1\n",
      "5  Fri            150          0\n"
     ]
    }
   ],
   "source": [
    "import pandas as pd\n",
    "\n",
    "# Define data row-wise\n",
    "data = [\n",
    "    ['Mon', 100, 1],\n",
    "    ['Tue', 120, 0],\n",
    "    ['Wed', 130, 2],\n",
    "    ['Thu', 140, 1],\n",
    "    ['Fri', 150, 0]\n",
    "]\n",
    "\n",
    "# Create DataFrame and specify column names\n",
    "df = pd.DataFrame(data, columns=['Day', 'Vehicle_Count', 'Accidents'], index=[1,2,3,4,5])\n",
    "\n",
    "print(df)"
   ]
  },
  {
   "cell_type": "markdown",
   "id": "2dda1363",
   "metadata": {},
   "source": [
    "Create DataFrame with a MultiIndex/Hierarchical index"
   ]
  },
  {
   "cell_type": "code",
   "execution_count": 5,
   "id": "a4288269",
   "metadata": {},
   "outputs": [
    {
     "name": "stdout",
     "output_type": "stream",
     "text": [
      "     a  b   c\n",
      "n v          \n",
      "d 1  4  7  10\n",
      "  2  5  8  11\n",
      "e 2  6  9  12\n"
     ]
    }
   ],
   "source": [
    "import pandas as pd\n",
    "\n",
    "# Step 1: Define the data for each column (like normal)\n",
    "df = pd.DataFrame(\n",
    "    {\n",
    "        \"a\": [4, 5, 6],\n",
    "        \"b\": [7, 8, 9],\n",
    "        \"c\": [10, 11, 12]\n",
    "    }, index=pd.MultiIndex.from_tuples([('d',1),('d',2),('e',2)], names=['n', 'v']))\n",
    "\n",
    "print(df)"
   ]
  },
  {
   "cell_type": "markdown",
   "id": "4ea2a5b8",
   "metadata": {},
   "source": [
    "Accessing Data in MultiIndex"
   ]
  },
  {
   "cell_type": "code",
   "execution_count": 8,
   "id": "6acd7355",
   "metadata": {},
   "outputs": [
    {
     "name": "stdout",
     "output_type": "stream",
     "text": [
      "a     4\n",
      "b     7\n",
      "c    10\n",
      "Name: (d, 1), dtype: int64\n",
      "a     6\n",
      "b     9\n",
      "c    12\n",
      "Name: (e, 2), dtype: int64\n"
     ]
    }
   ],
   "source": [
    "print(df.loc[('d',1)])      #Row where n='d' and v=1\n",
    "print(df.loc[('e',2)])      #Row where n='e' and v=2"
   ]
  },
  {
   "cell_type": "markdown",
   "id": "03c1d2b9",
   "metadata": {},
   "source": [
    "# Reshaping Data"
   ]
  },
  {
   "cell_type": "markdown",
   "id": "13d45cda",
   "metadata": {},
   "source": [
    "#### 1. `pd.melt(df)` – Gather columns into rows  \n",
    "Purpose: Converts wide data into long data."
   ]
  },
  {
   "cell_type": "code",
   "execution_count": 9,
   "id": "6873a1e5",
   "metadata": {},
   "outputs": [
    {
     "data": {
      "text/html": [
       "<div>\n",
       "<style scoped>\n",
       "    .dataframe tbody tr th:only-of-type {\n",
       "        vertical-align: middle;\n",
       "    }\n",
       "\n",
       "    .dataframe tbody tr th {\n",
       "        vertical-align: top;\n",
       "    }\n",
       "\n",
       "    .dataframe thead th {\n",
       "        text-align: right;\n",
       "    }\n",
       "</style>\n",
       "<table border=\"1\" class=\"dataframe\">\n",
       "  <thead>\n",
       "    <tr style=\"text-align: right;\">\n",
       "      <th></th>\n",
       "      <th>Name</th>\n",
       "      <th>Math</th>\n",
       "      <th>Science</th>\n",
       "    </tr>\n",
       "  </thead>\n",
       "  <tbody>\n",
       "    <tr>\n",
       "      <th>0</th>\n",
       "      <td>Alice</td>\n",
       "      <td>90</td>\n",
       "      <td>85</td>\n",
       "    </tr>\n",
       "    <tr>\n",
       "      <th>1</th>\n",
       "      <td>Bob</td>\n",
       "      <td>80</td>\n",
       "      <td>95</td>\n",
       "    </tr>\n",
       "  </tbody>\n",
       "</table>\n",
       "</div>"
      ],
      "text/plain": [
       "    Name  Math  Science\n",
       "0  Alice    90       85\n",
       "1    Bob    80       95"
      ]
     },
     "execution_count": 9,
     "metadata": {},
     "output_type": "execute_result"
    }
   ],
   "source": [
    "import pandas as pd\n",
    "\n",
    "df = pd.DataFrame({\n",
    "    'Name': ['Alice', 'Bob'],\n",
    "    'Math': [90, 80],\n",
    "    'Science': [85, 95]\n",
    "})\n",
    "df"
   ]
  },
  {
   "cell_type": "code",
   "execution_count": 11,
   "id": "3dfa248a",
   "metadata": {},
   "outputs": [
    {
     "data": {
      "text/html": [
       "<div>\n",
       "<style scoped>\n",
       "    .dataframe tbody tr th:only-of-type {\n",
       "        vertical-align: middle;\n",
       "    }\n",
       "\n",
       "    .dataframe tbody tr th {\n",
       "        vertical-align: top;\n",
       "    }\n",
       "\n",
       "    .dataframe thead th {\n",
       "        text-align: right;\n",
       "    }\n",
       "</style>\n",
       "<table border=\"1\" class=\"dataframe\">\n",
       "  <thead>\n",
       "    <tr style=\"text-align: right;\">\n",
       "      <th></th>\n",
       "      <th>Name</th>\n",
       "      <th>Subject</th>\n",
       "      <th>Score</th>\n",
       "    </tr>\n",
       "  </thead>\n",
       "  <tbody>\n",
       "    <tr>\n",
       "      <th>0</th>\n",
       "      <td>Alice</td>\n",
       "      <td>Math</td>\n",
       "      <td>90</td>\n",
       "    </tr>\n",
       "    <tr>\n",
       "      <th>1</th>\n",
       "      <td>Bob</td>\n",
       "      <td>Math</td>\n",
       "      <td>80</td>\n",
       "    </tr>\n",
       "    <tr>\n",
       "      <th>2</th>\n",
       "      <td>Alice</td>\n",
       "      <td>Science</td>\n",
       "      <td>85</td>\n",
       "    </tr>\n",
       "    <tr>\n",
       "      <th>3</th>\n",
       "      <td>Bob</td>\n",
       "      <td>Science</td>\n",
       "      <td>95</td>\n",
       "    </tr>\n",
       "  </tbody>\n",
       "</table>\n",
       "</div>"
      ],
      "text/plain": [
       "    Name  Subject  Score\n",
       "0  Alice     Math     90\n",
       "1    Bob     Math     80\n",
       "2  Alice  Science     85\n",
       "3    Bob  Science     95"
      ]
     },
     "execution_count": 11,
     "metadata": {},
     "output_type": "execute_result"
    }
   ],
   "source": [
    "melted = pd.melt(\n",
    "    df,\n",
    "    id_vars=['Name'],            # The column to keep fixed\n",
    "    var_name='Subject',          # New column name for old column headers (Math, Science)\n",
    "    value_name='Score'           # New column name for values under Math/Science\n",
    ")\n",
    "\n",
    "melted"
   ]
  },
  {
   "cell_type": "markdown",
   "id": "34df3db6",
   "metadata": {},
   "source": [
    "#### `2. df.pivot(columns='var', values='val')` – Spread rows into columns"
   ]
  },
  {
   "cell_type": "code",
   "execution_count": 12,
   "id": "c65a0fa1",
   "metadata": {},
   "outputs": [
    {
     "name": "stdout",
     "output_type": "stream",
     "text": [
      "  Salesperson Month  Sales\n",
      "0       Alice   Jan    250\n",
      "1       Alice   Feb    300\n",
      "2         Bob   Jan    200\n",
      "3         Bob   Feb    220\n",
      "4     Charlie   Jan    150\n",
      "5     Charlie   Feb    180\n"
     ]
    }
   ],
   "source": [
    "import pandas as pd\n",
    "\n",
    "data = {\n",
    "    'Salesperson': ['Alice', 'Alice', 'Bob', 'Bob', 'Charlie', 'Charlie'],\n",
    "    'Month': ['Jan', 'Feb', 'Jan', 'Feb', 'Jan', 'Feb'],\n",
    "    'Sales': [250, 300, 200, 220, 150, 180]\n",
    "}\n",
    "\n",
    "df = pd.DataFrame(data)\n",
    "print(df)\n"
   ]
  },
  {
   "cell_type": "code",
   "execution_count": 15,
   "id": "cc38e0bd",
   "metadata": {},
   "outputs": [
    {
     "name": "stdout",
     "output_type": "stream",
     "text": [
      "Month        Feb  Jan\n",
      "Salesperson          \n",
      "Alice        300  250\n",
      "Bob          220  200\n",
      "Charlie      180  150\n"
     ]
    }
   ],
   "source": [
    "df_pivot=df.pivot(index='Salesperson', columns='Month', values='Sales')\n",
    "print(df_pivot)"
   ]
  },
  {
   "cell_type": "markdown",
   "id": "fb8657d9",
   "metadata": {},
   "source": [
    "#### 3. `pd.concat([df1, df2])` – Append rows"
   ]
  },
  {
   "cell_type": "code",
   "execution_count": 16,
   "id": "ab30e018",
   "metadata": {},
   "outputs": [
    {
     "name": "stdout",
     "output_type": "stream",
     "text": [
      "   OrderID    Coffee     Pastry\n",
      "0        1     Latte  Croissant\n",
      "1        2  Espresso     Muffin\n",
      "   OrderID      Coffee Pastry\n",
      "0        3  Cappuccino  Donut\n",
      "1        4   Americano  Scone\n"
     ]
    }
   ],
   "source": [
    "import pandas as pd\n",
    "\n",
    "# Data for Day 1 orders\n",
    "df1 = pd.DataFrame({\n",
    "    'OrderID': [1, 2],\n",
    "    'Coffee': ['Latte', 'Espresso'],\n",
    "    'Pastry': ['Croissant', 'Muffin']\n",
    "})\n",
    "\n",
    "print(df1)\n",
    "\n",
    "# Data for Day 2 orders\n",
    "df2 = pd.DataFrame({\n",
    "    'OrderID': [3, 4],\n",
    "    'Coffee': ['Cappuccino', 'Americano'],\n",
    "    'Pastry': ['Donut', 'Scone']\n",
    "})\n",
    "\n",
    "print(df2)"
   ]
  },
  {
   "cell_type": "markdown",
   "id": "cb4417ce",
   "metadata": {},
   "source": [
    "concatenate two dataframe by appending rows"
   ]
  },
  {
   "cell_type": "code",
   "execution_count": 17,
   "id": "0702182b",
   "metadata": {},
   "outputs": [
    {
     "name": "stdout",
     "output_type": "stream",
     "text": [
      "   OrderID      Coffee     Pastry\n",
      "0        1       Latte  Croissant\n",
      "1        2    Espresso     Muffin\n",
      "0        3  Cappuccino      Donut\n",
      "1        4   Americano      Scone\n"
     ]
    }
   ],
   "source": [
    "df_combined=pd.concat([df1, df2])\n",
    "print(df_combined)"
   ]
  },
  {
   "cell_type": "markdown",
   "id": "29fb70b9",
   "metadata": {},
   "source": [
    "####  4. `pd.concat([df1, df2], axis=1)` – Append columns  \n",
    "Combines DataFrames horizontally (column-wise)."
   ]
  },
  {
   "cell_type": "code",
   "execution_count": 27,
   "id": "242bdb87",
   "metadata": {},
   "outputs": [
    {
     "name": "stdout",
     "output_type": "stream",
     "text": [
      "      Name Department\n",
      "0    Alice         HR\n",
      "1      Bob    Finance\n",
      "2  Charlie         IT\n",
      "\n",
      "   Salary  Experience\n",
      "0   70000           5\n",
      "1   80000           8\n",
      "2   65000           3\n",
      "\n",
      "      Name Department  Salary  Experience\n",
      "0    Alice         HR   70000           5\n",
      "1      Bob    Finance   80000           8\n",
      "2  Charlie         IT   65000           3\n"
     ]
    }
   ],
   "source": [
    "import pandas as pd\n",
    "\n",
    "# DataFrame 1: employee names and departments\n",
    "df1 = pd.DataFrame({\n",
    "    'Name': ['Alice', 'Bob', 'Charlie'],\n",
    "    'Department': ['HR', 'Finance', 'IT']\n",
    "})\n",
    "\n",
    "print(df1)\n",
    "print()\n",
    "\n",
    "# DataFrame 2: salaries and experience\n",
    "df2 = pd.DataFrame({\n",
    "    'Salary': [70000, 80000, 65000],\n",
    "    'Experience': [5, 8, 3]\n",
    "})\n",
    "\n",
    "print(df2)\n",
    "print()\n",
    "\n",
    "# Concatenate df1 and df2 side by side (columns)\n",
    "result = pd.concat([df1, df2], axis=1)\n",
    "\n",
    "print(result)\n"
   ]
  },
  {
   "cell_type": "markdown",
   "id": "665cee2c",
   "metadata": {},
   "source": [
    "### Sorting, reindexing, renaming"
   ]
  },
  {
   "cell_type": "code",
   "execution_count": 31,
   "id": "3c3ee007",
   "metadata": {},
   "outputs": [
    {
     "name": "stdout",
     "output_type": "stream",
     "text": [
      "   mpg     y  Length  Height\n",
      "0   21  2010     180      55\n",
      "1   35  2015     190      60\n",
      "2   17  2012     175      57\n"
     ]
    }
   ],
   "source": [
    "import pandas as pd\n",
    "\n",
    "data = {\n",
    "    'mpg': [21, 35, 17],\n",
    "    'y': [2010, 2015, 2012],\n",
    "    'Length': [180, 190, 175],\n",
    "    'Height': [55, 60, 57]\n",
    "}\n",
    "\n",
    "df = pd.DataFrame(data)\n",
    "print(df)"
   ]
  },
  {
   "cell_type": "markdown",
   "id": "64604f30",
   "metadata": {},
   "source": [
    "Order rows by values of a column (low to high)"
   ]
  },
  {
   "cell_type": "code",
   "execution_count": 37,
   "id": "7dfcc17e",
   "metadata": {},
   "outputs": [
    {
     "name": "stdout",
     "output_type": "stream",
     "text": [
      "   mpg     y  Length  Height\n",
      "2   17  2012     175      57\n",
      "0   21  2010     180      55\n",
      "1   35  2015     190      60\n"
     ]
    }
   ],
   "source": [
    "# Sort by mpg ascending\n",
    "print(df.sort_values('mpg'))"
   ]
  },
  {
   "cell_type": "markdown",
   "id": "8d839438",
   "metadata": {},
   "source": [
    "Order rows by values of a column (high to low)."
   ]
  },
  {
   "cell_type": "code",
   "execution_count": 33,
   "id": "441271fa",
   "metadata": {},
   "outputs": [
    {
     "name": "stdout",
     "output_type": "stream",
     "text": [
      "   mpg     y  Length  Height\n",
      "1   35  2015     190      60\n",
      "0   21  2010     180      55\n",
      "2   17  2012     175      57\n"
     ]
    }
   ],
   "source": [
    "# Sort by mpg descending\n",
    "print(df.sort_values('mpg', ascending=False))"
   ]
  },
  {
   "cell_type": "markdown",
   "id": "544012eb",
   "metadata": {},
   "source": [
    "Rename the columns of a DataFrame"
   ]
  },
  {
   "cell_type": "code",
   "execution_count": 34,
   "id": "1501d8e8",
   "metadata": {},
   "outputs": [
    {
     "name": "stdout",
     "output_type": "stream",
     "text": [
      "   mpg  year  Length  Height\n",
      "0   21  2010     180      55\n",
      "1   35  2015     190      60\n",
      "2   17  2012     175      57\n"
     ]
    }
   ],
   "source": [
    "# Rename column 'y' to 'year'\n",
    "print(df.rename(columns={'y': 'year'}))"
   ]
  },
  {
   "cell_type": "markdown",
   "id": "073cb8a2",
   "metadata": {},
   "source": [
    "Sort the index of a DataFrame"
   ]
  },
  {
   "cell_type": "code",
   "execution_count": 35,
   "id": "a22f917c",
   "metadata": {},
   "outputs": [
    {
     "name": "stdout",
     "output_type": "stream",
     "text": [
      "   mpg     y  Length  Height\n",
      "0   21  2010     180      55\n",
      "1   35  2015     190      60\n",
      "2   17  2012     175      57\n"
     ]
    }
   ],
   "source": [
    "# Sort by index (row labels)\n",
    "print(df.sort_index())"
   ]
  },
  {
   "cell_type": "markdown",
   "id": "bdb4cc49",
   "metadata": {},
   "source": [
    "Reset index of DataFrame to row numbers, moving\n",
    "index to columns."
   ]
  },
  {
   "cell_type": "code",
   "execution_count": 38,
   "id": "adda8bfa",
   "metadata": {},
   "outputs": [
    {
     "name": "stdout",
     "output_type": "stream",
     "text": [
      "   index  mpg     y  Length  Height\n",
      "0      0   21  2010     180      55\n",
      "1      1   35  2015     190      60\n",
      "2      2   17  2012     175      57\n"
     ]
    }
   ],
   "source": [
    "# Reset index (useful if index is custom)\n",
    "print(df.reset_index())"
   ]
  },
  {
   "cell_type": "markdown",
   "id": "9bae398b",
   "metadata": {},
   "source": [
    "Drop columns from DataFrame"
   ]
  },
  {
   "cell_type": "code",
   "execution_count": 39,
   "id": "5c710bb6",
   "metadata": {},
   "outputs": [
    {
     "name": "stdout",
     "output_type": "stream",
     "text": [
      "   mpg     y\n",
      "0   21  2010\n",
      "1   35  2015\n",
      "2   17  2012\n"
     ]
    }
   ],
   "source": [
    "# Drop columns Length and Height\n",
    "print(df.drop(columns=['Length', 'Height']))"
   ]
  },
  {
   "cell_type": "markdown",
   "id": "7565207c",
   "metadata": {},
   "source": [
    "# Subset Observations - rows"
   ]
  },
  {
   "cell_type": "markdown",
   "id": "9cb871e3",
   "metadata": {},
   "source": [
    "1. `df[df.Length > 71]`  \n",
    "Extract rows where the `Length` column is greater than 71."
   ]
  },
  {
   "cell_type": "code",
   "execution_count": 40,
   "id": "7851dfa8",
   "metadata": {},
   "outputs": [
    {
     "name": "stdout",
     "output_type": "stream",
     "text": [
      "   Length  Height\n",
      "1      72      60\n",
      "3      75      62\n"
     ]
    }
   ],
   "source": [
    "import pandas as pd\n",
    "\n",
    "df = pd.DataFrame({'Length': [70, 72, 68, 75], 'Height': [55, 60, 58, 62]})\n",
    "subset = df[df.Length > 71]\n",
    "print(subset)\n"
   ]
  },
  {
   "cell_type": "markdown",
   "id": "69cfe1a7",
   "metadata": {},
   "source": [
    "2. `df.drop_duplicates()`  \n",
    "Remove duplicate rows (considering all columns)."
   ]
  },
  {
   "cell_type": "code",
   "execution_count": 43,
   "id": "3c2c934c",
   "metadata": {},
   "outputs": [
    {
     "name": "stdout",
     "output_type": "stream",
     "text": [
      "   A  B\n",
      "0  1  3\n",
      "2  1  5\n",
      "3  2  4\n"
     ]
    }
   ],
   "source": [
    "df = pd.DataFrame({'A': [1, 1, 1, 2, 2], 'B': [3, 3, 5, 4, 4]})\n",
    "unique = df.drop_duplicates()\n",
    "print(unique)\n"
   ]
  },
  {
   "cell_type": "markdown",
   "id": "076ecd58",
   "metadata": {},
   "source": [
    "3. `df.sample(frac=0.5)`  \n",
    "Randomly select 50% of rows."
   ]
  },
  {
   "cell_type": "code",
   "execution_count": 47,
   "id": "5919395f",
   "metadata": {},
   "outputs": [
    {
     "name": "stdout",
     "output_type": "stream",
     "text": [
      "   A\n",
      "0  0\n",
      "1  1\n",
      "2  2\n",
      "3  3\n",
      "4  4\n",
      "5  5\n",
      "6  6\n",
      "7  7\n",
      "8  8\n",
      "9  9\n",
      "\n",
      "   A\n",
      "7  7\n",
      "1  1\n",
      "9  9\n",
      "8  8\n",
      "5  5\n"
     ]
    }
   ],
   "source": [
    "df = pd.DataFrame({'A': range(10)})\n",
    "print(df)\n",
    "print()\n",
    "\n",
    "sampled = df.sample(frac=0.5)\n",
    "print(sampled)\n"
   ]
  },
  {
   "cell_type": "markdown",
   "id": "17886a6a",
   "metadata": {},
   "source": [
    "4. `df.sample(n=10)`  \n",
    "Randomly select exactly 10 rows (if the DataFrame has 10 or more rows)."
   ]
  },
  {
   "cell_type": "code",
   "execution_count": 52,
   "id": "3cae453b",
   "metadata": {},
   "outputs": [
    {
     "name": "stdout",
     "output_type": "stream",
     "text": [
      "     A\n",
      "4    4\n",
      "2    2\n",
      "18  18\n",
      "9    9\n",
      "3    3\n",
      "14  14\n",
      "19  19\n",
      "10  10\n",
      "11  11\n",
      "15  15\n"
     ]
    }
   ],
   "source": [
    "df = pd.DataFrame({'A': range(20)})\n",
    "sampled = df.sample(n=10)\n",
    "print(sampled)\n"
   ]
  },
  {
   "cell_type": "markdown",
   "id": "287d0a93",
   "metadata": {},
   "source": [
    "5. `df.nlargest(n, 'value')`  \n",
    "Select top n rows ordered by highest values in the 'value' colum"
   ]
  },
  {
   "cell_type": "code",
   "execution_count": 53,
   "id": "94668f0e",
   "metadata": {},
   "outputs": [
    {
     "name": "stdout",
     "output_type": "stream",
     "text": [
      "   value\n",
      "1     50\n",
      "3     40\n",
      "4     30\n"
     ]
    }
   ],
   "source": [
    "df = pd.DataFrame({'value': [10, 50, 20, 40, 30]})\n",
    "top3 = df.nlargest(3, 'value')\n",
    "print(top3)\n"
   ]
  },
  {
   "cell_type": "markdown",
   "id": "a89b3e27",
   "metadata": {},
   "source": [
    "6. `df.nsmallest(n, 'value')`  \n",
    "Select bottom n rows ordered by smallest values in 'value'."
   ]
  },
  {
   "cell_type": "code",
   "execution_count": 54,
   "id": "e86b1f72",
   "metadata": {},
   "outputs": [
    {
     "name": "stdout",
     "output_type": "stream",
     "text": [
      "   value\n",
      "0     10\n",
      "2     20\n"
     ]
    }
   ],
   "source": [
    "df = pd.DataFrame({'value': [10, 50, 20, 40, 30]})\n",
    "bottom2 = df.nsmallest(2, 'value')\n",
    "print(bottom2)\n"
   ]
  },
  {
   "cell_type": "markdown",
   "id": "151708f5",
   "metadata": {},
   "source": [
    "7. `df.head(n)`  \n",
    "Select first n rows"
   ]
  },
  {
   "cell_type": "code",
   "execution_count": 55,
   "id": "f540ba73",
   "metadata": {},
   "outputs": [
    {
     "name": "stdout",
     "output_type": "stream",
     "text": [
      "   A\n",
      "0  0\n",
      "1  1\n",
      "2  2\n"
     ]
    }
   ],
   "source": [
    "df = pd.DataFrame({'A': range(10)})\n",
    "print(df.head(3))\n"
   ]
  },
  {
   "cell_type": "markdown",
   "id": "c3fe6c95",
   "metadata": {},
   "source": [
    "8. `df.tail(n)`  \n",
    "Select last n rows."
   ]
  },
  {
   "cell_type": "code",
   "execution_count": 56,
   "id": "030b425a",
   "metadata": {},
   "outputs": [
    {
     "name": "stdout",
     "output_type": "stream",
     "text": [
      "   A\n",
      "7  7\n",
      "8  8\n",
      "9  9\n"
     ]
    }
   ],
   "source": [
    "df = pd.DataFrame({'A': range(10)})\n",
    "print(df.tail(3))\n"
   ]
  },
  {
   "cell_type": "markdown",
   "id": "fc4cb009",
   "metadata": {},
   "source": [
    "# Subset Variables - columns"
   ]
  },
  {
   "cell_type": "markdown",
   "id": "f8dfc83a",
   "metadata": {},
   "source": [
    "Select multiple columns with specific names."
   ]
  },
  {
   "cell_type": "code",
   "execution_count": 61,
   "id": "895d2070",
   "metadata": {},
   "outputs": [
    {
     "name": "stdout",
     "output_type": "stream",
     "text": [
      "   width  length species\n",
      "0      5      10       A\n",
      "1      6      15       B\n",
      "2      7      20       C\n"
     ]
    }
   ],
   "source": [
    "import pandas as pd\n",
    "\n",
    "df = pd.DataFrame({\n",
    "    'width': [5, 6, 7],\n",
    "    'length': [10, 15, 20],\n",
    "    'species': ['A', 'B', 'C'],\n",
    "    'color': ['red', 'blue', 'green']\n",
    "})\n",
    "\n",
    "subset = df[['width', 'length', 'species']]\n",
    "print(subset)\n"
   ]
  },
  {
   "cell_type": "markdown",
   "id": "e9385fa0",
   "metadata": {},
   "source": [
    "Select single column with specific name."
   ]
  },
  {
   "cell_type": "code",
   "execution_count": 59,
   "id": "de6f908c",
   "metadata": {},
   "outputs": [
    {
     "name": "stdout",
     "output_type": "stream",
     "text": [
      "0    5\n",
      "1    6\n",
      "2    7\n",
      "Name: width, dtype: int64\n",
      "0    5\n",
      "1    6\n",
      "2    7\n",
      "Name: width, dtype: int64\n"
     ]
    }
   ],
   "source": [
    "# Using bracket notation\n",
    "single_col = df['width']\n",
    "print(single_col)\n",
    "\n",
    "# Or using dot notation\n",
    "single_col_dot = df.width\n",
    "print(single_col_dot)\n"
   ]
  },
  {
   "cell_type": "markdown",
   "id": "f7b83eed",
   "metadata": {},
   "source": [
    "Select columns whose name matches regular expression regex.  \n",
    "Use `.filter()` with the `regex` parameter to select columns whose names match a pattern.  \n"
   ]
  },
  {
   "cell_type": "code",
   "execution_count": 71,
   "id": "739809bd",
   "metadata": {},
   "outputs": [
    {
     "name": "stdout",
     "output_type": "stream",
     "text": [
      "   length species\n",
      "0      10       A\n",
      "1      15       B\n",
      "2      20       C\n"
     ]
    }
   ],
   "source": [
    "#select columns that contain the letter 'e'\n",
    "\n",
    "filtered = df.filter(regex='e')\n",
    "print(filtered)\n",
    "\n",
    "#Explanation: Columns 'length' and 'species' contain the letter 'e'."
   ]
  },
  {
   "cell_type": "markdown",
   "id": "f48c50a5",
   "metadata": {},
   "source": [
    "`df.column.isin(values)`  \n",
    "Checks if each element in the column `df.column` is present in the list or set `values`."
   ]
  },
  {
   "cell_type": "code",
   "execution_count": 72,
   "id": "9955df27",
   "metadata": {},
   "outputs": [
    {
     "name": "stdout",
     "output_type": "stream",
     "text": [
      "0    False\n",
      "1     True\n",
      "2    False\n",
      "3    False\n",
      "4     True\n",
      "Name: fruits, dtype: bool\n"
     ]
    }
   ],
   "source": [
    "import pandas as pd\n",
    "\n",
    "df = pd.DataFrame({'fruits': ['apple', 'banana', 'cherry', 'date', 'fig']})\n",
    "values = ['banana', 'fig', 'grape']\n",
    "\n",
    "# Check which fruits are in the list `values`\n",
    "print(df['fruits'].isin(values))\n"
   ]
  },
  {
   "cell_type": "markdown",
   "id": "e9d04294",
   "metadata": {},
   "source": [
    "`pd.isnull(obj)`  \n",
    "Checks if the given object obj (could be a single value, Series, or DataFrame) contains missing values `(NaN)`."
   ]
  },
  {
   "cell_type": "code",
   "execution_count": 73,
   "id": "a55964ea",
   "metadata": {},
   "outputs": [
    {
     "name": "stdout",
     "output_type": "stream",
     "text": [
      "0    False\n",
      "1    False\n",
      "2     True\n",
      "3    False\n",
      "Name: numbers, dtype: bool\n"
     ]
    }
   ],
   "source": [
    "df = pd.DataFrame({'numbers': [1, 2, None, 4]})\n",
    "\n",
    "# Check which values are NaN\n",
    "print(pd.isnull(df['numbers']))\n"
   ]
  },
  {
   "cell_type": "markdown",
   "id": "5fc3ea8d",
   "metadata": {},
   "source": [
    "\n",
    "`pd.notnull(obj)`  \n",
    "The opposite of `pd.isnull()`. Checks if the given object obj is not `NaN`."
   ]
  },
  {
   "cell_type": "code",
   "execution_count": 74,
   "id": "e3d0f46e",
   "metadata": {},
   "outputs": [
    {
     "name": "stdout",
     "output_type": "stream",
     "text": [
      "0     True\n",
      "1     True\n",
      "2    False\n",
      "3     True\n",
      "Name: numbers, dtype: bool\n"
     ]
    }
   ],
   "source": [
    "# Check which values are NOT NaN\n",
    "print(pd.notnull(df['numbers']))\n"
   ]
  },
  {
   "cell_type": "markdown",
   "id": "53c73cac",
   "metadata": {},
   "source": [
    "`& , | , ^ , ~ , df.any() , df.all()`\n",
    "These are logical and bitwise operators and pandas methods used for combining boolean conditions:\n",
    "\n",
    "`&` = Logical AND\n",
    "\n",
    "`|` = Logical OR\n",
    "\n",
    "`^` = Logical XOR (exclusive OR)\n",
    "\n",
    "`~` = Logical NOT (negation)\n",
    "\n",
    "`df.any()`\n",
    "Checks if any element is True along an axis. For example, in a DataFrame, it can check if any value in each column or row is True.\n",
    "\n",
    "`df.all()`\n",
    "Checks if all elements are True along an axis."
   ]
  },
  {
   "cell_type": "code",
   "execution_count": 78,
   "id": "020edaea",
   "metadata": {},
   "outputs": [
    {
     "name": "stdout",
     "output_type": "stream",
     "text": [
      "0    False\n",
      "1    False\n",
      "2     True\n",
      "dtype: bool\n",
      "0     True\n",
      "1    False\n",
      "2     True\n",
      "dtype: bool\n",
      "0     True\n",
      "1    False\n",
      "2    False\n",
      "dtype: bool\n",
      "0    False\n",
      "1     True\n",
      "2    False\n",
      "Name: A, dtype: bool\n",
      "A    True\n",
      "B    True\n",
      "dtype: bool\n",
      "A    False\n",
      "B    False\n",
      "dtype: bool\n"
     ]
    }
   ],
   "source": [
    "df = pd.DataFrame({\n",
    "    'A': [True, False, True],\n",
    "    'B': [False, False, True]\n",
    "})\n",
    "\n",
    "# Logical AND between two columns\n",
    "print(df['A'] & df['B'])\n",
    "\n",
    "# Logical OR between two columns\n",
    "print(df['A'] | df['B'])\n",
    "\n",
    "# Logical XOR between two columns\n",
    "print(df['A'] ^ df['B'])\n",
    "\n",
    "# Logical NOT of column A\n",
    "print(~df['A'])\n",
    "\n",
    "# Check if any value is True in each column\n",
    "print(df.any())\n",
    "\n",
    "# Check if all values are True in each column\n",
    "print(df.all())\n"
   ]
  },
  {
   "cell_type": "markdown",
   "id": "d151fb0a",
   "metadata": {},
   "source": [
    "# Using query"
   ]
  },
  {
   "cell_type": "code",
   "execution_count": 80,
   "id": "af733ca4",
   "metadata": {},
   "outputs": [
    {
     "data": {
      "text/html": [
       "<div>\n",
       "<style scoped>\n",
       "    .dataframe tbody tr th:only-of-type {\n",
       "        vertical-align: middle;\n",
       "    }\n",
       "\n",
       "    .dataframe tbody tr th {\n",
       "        vertical-align: top;\n",
       "    }\n",
       "\n",
       "    .dataframe thead th {\n",
       "        text-align: right;\n",
       "    }\n",
       "</style>\n",
       "<table border=\"1\" class=\"dataframe\">\n",
       "  <thead>\n",
       "    <tr style=\"text-align: right;\">\n",
       "      <th></th>\n",
       "      <th>Length</th>\n",
       "      <th>Width</th>\n",
       "      <th>Name</th>\n",
       "    </tr>\n",
       "  </thead>\n",
       "  <tbody>\n",
       "    <tr>\n",
       "      <th>0</th>\n",
       "      <td>5</td>\n",
       "      <td>6</td>\n",
       "      <td>abc1</td>\n",
       "    </tr>\n",
       "    <tr>\n",
       "      <th>1</th>\n",
       "      <td>10</td>\n",
       "      <td>9</td>\n",
       "      <td>def2</td>\n",
       "    </tr>\n",
       "    <tr>\n",
       "      <th>2</th>\n",
       "      <td>7</td>\n",
       "      <td>7</td>\n",
       "      <td>abc3</td>\n",
       "    </tr>\n",
       "    <tr>\n",
       "      <th>3</th>\n",
       "      <td>12</td>\n",
       "      <td>5</td>\n",
       "      <td>xyz4</td>\n",
       "    </tr>\n",
       "  </tbody>\n",
       "</table>\n",
       "</div>"
      ],
      "text/plain": [
       "   Length  Width  Name\n",
       "0       5      6  abc1\n",
       "1      10      9  def2\n",
       "2       7      7  abc3\n",
       "3      12      5  xyz4"
      ]
     },
     "execution_count": 80,
     "metadata": {},
     "output_type": "execute_result"
    }
   ],
   "source": [
    "import pandas as pd\n",
    "\n",
    "data = {\n",
    "    'Length': [5, 10, 7, 12],\n",
    "    'Width': [6, 9, 7, 5],\n",
    "    'Name': ['abc1', 'def2', 'abc3', 'xyz4']\n",
    "}\n",
    "\n",
    "df = pd.DataFrame(data)\n",
    "df\n"
   ]
  },
  {
   "cell_type": "markdown",
   "id": "98ccd5af",
   "metadata": {},
   "source": [
    "1. `df.query('Length > 7')`  \n",
    "Filters rows where the `Length` column is greater than 7."
   ]
  },
  {
   "cell_type": "code",
   "execution_count": 81,
   "id": "2e765006",
   "metadata": {},
   "outputs": [
    {
     "name": "stdout",
     "output_type": "stream",
     "text": [
      "   Length  Width  Name\n",
      "1      10      9  def2\n",
      "3      12      5  xyz4\n"
     ]
    }
   ],
   "source": [
    "filtered_df = df.query('Length > 7')\n",
    "print(filtered_df)"
   ]
  },
  {
   "cell_type": "markdown",
   "id": "e3509a64",
   "metadata": {},
   "source": [
    "2. `df.query('Length > 7 and Width < 8')`  \n",
    "Filters rows where `Length` is greater than 7 AND Width is less than 8."
   ]
  },
  {
   "cell_type": "code",
   "execution_count": 83,
   "id": "e8bab44e",
   "metadata": {},
   "outputs": [
    {
     "name": "stdout",
     "output_type": "stream",
     "text": [
      "   Length  Width  Name\n",
      "3      12      5  xyz4\n"
     ]
    }
   ],
   "source": [
    "filtered_df = df.query('Length > 7 and Width < 8')\n",
    "print(filtered_df)"
   ]
  },
  {
   "cell_type": "markdown",
   "id": "bc7a2179",
   "metadata": {},
   "source": [
    "3. `df.query('Name.str.startswith(\"abc\")', engine='python')`  \n",
    "Filters rows where the Name column starts with `\"abc\"`.  \n",
    "Since string functions aren’t natively supported in `query()`, you use `engine='python'` to enable this."
   ]
  },
  {
   "cell_type": "code",
   "execution_count": 84,
   "id": "f6ecd795",
   "metadata": {},
   "outputs": [
    {
     "name": "stdout",
     "output_type": "stream",
     "text": [
      "   Length  Width  Name\n",
      "0       5      6  abc1\n",
      "2       7      7  abc3\n"
     ]
    }
   ],
   "source": [
    "filtered_df = df.query('Name.str.startswith(\"abc\")', engine='python')\n",
    "print(filtered_df)"
   ]
  },
  {
   "cell_type": "markdown",
   "id": "e295e944",
   "metadata": {},
   "source": [
    "# Method Chaining"
   ]
  },
  {
   "cell_type": "markdown",
   "id": "3f149475",
   "metadata": {},
   "source": [
    "Most pandas methods return a DataFrame so that\n",
    "another pandas method can be applied to the result.\n",
    "This improves readability of code."
   ]
  },
  {
   "cell_type": "code",
   "execution_count": 97,
   "id": "1d1d389c",
   "metadata": {},
   "outputs": [
    {
     "data": {
      "text/html": [
       "<div>\n",
       "<style scoped>\n",
       "    .dataframe tbody tr th:only-of-type {\n",
       "        vertical-align: middle;\n",
       "    }\n",
       "\n",
       "    .dataframe tbody tr th {\n",
       "        vertical-align: top;\n",
       "    }\n",
       "\n",
       "    .dataframe thead th {\n",
       "        text-align: right;\n",
       "    }\n",
       "</style>\n",
       "<table border=\"1\" class=\"dataframe\">\n",
       "  <thead>\n",
       "    <tr style=\"text-align: right;\">\n",
       "      <th></th>\n",
       "      <th>ID</th>\n",
       "      <th>A</th>\n",
       "      <th>B</th>\n",
       "    </tr>\n",
       "  </thead>\n",
       "  <tbody>\n",
       "    <tr>\n",
       "      <th>0</th>\n",
       "      <td>1</td>\n",
       "      <td>100</td>\n",
       "      <td>200</td>\n",
       "    </tr>\n",
       "    <tr>\n",
       "      <th>1</th>\n",
       "      <td>2</td>\n",
       "      <td>250</td>\n",
       "      <td>150</td>\n",
       "    </tr>\n",
       "    <tr>\n",
       "      <th>2</th>\n",
       "      <td>3</td>\n",
       "      <td>300</td>\n",
       "      <td>400</td>\n",
       "    </tr>\n",
       "  </tbody>\n",
       "</table>\n",
       "</div>"
      ],
      "text/plain": [
       "   ID    A    B\n",
       "0   1  100  200\n",
       "1   2  250  150\n",
       "2   3  300  400"
      ]
     },
     "execution_count": 97,
     "metadata": {},
     "output_type": "execute_result"
    }
   ],
   "source": [
    "import pandas as pd\n",
    "\n",
    "data = {\n",
    "    'ID': [1, 2, 3],\n",
    "    'A': [100, 250, 300],\n",
    "    'B': [200, 150, 400]\n",
    "}\n",
    "\n",
    "df = pd.DataFrame(data)\n",
    "df\n"
   ]
  },
  {
   "cell_type": "code",
   "execution_count": 100,
   "id": "995216d0",
   "metadata": {},
   "outputs": [
    {
     "name": "stdout",
     "output_type": "stream",
     "text": [
      "   ID var  val\n",
      "1   2   A  250\n",
      "2   3   A  300\n",
      "3   1   B  200\n",
      "5   3   B  400\n"
     ]
    }
   ],
   "source": [
    "df_chained = (\n",
    "    pd.melt(df, id_vars=['ID'])\n",
    "      .rename(columns={'variable':'var', 'value':'val'})\n",
    "      .query('val >= 200')\n",
    ")\n",
    "print(df_chained)\n"
   ]
  },
  {
   "cell_type": "markdown",
   "id": "fda9cbcd",
   "metadata": {},
   "source": [
    "# Subsets - rows and columns"
   ]
  },
  {
   "cell_type": "code",
   "execution_count": 102,
   "id": "4747efa9",
   "metadata": {},
   "outputs": [
    {
     "data": {
      "text/html": [
       "<div>\n",
       "<style scoped>\n",
       "    .dataframe tbody tr th:only-of-type {\n",
       "        vertical-align: middle;\n",
       "    }\n",
       "\n",
       "    .dataframe tbody tr th {\n",
       "        vertical-align: top;\n",
       "    }\n",
       "\n",
       "    .dataframe thead th {\n",
       "        text-align: right;\n",
       "    }\n",
       "</style>\n",
       "<table border=\"1\" class=\"dataframe\">\n",
       "  <thead>\n",
       "    <tr style=\"text-align: right;\">\n",
       "      <th></th>\n",
       "      <th>a</th>\n",
       "      <th>b</th>\n",
       "      <th>c</th>\n",
       "      <th>x2</th>\n",
       "      <th>x3</th>\n",
       "      <th>x4</th>\n",
       "    </tr>\n",
       "  </thead>\n",
       "  <tbody>\n",
       "    <tr>\n",
       "      <th>0</th>\n",
       "      <td>5</td>\n",
       "      <td>10</td>\n",
       "      <td>100</td>\n",
       "      <td>1</td>\n",
       "      <td>10</td>\n",
       "      <td>100</td>\n",
       "    </tr>\n",
       "    <tr>\n",
       "      <th>1</th>\n",
       "      <td>15</td>\n",
       "      <td>20</td>\n",
       "      <td>200</td>\n",
       "      <td>2</td>\n",
       "      <td>20</td>\n",
       "      <td>200</td>\n",
       "    </tr>\n",
       "    <tr>\n",
       "      <th>2</th>\n",
       "      <td>25</td>\n",
       "      <td>30</td>\n",
       "      <td>300</td>\n",
       "      <td>3</td>\n",
       "      <td>30</td>\n",
       "      <td>300</td>\n",
       "    </tr>\n",
       "    <tr>\n",
       "      <th>3</th>\n",
       "      <td>35</td>\n",
       "      <td>40</td>\n",
       "      <td>400</td>\n",
       "      <td>4</td>\n",
       "      <td>40</td>\n",
       "      <td>400</td>\n",
       "    </tr>\n",
       "    <tr>\n",
       "      <th>4</th>\n",
       "      <td>45</td>\n",
       "      <td>50</td>\n",
       "      <td>500</td>\n",
       "      <td>5</td>\n",
       "      <td>50</td>\n",
       "      <td>500</td>\n",
       "    </tr>\n",
       "  </tbody>\n",
       "</table>\n",
       "</div>"
      ],
      "text/plain": [
       "    a   b    c  x2  x3   x4\n",
       "0   5  10  100   1  10  100\n",
       "1  15  20  200   2  20  200\n",
       "2  25  30  300   3  30  300\n",
       "3  35  40  400   4  40  400\n",
       "4  45  50  500   5  50  500"
      ]
     },
     "execution_count": 102,
     "metadata": {},
     "output_type": "execute_result"
    }
   ],
   "source": [
    "import pandas as pd\n",
    "\n",
    "data = {\n",
    "    'a': [5, 15, 25, 35, 45],\n",
    "    'b': [10, 20, 30, 40, 50],\n",
    "    'c': [100, 200, 300, 400, 500],\n",
    "    'x2': [1, 2, 3, 4, 5],\n",
    "    'x3': [10, 20, 30, 40, 50],\n",
    "    'x4': [100, 200, 300, 400, 500]\n",
    "}\n",
    "\n",
    "df = pd.DataFrame(data)\n",
    "df"
   ]
  },
  {
   "cell_type": "markdown",
   "id": "2a037183",
   "metadata": {},
   "source": [
    "1. `df.iloc[1:4]`  \n",
    "Select rows by position from 1 to 3 (4 exclusive)."
   ]
  },
  {
   "cell_type": "code",
   "execution_count": 104,
   "id": "a1bf9aa2",
   "metadata": {},
   "outputs": [
    {
     "data": {
      "text/html": [
       "<div>\n",
       "<style scoped>\n",
       "    .dataframe tbody tr th:only-of-type {\n",
       "        vertical-align: middle;\n",
       "    }\n",
       "\n",
       "    .dataframe tbody tr th {\n",
       "        vertical-align: top;\n",
       "    }\n",
       "\n",
       "    .dataframe thead th {\n",
       "        text-align: right;\n",
       "    }\n",
       "</style>\n",
       "<table border=\"1\" class=\"dataframe\">\n",
       "  <thead>\n",
       "    <tr style=\"text-align: right;\">\n",
       "      <th></th>\n",
       "      <th>a</th>\n",
       "      <th>b</th>\n",
       "      <th>c</th>\n",
       "      <th>x2</th>\n",
       "      <th>x3</th>\n",
       "      <th>x4</th>\n",
       "    </tr>\n",
       "  </thead>\n",
       "  <tbody>\n",
       "    <tr>\n",
       "      <th>1</th>\n",
       "      <td>15</td>\n",
       "      <td>20</td>\n",
       "      <td>200</td>\n",
       "      <td>2</td>\n",
       "      <td>20</td>\n",
       "      <td>200</td>\n",
       "    </tr>\n",
       "    <tr>\n",
       "      <th>2</th>\n",
       "      <td>25</td>\n",
       "      <td>30</td>\n",
       "      <td>300</td>\n",
       "      <td>3</td>\n",
       "      <td>30</td>\n",
       "      <td>300</td>\n",
       "    </tr>\n",
       "    <tr>\n",
       "      <th>3</th>\n",
       "      <td>35</td>\n",
       "      <td>40</td>\n",
       "      <td>400</td>\n",
       "      <td>4</td>\n",
       "      <td>40</td>\n",
       "      <td>400</td>\n",
       "    </tr>\n",
       "  </tbody>\n",
       "</table>\n",
       "</div>"
      ],
      "text/plain": [
       "    a   b    c  x2  x3   x4\n",
       "1  15  20  200   2  20  200\n",
       "2  25  30  300   3  30  300\n",
       "3  35  40  400   4  40  400"
      ]
     },
     "execution_count": 104,
     "metadata": {},
     "output_type": "execute_result"
    }
   ],
   "source": [
    "df.iloc[1:4]  # rows 1, 2, 3"
   ]
  },
  {
   "cell_type": "markdown",
   "id": "4bf0ec1f",
   "metadata": {},
   "source": [
    "2. `df.iloc[:, [1, 2, 5]]`  \n",
    "* Select all rows (`:`) but only columns in positions 1, 2, and 5.\n",
    "\n",
    "* Column positions start at 0, so this selects columns b, c, and x4."
   ]
  },
  {
   "cell_type": "code",
   "execution_count": 105,
   "id": "ddc75b86",
   "metadata": {},
   "outputs": [
    {
     "data": {
      "text/html": [
       "<div>\n",
       "<style scoped>\n",
       "    .dataframe tbody tr th:only-of-type {\n",
       "        vertical-align: middle;\n",
       "    }\n",
       "\n",
       "    .dataframe tbody tr th {\n",
       "        vertical-align: top;\n",
       "    }\n",
       "\n",
       "    .dataframe thead th {\n",
       "        text-align: right;\n",
       "    }\n",
       "</style>\n",
       "<table border=\"1\" class=\"dataframe\">\n",
       "  <thead>\n",
       "    <tr style=\"text-align: right;\">\n",
       "      <th></th>\n",
       "      <th>b</th>\n",
       "      <th>c</th>\n",
       "      <th>x4</th>\n",
       "    </tr>\n",
       "  </thead>\n",
       "  <tbody>\n",
       "    <tr>\n",
       "      <th>0</th>\n",
       "      <td>10</td>\n",
       "      <td>100</td>\n",
       "      <td>100</td>\n",
       "    </tr>\n",
       "    <tr>\n",
       "      <th>1</th>\n",
       "      <td>20</td>\n",
       "      <td>200</td>\n",
       "      <td>200</td>\n",
       "    </tr>\n",
       "    <tr>\n",
       "      <th>2</th>\n",
       "      <td>30</td>\n",
       "      <td>300</td>\n",
       "      <td>300</td>\n",
       "    </tr>\n",
       "    <tr>\n",
       "      <th>3</th>\n",
       "      <td>40</td>\n",
       "      <td>400</td>\n",
       "      <td>400</td>\n",
       "    </tr>\n",
       "    <tr>\n",
       "      <th>4</th>\n",
       "      <td>50</td>\n",
       "      <td>500</td>\n",
       "      <td>500</td>\n",
       "    </tr>\n",
       "  </tbody>\n",
       "</table>\n",
       "</div>"
      ],
      "text/plain": [
       "    b    c   x4\n",
       "0  10  100  100\n",
       "1  20  200  200\n",
       "2  30  300  300\n",
       "3  40  400  400\n",
       "4  50  500  500"
      ]
     },
     "execution_count": 105,
     "metadata": {},
     "output_type": "execute_result"
    }
   ],
   "source": [
    "df.iloc[:, [1, 2, 5]]"
   ]
  },
  {
   "cell_type": "markdown",
   "id": "c1ca238a",
   "metadata": {},
   "source": [
    "3. `df.loc[:, 'x2':'x4']`\n",
    "* Select all rows (`:`) and all columns from `'x2'` to `'x4'` inclusive.\n",
    "\n",
    "* So, columns `x2`, `x3`, `x4`."
   ]
  },
  {
   "cell_type": "code",
   "execution_count": 107,
   "id": "ced2e21b",
   "metadata": {},
   "outputs": [
    {
     "data": {
      "text/html": [
       "<div>\n",
       "<style scoped>\n",
       "    .dataframe tbody tr th:only-of-type {\n",
       "        vertical-align: middle;\n",
       "    }\n",
       "\n",
       "    .dataframe tbody tr th {\n",
       "        vertical-align: top;\n",
       "    }\n",
       "\n",
       "    .dataframe thead th {\n",
       "        text-align: right;\n",
       "    }\n",
       "</style>\n",
       "<table border=\"1\" class=\"dataframe\">\n",
       "  <thead>\n",
       "    <tr style=\"text-align: right;\">\n",
       "      <th></th>\n",
       "      <th>x2</th>\n",
       "      <th>x3</th>\n",
       "      <th>x4</th>\n",
       "    </tr>\n",
       "  </thead>\n",
       "  <tbody>\n",
       "    <tr>\n",
       "      <th>0</th>\n",
       "      <td>1</td>\n",
       "      <td>10</td>\n",
       "      <td>100</td>\n",
       "    </tr>\n",
       "    <tr>\n",
       "      <th>1</th>\n",
       "      <td>2</td>\n",
       "      <td>20</td>\n",
       "      <td>200</td>\n",
       "    </tr>\n",
       "    <tr>\n",
       "      <th>2</th>\n",
       "      <td>3</td>\n",
       "      <td>30</td>\n",
       "      <td>300</td>\n",
       "    </tr>\n",
       "    <tr>\n",
       "      <th>3</th>\n",
       "      <td>4</td>\n",
       "      <td>40</td>\n",
       "      <td>400</td>\n",
       "    </tr>\n",
       "    <tr>\n",
       "      <th>4</th>\n",
       "      <td>5</td>\n",
       "      <td>50</td>\n",
       "      <td>500</td>\n",
       "    </tr>\n",
       "  </tbody>\n",
       "</table>\n",
       "</div>"
      ],
      "text/plain": [
       "   x2  x3   x4\n",
       "0   1  10  100\n",
       "1   2  20  200\n",
       "2   3  30  300\n",
       "3   4  40  400\n",
       "4   5  50  500"
      ]
     },
     "execution_count": 107,
     "metadata": {},
     "output_type": "execute_result"
    }
   ],
   "source": [
    "df.loc[:, 'x2':'x4']"
   ]
  },
  {
   "cell_type": "markdown",
   "id": "c7a9bf41",
   "metadata": {},
   "source": [
    "4. `df.loc[df['a'] > 10, ['a', 'c']]`\n",
    "* Select rows where column `'a'` is greater than 10.\n",
    "\n",
    "* Select only columns `'a'` and `'c'` for those rows."
   ]
  },
  {
   "cell_type": "code",
   "execution_count": 108,
   "id": "320726ca",
   "metadata": {},
   "outputs": [
    {
     "data": {
      "text/html": [
       "<div>\n",
       "<style scoped>\n",
       "    .dataframe tbody tr th:only-of-type {\n",
       "        vertical-align: middle;\n",
       "    }\n",
       "\n",
       "    .dataframe tbody tr th {\n",
       "        vertical-align: top;\n",
       "    }\n",
       "\n",
       "    .dataframe thead th {\n",
       "        text-align: right;\n",
       "    }\n",
       "</style>\n",
       "<table border=\"1\" class=\"dataframe\">\n",
       "  <thead>\n",
       "    <tr style=\"text-align: right;\">\n",
       "      <th></th>\n",
       "      <th>a</th>\n",
       "      <th>c</th>\n",
       "    </tr>\n",
       "  </thead>\n",
       "  <tbody>\n",
       "    <tr>\n",
       "      <th>1</th>\n",
       "      <td>15</td>\n",
       "      <td>200</td>\n",
       "    </tr>\n",
       "    <tr>\n",
       "      <th>2</th>\n",
       "      <td>25</td>\n",
       "      <td>300</td>\n",
       "    </tr>\n",
       "    <tr>\n",
       "      <th>3</th>\n",
       "      <td>35</td>\n",
       "      <td>400</td>\n",
       "    </tr>\n",
       "    <tr>\n",
       "      <th>4</th>\n",
       "      <td>45</td>\n",
       "      <td>500</td>\n",
       "    </tr>\n",
       "  </tbody>\n",
       "</table>\n",
       "</div>"
      ],
      "text/plain": [
       "    a    c\n",
       "1  15  200\n",
       "2  25  300\n",
       "3  35  400\n",
       "4  45  500"
      ]
     },
     "execution_count": 108,
     "metadata": {},
     "output_type": "execute_result"
    }
   ],
   "source": [
    "df.loc[df['a'] > 10, ['a', 'c']]"
   ]
  },
  {
   "cell_type": "markdown",
   "id": "2267d10d",
   "metadata": {},
   "source": [
    "5. `df.iat[1, 2]`\n",
    "* Access a single value by row and column integer position.\n",
    "\n",
    "* Row 1, column 2 (0-based indexing).\n",
    "\n",
    "* Row 1 is second row, column 2 is third column, which is `'c'`."
   ]
  },
  {
   "cell_type": "code",
   "execution_count": 110,
   "id": "c7a738f3",
   "metadata": {},
   "outputs": [
    {
     "name": "stdout",
     "output_type": "stream",
     "text": [
      "200\n"
     ]
    }
   ],
   "source": [
    "print(df.iat[1, 2])"
   ]
  },
  {
   "cell_type": "markdown",
   "id": "88e1a3b2",
   "metadata": {},
   "source": [
    "6. `df.at[4, 'a']`\n",
    "* Access a single value by label.\n",
    "* Row label 4, column label 'a'.\n"
   ]
  },
  {
   "cell_type": "code",
   "execution_count": 112,
   "id": "2beff6eb",
   "metadata": {},
   "outputs": [
    {
     "name": "stdout",
     "output_type": "stream",
     "text": [
      "45\n"
     ]
    }
   ],
   "source": [
    "print(df.at[4, 'a'])"
   ]
  },
  {
   "cell_type": "markdown",
   "id": "ae5ef0c1",
   "metadata": {},
   "source": [
    "# Group Data"
   ]
  },
  {
   "cell_type": "code",
   "execution_count": 34,
   "id": "198bd505",
   "metadata": {},
   "outputs": [
    {
     "name": "stdout",
     "output_type": "stream",
     "text": [
      "          City Category  Sales\n",
      "0     New York     Food    100\n",
      "1  Los Angeles     Food    150\n",
      "2     New York     Tech    200\n",
      "3  Los Angeles     Tech    250\n",
      "4      Chicago     Food    300\n",
      "5      Chicago     Tech    350\n"
     ]
    }
   ],
   "source": [
    "import pandas as pd\n",
    "\n",
    "# Sample DataFrame\n",
    "data = {\n",
    "    'City': ['New York', 'Los Angeles', 'New York', 'Los Angeles', 'Chicago', 'Chicago'],\n",
    "    'Category': ['Food', 'Food', 'Tech', 'Tech', 'Food', 'Tech'],\n",
    "    'Sales': [100, 150, 200, 250, 300, 350]\n",
    "}\n",
    "\n",
    "df = pd.DataFrame(data)\n",
    "print(df)\n"
   ]
  },
  {
   "cell_type": "markdown",
   "id": "75b8ccbe",
   "metadata": {},
   "source": [
    "1. `df.groupby(by=\"col\")`  \n",
    "Group the data by values in a column. For example, group by `\"City\"` to see total sales per city:"
   ]
  },
  {
   "cell_type": "code",
   "execution_count": 4,
   "id": "8998ad74",
   "metadata": {},
   "outputs": [
    {
     "name": "stdout",
     "output_type": "stream",
     "text": [
      "             Category  Sales\n",
      "City                        \n",
      "Chicago      FoodTech    650\n",
      "Los Angeles  FoodTech    400\n",
      "New York     FoodTech    300\n"
     ]
    }
   ],
   "source": [
    "grouped = df.groupby(by=\"City\").sum()\n",
    "print(grouped)"
   ]
  },
  {
   "cell_type": "markdown",
   "id": "6bd6199f",
   "metadata": {},
   "source": [
    "2. `df.groupby(level=\"ind\")`  \n",
    "Group by an index level (if the DataFrame has a MultiIndex). For example:"
   ]
  },
  {
   "cell_type": "code",
   "execution_count": 6,
   "id": "61b0f684",
   "metadata": {},
   "outputs": [
    {
     "name": "stdout",
     "output_type": "stream",
     "text": [
      "                      Sales\n",
      "City        Category       \n",
      "New York    Food        100\n",
      "Los Angeles Food        150\n",
      "New York    Tech        200\n",
      "Los Angeles Tech        250\n",
      "Chicago     Food        300\n",
      "            Tech        350\n",
      "\n",
      "             Sales\n",
      "City              \n",
      "Chicago        650\n",
      "Los Angeles    400\n",
      "New York       300\n"
     ]
    }
   ],
   "source": [
    "# Create a MultiIndex DataFrame\n",
    "df2 = df.set_index(['City', 'Category'])\n",
    "print(df2)\n",
    "print()\n",
    "grouped_level = df2.groupby(level='City').sum()\n",
    "print(grouped_level)"
   ]
  },
  {
   "cell_type": "markdown",
   "id": "fcb36073",
   "metadata": {},
   "source": [
    "3. `size()`  \n",
    "Count the number of rows in each group:"
   ]
  },
  {
   "cell_type": "code",
   "execution_count": 7,
   "id": "9dee5b09",
   "metadata": {},
   "outputs": [
    {
     "name": "stdout",
     "output_type": "stream",
     "text": [
      "City\n",
      "Chicago        2\n",
      "Los Angeles    2\n",
      "New York       2\n",
      "dtype: int64\n"
     ]
    }
   ],
   "source": [
    "group_size = df.groupby('City').size()\n",
    "print(group_size)\n"
   ]
  },
  {
   "cell_type": "markdown",
   "id": "85ff50f7",
   "metadata": {},
   "source": [
    "4. `agg(function)`  \n",
    "Apply an aggregate function to each group. For example, get min, max, and mean sales per city:"
   ]
  },
  {
   "cell_type": "code",
   "execution_count": 8,
   "id": "35c17fc0",
   "metadata": {},
   "outputs": [
    {
     "name": "stdout",
     "output_type": "stream",
     "text": [
      "            Sales            \n",
      "              min  max   mean\n",
      "City                         \n",
      "Chicago       300  350  325.0\n",
      "Los Angeles   150  250  200.0\n",
      "New York      100  200  150.0\n"
     ]
    }
   ],
   "source": [
    "group_agg = df.groupby('City').agg({'Sales': ['min', 'max', 'mean']})\n",
    "print(group_agg)\n"
   ]
  },
  {
   "cell_type": "markdown",
   "id": "acac6dc0",
   "metadata": {},
   "source": [
    "5. `shift(1)`  \n",
    "Shift values within each group forward by 1 row (e.g., previous row's value):"
   ]
  },
  {
   "cell_type": "code",
   "execution_count": 9,
   "id": "0ca2201b",
   "metadata": {},
   "outputs": [
    {
     "name": "stdout",
     "output_type": "stream",
     "text": [
      "          City Category  Sales  Sales_shifted\n",
      "0     New York     Food    100            NaN\n",
      "1  Los Angeles     Food    150            NaN\n",
      "2     New York     Tech    200          100.0\n",
      "3  Los Angeles     Tech    250          150.0\n",
      "4      Chicago     Food    300            NaN\n",
      "5      Chicago     Tech    350          300.0\n"
     ]
    }
   ],
   "source": [
    "df['Sales_shifted'] = df.groupby('City')['Sales'].shift(1)\n",
    "print(df)\n"
   ]
  },
  {
   "cell_type": "markdown",
   "id": "4171fb49",
   "metadata": {},
   "source": [
    "6. `shift(-1)`  \n",
    "Shift values within each group backward by 1 row (next row's value):"
   ]
  },
  {
   "cell_type": "code",
   "execution_count": 10,
   "id": "e042b786",
   "metadata": {},
   "outputs": [
    {
     "name": "stdout",
     "output_type": "stream",
     "text": [
      "          City Category  Sales  Sales_shifted  Sales_shifted_back\n",
      "0     New York     Food    100            NaN               200.0\n",
      "1  Los Angeles     Food    150            NaN               250.0\n",
      "2     New York     Tech    200          100.0                 NaN\n",
      "3  Los Angeles     Tech    250          150.0                 NaN\n",
      "4      Chicago     Food    300            NaN               350.0\n",
      "5      Chicago     Tech    350          300.0                 NaN\n"
     ]
    }
   ],
   "source": [
    "df['Sales_shifted_back'] = df.groupby('City')['Sales'].shift(-1)\n",
    "print(df)"
   ]
  },
  {
   "cell_type": "markdown",
   "id": "c634f8e8",
   "metadata": {},
   "source": [
    "7. `rank(method='dense')`  \n",
    "Rank values in each group without gaps: ( 1, 1, 2, 3- no gaps )"
   ]
  },
  {
   "cell_type": "code",
   "execution_count": 47,
   "id": "c384e437",
   "metadata": {},
   "outputs": [
    {
     "name": "stdout",
     "output_type": "stream",
     "text": [
      "   Sales  Rank(dense)\n",
      "0     70          1.0\n",
      "1     70          1.0\n",
      "2     80          2.0\n",
      "3     90          3.0\n",
      "4    100          4.0\n"
     ]
    }
   ],
   "source": [
    "import pandas as pd\n",
    "\n",
    "sales = [70, 70, 80, 90, 100]\n",
    "df2 = pd.DataFrame({'Sales': sales})\n",
    "\n",
    "df2['Rank(dense)'] = df2['Sales'].rank(method='dense')\n",
    "print(df2)"
   ]
  },
  {
   "cell_type": "markdown",
   "id": "0470f801",
   "metadata": {},
   "source": [
    "8. `rank(method='min')`  \n",
    "Rank values with ties getting the minimum rank: Gaps after ties"
   ]
  },
  {
   "cell_type": "code",
   "execution_count": 38,
   "id": "b99934d6",
   "metadata": {},
   "outputs": [
    {
     "name": "stdout",
     "output_type": "stream",
     "text": [
      "   Sales  Rank(min)\n",
      "0     70        1.0\n",
      "1     70        1.0\n",
      "2     80        3.0\n",
      "3     90        4.0\n",
      "4    100        5.0\n"
     ]
    }
   ],
   "source": [
    "import pandas as pd\n",
    "\n",
    "sales = [70, 70, 80, 90, 100]\n",
    "df2 = pd.DataFrame({'Sales': sales})\n",
    "\n",
    "df2['Rank(min)'] = df2['Sales'].rank(method='min')\n",
    "print(df2)"
   ]
  },
  {
   "cell_type": "markdown",
   "id": "4b9796a7",
   "metadata": {},
   "source": [
    "9. `rank(method='first')`  \n",
    "Ranks with ties assigned in the order they appear: (First come, first serve)"
   ]
  },
  {
   "cell_type": "code",
   "execution_count": 46,
   "id": "3454f729",
   "metadata": {},
   "outputs": [
    {
     "name": "stdout",
     "output_type": "stream",
     "text": [
      "   Sales  Rank_First\n",
      "0     70         1.0\n",
      "1     70         2.0\n",
      "2     80         3.0\n",
      "3     90         4.0\n",
      "4    100         5.0\n"
     ]
    }
   ],
   "source": [
    "import pandas as pd\n",
    "\n",
    "sales = [70, 70, 80, 90, 100,]\n",
    "df = pd.DataFrame({'Sales': sales})\n",
    "\n",
    "df['Rank_First'] = df['Sales'].rank(method='first')\n",
    "print(df)"
   ]
  },
  {
   "cell_type": "markdown",
   "id": "d55ff696",
   "metadata": {},
   "source": [
    "10. `rank(pct=True)`  \n",
    "Rank values scaled between 0 and 1:"
   ]
  },
  {
   "cell_type": "code",
   "execution_count": 25,
   "id": "43f06257",
   "metadata": {},
   "outputs": [
    {
     "name": "stdout",
     "output_type": "stream",
     "text": [
      "   Sales  Percentile_Rank\n",
      "0     10              0.2\n",
      "1     20              0.4\n",
      "2     30              0.6\n",
      "3     40              0.8\n",
      "4     50              1.0\n"
     ]
    }
   ],
   "source": [
    "import pandas as pd\n",
    "\n",
    "sales = [10, 20, 30, 40, 50]\n",
    "df = pd.DataFrame({'Sales': sales})\n",
    "\n",
    "df['Percentile_Rank'] = df['Sales'].rank(pct=True)\n",
    "print(df)"
   ]
  },
  {
   "cell_type": "markdown",
   "id": "545acc3b",
   "metadata": {},
   "source": [
    "11. `cumsum()`  \n",
    "Calculate cumulative sum of sales within each group:"
   ]
  },
  {
   "cell_type": "code",
   "execution_count": 44,
   "id": "76fe2b1f",
   "metadata": {},
   "outputs": [
    {
     "name": "stdout",
     "output_type": "stream",
     "text": [
      "   Sales  Cumulative Sum\n",
      "0     70              70\n",
      "1     70             140\n",
      "2     80             220\n",
      "3     90             310\n",
      "4    100             410\n"
     ]
    }
   ],
   "source": [
    "import pandas as pd\n",
    "\n",
    "sales = [70, 70, 80, 90, 100]\n",
    "df2 = pd.DataFrame({'Sales': sales})\n",
    "\n",
    "df2['Cumulative Sum'] = df2['Sales'].cumsum()\n",
    "print(df2)"
   ]
  },
  {
   "cell_type": "markdown",
   "id": "f0123e42",
   "metadata": {},
   "source": [
    "12. `cummax()`  \n",
    "Cumulative max of sales within each group:"
   ]
  },
  {
   "cell_type": "code",
   "execution_count": 43,
   "id": "e4737ac5",
   "metadata": {},
   "outputs": [
    {
     "name": "stdout",
     "output_type": "stream",
     "text": [
      "   Sales  Cumulative_Max\n",
      "0     10              10\n",
      "1     20              20\n",
      "2     15              20\n",
      "3     30              30\n",
      "4     25              30\n"
     ]
    }
   ],
   "source": [
    "import pandas as pd\n",
    "\n",
    "sales = [10, 20, 15, 30, 25]\n",
    "df = pd.DataFrame({'Sales': sales})\n",
    "\n",
    "df['Cumulative_Max'] = df['Sales'].cummax()\n",
    "print(df)"
   ]
  },
  {
   "cell_type": "markdown",
   "id": "351e1bb8",
   "metadata": {},
   "source": [
    "13. `cummin()`  \n",
    "Cumulative min of sales within each group:"
   ]
  },
  {
   "cell_type": "code",
   "execution_count": 42,
   "id": "4e050c33",
   "metadata": {},
   "outputs": [
    {
     "name": "stdout",
     "output_type": "stream",
     "text": [
      "   Sales  Cumulative_Min\n",
      "0    100             100\n",
      "1     80              80\n",
      "2     90              80\n",
      "3     70              70\n",
      "4     85              70\n"
     ]
    }
   ],
   "source": [
    "import pandas as pd\n",
    "\n",
    "sales = [100, 80, 90, 70, 85]\n",
    "df = pd.DataFrame({'Sales': sales})\n",
    "\n",
    "df['Cumulative_Min'] = df['Sales'].cummin()\n",
    "print(df)"
   ]
  },
  {
   "cell_type": "markdown",
   "id": "7b013ff7",
   "metadata": {},
   "source": [
    "14. `cumprod()`  \n",
    "Cumulative product of sales within each group:"
   ]
  },
  {
   "cell_type": "code",
   "execution_count": 31,
   "id": "e887b5b4",
   "metadata": {},
   "outputs": [
    {
     "name": "stdout",
     "output_type": "stream",
     "text": [
      "   Value  Cumulative_Product\n",
      "0      2                   2\n",
      "1      3                   6\n",
      "2      4                  24\n",
      "3      5                 120\n"
     ]
    }
   ],
   "source": [
    "import pandas as pd\n",
    "\n",
    "values = [2, 3, 4, 5]\n",
    "df = pd.DataFrame({'Value': values})\n",
    "\n",
    "df['Cumulative_Product'] = df['Value'].cumprod()\n",
    "print(df)"
   ]
  },
  {
   "cell_type": "markdown",
   "id": "a9caa770",
   "metadata": {},
   "source": [
    "# Summarize Data"
   ]
  },
  {
   "cell_type": "code",
   "execution_count": 48,
   "id": "3cd476fb",
   "metadata": {},
   "outputs": [
    {
     "name": "stdout",
     "output_type": "stream",
     "text": [
      "  Customer     Category  Amount\n",
      "0    Alice  Electronics     250\n",
      "1      Bob     Clothing      80\n",
      "2    Alice     Clothing     120\n",
      "3    David  Electronics     300\n",
      "4      Bob     Clothing      90\n",
      "5    Alice      Grocery      45\n"
     ]
    }
   ],
   "source": [
    "import pandas as pd\n",
    "\n",
    "data = {\n",
    "    'Customer': ['Alice', 'Bob', 'Alice', 'David', 'Bob', 'Alice'],\n",
    "    'Category': ['Electronics', 'Clothing', 'Clothing', 'Electronics', 'Clothing', 'Grocery'],\n",
    "    'Amount': [250, 80, 120, 300, 90, 45]\n",
    "}\n",
    "df = pd.DataFrame(data)\n",
    "print(df)\n"
   ]
  },
  {
   "cell_type": "markdown",
   "id": "9afe8d32",
   "metadata": {},
   "source": [
    " 1. `df['w'].value_counts()`  \n",
    " Count how many times each value appears in a column:"
   ]
  },
  {
   "cell_type": "code",
   "execution_count": 49,
   "id": "89bbbcc7",
   "metadata": {},
   "outputs": [
    {
     "data": {
      "text/plain": [
       "Customer\n",
       "Alice    3\n",
       "Bob      2\n",
       "David    1\n",
       "Name: count, dtype: int64"
      ]
     },
     "execution_count": 49,
     "metadata": {},
     "output_type": "execute_result"
    }
   ],
   "source": [
    "df['Customer'].value_counts()\n"
   ]
  },
  {
   "cell_type": "markdown",
   "id": "e4298975",
   "metadata": {},
   "source": [
    "2. `len(df)`  \n",
    "Number of rows in the DataFrame:"
   ]
  },
  {
   "cell_type": "code",
   "execution_count": 50,
   "id": "91398a9d",
   "metadata": {},
   "outputs": [
    {
     "data": {
      "text/plain": [
       "6"
      ]
     },
     "execution_count": 50,
     "metadata": {},
     "output_type": "execute_result"
    }
   ],
   "source": [
    "len(df)\n"
   ]
  },
  {
   "cell_type": "markdown",
   "id": "5e926888",
   "metadata": {},
   "source": [
    "3. `df.shape`  \n",
    "Get the shape: (rows, columns):"
   ]
  },
  {
   "cell_type": "code",
   "execution_count": 51,
   "id": "9bdce99c",
   "metadata": {},
   "outputs": [
    {
     "data": {
      "text/plain": [
       "(6, 3)"
      ]
     },
     "execution_count": 51,
     "metadata": {},
     "output_type": "execute_result"
    }
   ],
   "source": [
    "df.shape\n"
   ]
  },
  {
   "cell_type": "markdown",
   "id": "525568d3",
   "metadata": {},
   "source": [
    "4. `df['w'].nunique()`  \n",
    "Number of unique/distinct values in a column:"
   ]
  },
  {
   "cell_type": "code",
   "execution_count": 52,
   "id": "381a1461",
   "metadata": {},
   "outputs": [
    {
     "data": {
      "text/plain": [
       "3"
      ]
     },
     "execution_count": 52,
     "metadata": {},
     "output_type": "execute_result"
    }
   ],
   "source": [
    "df['Category'].nunique()"
   ]
  },
  {
   "cell_type": "markdown",
   "id": "4ede09b1",
   "metadata": {},
   "source": [
    "5. `df.describe()`  \n",
    "Basic stats: count, mean, std, min, max, etc."
   ]
  },
  {
   "cell_type": "code",
   "execution_count": 53,
   "id": "d638a5d2",
   "metadata": {},
   "outputs": [
    {
     "data": {
      "text/html": [
       "<div>\n",
       "<style scoped>\n",
       "    .dataframe tbody tr th:only-of-type {\n",
       "        vertical-align: middle;\n",
       "    }\n",
       "\n",
       "    .dataframe tbody tr th {\n",
       "        vertical-align: top;\n",
       "    }\n",
       "\n",
       "    .dataframe thead th {\n",
       "        text-align: right;\n",
       "    }\n",
       "</style>\n",
       "<table border=\"1\" class=\"dataframe\">\n",
       "  <thead>\n",
       "    <tr style=\"text-align: right;\">\n",
       "      <th></th>\n",
       "      <th>Amount</th>\n",
       "    </tr>\n",
       "  </thead>\n",
       "  <tbody>\n",
       "    <tr>\n",
       "      <th>count</th>\n",
       "      <td>6.000000</td>\n",
       "    </tr>\n",
       "    <tr>\n",
       "      <th>mean</th>\n",
       "      <td>147.500000</td>\n",
       "    </tr>\n",
       "    <tr>\n",
       "      <th>std</th>\n",
       "      <td>102.846974</td>\n",
       "    </tr>\n",
       "    <tr>\n",
       "      <th>min</th>\n",
       "      <td>45.000000</td>\n",
       "    </tr>\n",
       "    <tr>\n",
       "      <th>25%</th>\n",
       "      <td>82.500000</td>\n",
       "    </tr>\n",
       "    <tr>\n",
       "      <th>50%</th>\n",
       "      <td>105.000000</td>\n",
       "    </tr>\n",
       "    <tr>\n",
       "      <th>75%</th>\n",
       "      <td>217.500000</td>\n",
       "    </tr>\n",
       "    <tr>\n",
       "      <th>max</th>\n",
       "      <td>300.000000</td>\n",
       "    </tr>\n",
       "  </tbody>\n",
       "</table>\n",
       "</div>"
      ],
      "text/plain": [
       "           Amount\n",
       "count    6.000000\n",
       "mean   147.500000\n",
       "std    102.846974\n",
       "min     45.000000\n",
       "25%     82.500000\n",
       "50%    105.000000\n",
       "75%    217.500000\n",
       "max    300.000000"
      ]
     },
     "execution_count": 53,
     "metadata": {},
     "output_type": "execute_result"
    }
   ],
   "source": [
    "df.describe()\n"
   ]
  },
  {
   "cell_type": "markdown",
   "id": "18e2cfaf",
   "metadata": {},
   "source": [
    "6. `df.info()`  \n",
    "Print a summary: column names, types, non-null count."
   ]
  },
  {
   "cell_type": "code",
   "execution_count": 54,
   "id": "a074878c",
   "metadata": {},
   "outputs": [
    {
     "name": "stdout",
     "output_type": "stream",
     "text": [
      "<class 'pandas.core.frame.DataFrame'>\n",
      "RangeIndex: 6 entries, 0 to 5\n",
      "Data columns (total 3 columns):\n",
      " #   Column    Non-Null Count  Dtype \n",
      "---  ------    --------------  ----- \n",
      " 0   Customer  6 non-null      object\n",
      " 1   Category  6 non-null      object\n",
      " 2   Amount    6 non-null      int64 \n",
      "dtypes: int64(1), object(2)\n",
      "memory usage: 272.0+ bytes\n"
     ]
    }
   ],
   "source": [
    "df.info()"
   ]
  },
  {
   "cell_type": "markdown",
   "id": "72aa2a91",
   "metadata": {},
   "source": [
    " 7. `df.memory_usage()`  \n",
    "Memory used by each column:"
   ]
  },
  {
   "cell_type": "code",
   "execution_count": 55,
   "id": "38113f80",
   "metadata": {},
   "outputs": [
    {
     "data": {
      "text/plain": [
       "Index       128\n",
       "Customer     48\n",
       "Category     48\n",
       "Amount       48\n",
       "dtype: int64"
      ]
     },
     "execution_count": 55,
     "metadata": {},
     "output_type": "execute_result"
    }
   ],
   "source": [
    "df.memory_usage()"
   ]
  },
  {
   "cell_type": "markdown",
   "id": "6812ae2e",
   "metadata": {},
   "source": [
    "8. `df.dtypes`  \n",
    "Check the data types of each column:"
   ]
  },
  {
   "cell_type": "code",
   "execution_count": 56,
   "id": "cda2ab30",
   "metadata": {},
   "outputs": [
    {
     "data": {
      "text/plain": [
       "Customer    object\n",
       "Category    object\n",
       "Amount       int64\n",
       "dtype: object"
      ]
     },
     "execution_count": 56,
     "metadata": {},
     "output_type": "execute_result"
    }
   ],
   "source": [
    "df.dtypes\n"
   ]
  },
  {
   "cell_type": "markdown",
   "id": "e9cb0d92",
   "metadata": {},
   "source": [
    "## Summary Functions"
   ]
  },
  {
   "cell_type": "markdown",
   "id": "658eb9b1",
   "metadata": {},
   "source": [
    "`sum()` - Total"
   ]
  },
  {
   "cell_type": "code",
   "execution_count": 57,
   "id": "9dee7a0f",
   "metadata": {},
   "outputs": [
    {
     "data": {
      "text/plain": [
       "np.int64(885)"
      ]
     },
     "execution_count": 57,
     "metadata": {},
     "output_type": "execute_result"
    }
   ],
   "source": [
    "df['Amount'].sum()\n",
    "# Output: 885\n"
   ]
  },
  {
   "cell_type": "markdown",
   "id": "e787f181",
   "metadata": {},
   "source": [
    "`count()` - Count non-null"
   ]
  },
  {
   "cell_type": "code",
   "execution_count": 58,
   "id": "460b1c69",
   "metadata": {},
   "outputs": [
    {
     "data": {
      "text/plain": [
       "np.int64(6)"
      ]
     },
     "execution_count": 58,
     "metadata": {},
     "output_type": "execute_result"
    }
   ],
   "source": [
    "df['Customer'].count()\n",
    "# Output: 6\n"
   ]
  },
  {
   "cell_type": "markdown",
   "id": "e913b9b3",
   "metadata": {},
   "source": [
    "`median()` - Middle value"
   ]
  },
  {
   "cell_type": "code",
   "execution_count": 59,
   "id": "3ad07fb2",
   "metadata": {},
   "outputs": [
    {
     "data": {
      "text/plain": [
       "np.float64(105.0)"
      ]
     },
     "execution_count": 59,
     "metadata": {},
     "output_type": "execute_result"
    }
   ],
   "source": [
    "df['Amount'].median()\n",
    "# Output: 105.0\n"
   ]
  },
  {
   "cell_type": "markdown",
   "id": "546bebd6",
   "metadata": {},
   "source": [
    "`quantile([0.25, 0.75])`"
   ]
  },
  {
   "cell_type": "code",
   "execution_count": 60,
   "id": "d34f07d9",
   "metadata": {},
   "outputs": [
    {
     "data": {
      "text/plain": [
       "0.25     82.5\n",
       "0.75    217.5\n",
       "Name: Amount, dtype: float64"
      ]
     },
     "execution_count": 60,
     "metadata": {},
     "output_type": "execute_result"
    }
   ],
   "source": [
    "df['Amount'].quantile([0.25, 0.75])\n",
    "# Output:\n",
    "# 0.25     82.5\n",
    "# 0.75    217.5\n"
   ]
  },
  {
   "cell_type": "markdown",
   "id": "66dcd489",
   "metadata": {},
   "source": [
    "`apply(function)`"
   ]
  },
  {
   "cell_type": "code",
   "execution_count": 61,
   "id": "a2421fa1",
   "metadata": {},
   "outputs": [
    {
     "data": {
      "text/plain": [
       "0    275.0\n",
       "1     88.0\n",
       "2    132.0\n",
       "3    330.0\n",
       "4     99.0\n",
       "5     49.5\n",
       "Name: Amount, dtype: float64"
      ]
     },
     "execution_count": 61,
     "metadata": {},
     "output_type": "execute_result"
    }
   ],
   "source": [
    "df['Amount'].apply(lambda x: x * 1.1)  # Add 10% tax"
   ]
  },
  {
   "cell_type": "markdown",
   "id": "63c7671f",
   "metadata": {},
   "source": [
    "`min() / max()`"
   ]
  },
  {
   "cell_type": "code",
   "execution_count": 62,
   "id": "c2f504e9",
   "metadata": {},
   "outputs": [
    {
     "data": {
      "text/plain": [
       "np.int64(300)"
      ]
     },
     "execution_count": 62,
     "metadata": {},
     "output_type": "execute_result"
    }
   ],
   "source": [
    "df['Amount'].min()  # 45\n",
    "df['Amount'].max()  # 300\n"
   ]
  },
  {
   "cell_type": "markdown",
   "id": "c86636aa",
   "metadata": {},
   "source": [
    "`mean()`"
   ]
  },
  {
   "cell_type": "code",
   "execution_count": 63,
   "id": "09903725",
   "metadata": {},
   "outputs": [
    {
     "data": {
      "text/plain": [
       "np.float64(147.5)"
      ]
     },
     "execution_count": 63,
     "metadata": {},
     "output_type": "execute_result"
    }
   ],
   "source": [
    "df['Amount'].mean()  # 147.5\n"
   ]
  },
  {
   "cell_type": "markdown",
   "id": "eaf108f6",
   "metadata": {},
   "source": [
    "`var() / std()`"
   ]
  },
  {
   "cell_type": "code",
   "execution_count": 64,
   "id": "bf2cbc6a",
   "metadata": {},
   "outputs": [
    {
     "data": {
      "text/plain": [
       "np.float64(102.84697370365353)"
      ]
     },
     "execution_count": 64,
     "metadata": {},
     "output_type": "execute_result"
    }
   ],
   "source": [
    "df['Amount'].var()  # Variance\n",
    "df['Amount'].std()  # Standard deviation\n"
   ]
  },
  {
   "cell_type": "markdown",
   "id": "78590c3c",
   "metadata": {},
   "source": [
    "# Handling Missing Data"
   ]
  },
  {
   "cell_type": "code",
   "execution_count": 65,
   "id": "f560c2a6",
   "metadata": {},
   "outputs": [
    {
     "name": "stdout",
     "output_type": "stream",
     "text": [
      "      Name   Age         City\n",
      "0    Alice  25.0     New York\n",
      "1      Bob   NaN  Los Angeles\n",
      "2  Charlie  30.0         None\n",
      "3    David  22.0      Chicago\n",
      "4     None  28.0      Houston\n"
     ]
    }
   ],
   "source": [
    "import pandas as pd\n",
    "import numpy as np\n",
    "\n",
    "data = {\n",
    "    'Name': ['Alice', 'Bob', 'Charlie', 'David', None],\n",
    "    'Age': [25, np.nan, 30, 22, 28],\n",
    "    'City': ['New York', 'Los Angeles', None, 'Chicago', 'Houston']\n",
    "}\n",
    "\n",
    "df = pd.DataFrame(data)\n",
    "print(df)\n"
   ]
  },
  {
   "cell_type": "markdown",
   "id": "b43c0983",
   "metadata": {},
   "source": [
    "1. `df.dropna()`  \n",
    "Drops all rows that have any missing (NaN or None) values."
   ]
  },
  {
   "cell_type": "code",
   "execution_count": 66,
   "id": "f6a5cb41",
   "metadata": {},
   "outputs": [
    {
     "name": "stdout",
     "output_type": "stream",
     "text": [
      "    Name   Age      City\n",
      "0  Alice  25.0  New York\n",
      "3  David  22.0   Chicago\n"
     ]
    }
   ],
   "source": [
    "df_dropped = df.dropna()\n",
    "print(df_dropped)"
   ]
  },
  {
   "cell_type": "markdown",
   "id": "d57f1d84",
   "metadata": {},
   "source": [
    "2. `df.fillna(value)`  \n",
    "Replace all missing values with a specified value.  \n",
    "Example: Replace missing values with placeholders:"
   ]
  },
  {
   "cell_type": "code",
   "execution_count": 67,
   "id": "83f08440",
   "metadata": {},
   "outputs": [
    {
     "name": "stdout",
     "output_type": "stream",
     "text": [
      "      Name    Age          City\n",
      "0    Alice  25.00      New York\n",
      "1      Bob  26.25   Los Angeles\n",
      "2  Charlie  30.00  Unknown City\n",
      "3    David  22.00       Chicago\n",
      "4  Unknown  28.00       Houston\n"
     ]
    }
   ],
   "source": [
    "df_filled = df.fillna({\n",
    "    'Name': 'Unknown',\n",
    "    'Age': df['Age'].mean(),       # Replace missing age with average age\n",
    "    'City': 'Unknown City'\n",
    "})\n",
    "print(df_filled)\n"
   ]
  },
  {
   "cell_type": "markdown",
   "id": "c4e22ad3",
   "metadata": {},
   "source": [
    "# Make New Columns"
   ]
  },
  {
   "cell_type": "code",
   "execution_count": 80,
   "id": "eabcc067",
   "metadata": {},
   "outputs": [
    {
     "name": "stdout",
     "output_type": "stream",
     "text": [
      "   Length  Height  Depth\n",
      "0       2       4      1\n",
      "1       3       5      2\n",
      "2       5       6      3\n",
      "3       7       8      4\n"
     ]
    }
   ],
   "source": [
    "import pandas as pd\n",
    "\n",
    "data = {\n",
    "    'Length': [2, 3, 5, 7],\n",
    "    'Height': [4, 5, 6, 8],\n",
    "    'Depth': [1, 2, 3, 4]\n",
    "}\n",
    "\n",
    "df = pd.DataFrame(data)\n",
    "print(df)"
   ]
  },
  {
   "cell_type": "markdown",
   "id": "4e3bba30",
   "metadata": {},
   "source": [
    "1. `df.assign(Area=lambda df: df.Length * df.Height)`  \n",
    "Explanation: Creates a new column `Area` by multiplying `Length` and `Height.`"
   ]
  },
  {
   "cell_type": "code",
   "execution_count": 69,
   "id": "f3dc8340",
   "metadata": {},
   "outputs": [
    {
     "name": "stdout",
     "output_type": "stream",
     "text": [
      "   Length  Height  Depth  Area\n",
      "0       2       4      1     8\n",
      "1       3       5      2    15\n",
      "2       5       6      3    30\n",
      "3       7       8      4    56\n"
     ]
    }
   ],
   "source": [
    "df = df.assign(Area=lambda df: df.Length * df.Height)\n",
    "print(df)"
   ]
  },
  {
   "cell_type": "markdown",
   "id": "e5587746",
   "metadata": {},
   "source": [
    "2. `df['Volume'] = df.Length * df.Height * df.Depth`  \n",
    "Explanation: Directly adds a new column `Volume` calculating volume of a box."
   ]
  },
  {
   "cell_type": "code",
   "execution_count": 70,
   "id": "c4b5a32a",
   "metadata": {},
   "outputs": [
    {
     "name": "stdout",
     "output_type": "stream",
     "text": [
      "   Length  Height  Depth  Area  Volume\n",
      "0       2       4      1     8       8\n",
      "1       3       5      2    15      30\n",
      "2       5       6      3    30      90\n",
      "3       7       8      4    56     224\n"
     ]
    }
   ],
   "source": [
    "df['Volume'] = df.Length * df.Height * df.Depth\n",
    "print(df)"
   ]
  },
  {
   "cell_type": "markdown",
   "id": "30c20b42",
   "metadata": {},
   "source": [
    "3. `pd.cut(df.col, n, labels=False)`  \n",
    "Explanation: Bins a numeric column into n buckets.  \n",
    "Let's say you want to categorize Volume into 3 bins:"
   ]
  },
  {
   "cell_type": "code",
   "execution_count": 72,
   "id": "51516a96",
   "metadata": {},
   "outputs": [
    {
     "name": "stdout",
     "output_type": "stream",
     "text": [
      "   Length  Height  Depth  Area  Volume  Volume_bin\n",
      "0       2       4      1     8       8           0\n",
      "1       3       5      2    15      30           0\n",
      "2       5       6      3    30      90           1\n",
      "3       7       8      4    56     224           2\n"
     ]
    }
   ],
   "source": [
    "df['Volume_bin'] = pd.cut(df['Volume'], bins=3, labels=False)\n",
    "print(df)"
   ]
  },
  {
   "cell_type": "code",
   "execution_count": 73,
   "id": "3a332edd",
   "metadata": {},
   "outputs": [
    {
     "name": "stdout",
     "output_type": "stream",
     "text": [
      "   Length  Height  Depth  Area  Volume      Volume_bin\n",
      "0       2       4      1     8       8   (7.784, 80.0]\n",
      "1       3       5      2    15      30   (7.784, 80.0]\n",
      "2       5       6      3    30      90   (80.0, 152.0]\n",
      "3       7       8      4    56     224  (152.0, 224.0]\n"
     ]
    }
   ],
   "source": [
    "df['Volume_bin'] = pd.cut(df['Volume'], bins=3)\n",
    "print(df)"
   ]
  },
  {
   "cell_type": "code",
   "execution_count": 74,
   "id": "969b3fd5",
   "metadata": {},
   "outputs": [
    {
     "name": "stdout",
     "output_type": "stream",
     "text": [
      "   Length  Height  Depth  Area  Volume Volume_bin\n",
      "0       2       4      1     8       8      Small\n",
      "1       3       5      2    15      30      Small\n",
      "2       5       6      3    30      90     Medium\n",
      "3       7       8      4    56     224      Large\n"
     ]
    }
   ],
   "source": [
    "df['Volume_bin'] = pd.cut(df['Volume'], bins=3, labels=['Small', 'Medium', 'Large'])\n",
    "print(df)"
   ]
  },
  {
   "cell_type": "markdown",
   "id": "9187bdb8",
   "metadata": {},
   "source": [
    "### Vector functions on columns\n",
    "`max(axis=1)`: max value across columns for each row"
   ]
  },
  {
   "cell_type": "code",
   "execution_count": 77,
   "id": "5c81b2ee",
   "metadata": {},
   "outputs": [
    {
     "name": "stdout",
     "output_type": "stream",
     "text": [
      "   Length  Height  Depth  Max_dim\n",
      "0       2       4      1        4\n",
      "1       3       5      2        5\n",
      "2       5       6      3        6\n",
      "3       7       8      4        8\n"
     ]
    }
   ],
   "source": [
    "df['Max_dim'] = df[['Length', 'Height', 'Depth']].max(axis=1)\n",
    "print(df)"
   ]
  },
  {
   "cell_type": "markdown",
   "id": "03cff0f4",
   "metadata": {},
   "source": [
    "`min(axis=1)`: min value across columns for each row"
   ]
  },
  {
   "cell_type": "code",
   "execution_count": 78,
   "id": "313bfac6",
   "metadata": {},
   "outputs": [
    {
     "name": "stdout",
     "output_type": "stream",
     "text": [
      "   Length  Height  Depth  Max_dim  Min_dim\n",
      "0       2       4      1        4        1\n",
      "1       3       5      2        5        2\n",
      "2       5       6      3        6        3\n",
      "3       7       8      4        8        4\n"
     ]
    }
   ],
   "source": [
    "df['Min_dim'] = df[['Length', 'Height', 'Depth']].min(axis=1)\n",
    "print(df)"
   ]
  },
  {
   "cell_type": "markdown",
   "id": "0d5285b6",
   "metadata": {},
   "source": [
    "`clip(lower, upper)`: limit values to a range (clip values below or above thresholds)  \n",
    "Example: Clip Length between 3 and 6"
   ]
  },
  {
   "cell_type": "code",
   "execution_count": 81,
   "id": "02b07f01",
   "metadata": {},
   "outputs": [
    {
     "name": "stdout",
     "output_type": "stream",
     "text": [
      "   Length  Height  Depth  Length_clipped\n",
      "0       2       4      1               3\n",
      "1       3       5      2               3\n",
      "2       5       6      3               5\n",
      "3       7       8      4               6\n"
     ]
    }
   ],
   "source": [
    "df['Length_clipped'] = df['Length'].clip(lower=3, upper=6)\n",
    "print(df)"
   ]
  },
  {
   "cell_type": "markdown",
   "id": "a31e6f7f",
   "metadata": {},
   "source": [
    "`abs()`: absolute value (useful for negative values)"
   ]
  },
  {
   "cell_type": "code",
   "execution_count": 83,
   "id": "16f9b595",
   "metadata": {},
   "outputs": [
    {
     "data": {
      "text/html": [
       "<div>\n",
       "<style scoped>\n",
       "    .dataframe tbody tr th:only-of-type {\n",
       "        vertical-align: middle;\n",
       "    }\n",
       "\n",
       "    .dataframe tbody tr th {\n",
       "        vertical-align: top;\n",
       "    }\n",
       "\n",
       "    .dataframe thead th {\n",
       "        text-align: right;\n",
       "    }\n",
       "</style>\n",
       "<table border=\"1\" class=\"dataframe\">\n",
       "  <thead>\n",
       "    <tr style=\"text-align: right;\">\n",
       "      <th></th>\n",
       "      <th>Depth</th>\n",
       "    </tr>\n",
       "  </thead>\n",
       "  <tbody>\n",
       "    <tr>\n",
       "      <th>0</th>\n",
       "      <td>2</td>\n",
       "    </tr>\n",
       "    <tr>\n",
       "      <th>1</th>\n",
       "      <td>-4</td>\n",
       "    </tr>\n",
       "    <tr>\n",
       "      <th>2</th>\n",
       "      <td>8</td>\n",
       "    </tr>\n",
       "    <tr>\n",
       "      <th>3</th>\n",
       "      <td>0</td>\n",
       "    </tr>\n",
       "    <tr>\n",
       "      <th>4</th>\n",
       "      <td>-3</td>\n",
       "    </tr>\n",
       "    <tr>\n",
       "      <th>5</th>\n",
       "      <td>-5</td>\n",
       "    </tr>\n",
       "  </tbody>\n",
       "</table>\n",
       "</div>"
      ],
      "text/plain": [
       "   Depth\n",
       "0      2\n",
       "1     -4\n",
       "2      8\n",
       "3      0\n",
       "4     -3\n",
       "5     -5"
      ]
     },
     "execution_count": 83,
     "metadata": {},
     "output_type": "execute_result"
    }
   ],
   "source": [
    "df=pd.DataFrame({'Depth': [2, -4, 8, 0, -3, -5]})\n",
    "df"
   ]
  },
  {
   "cell_type": "code",
   "execution_count": 84,
   "id": "3335ac36",
   "metadata": {},
   "outputs": [
    {
     "name": "stdout",
     "output_type": "stream",
     "text": [
      "   Depth  Depth_abs\n",
      "0      2          2\n",
      "1     -4          4\n",
      "2      8          8\n",
      "3      0          0\n",
      "4     -3          3\n",
      "5     -5          5\n"
     ]
    }
   ],
   "source": [
    "df['Depth_abs'] = df['Depth'].abs()\n",
    "print(df)"
   ]
  },
  {
   "cell_type": "markdown",
   "id": "9228375c",
   "metadata": {},
   "source": [
    "# Combine Data Set"
   ]
  },
  {
   "cell_type": "code",
   "execution_count": 87,
   "id": "920b8d22",
   "metadata": {},
   "outputs": [
    {
     "name": "stdout",
     "output_type": "stream",
     "text": [
      "  Product  Category\n",
      "0       A         1\n",
      "1       B         2\n",
      "2       C         3\n",
      "  Product OnSale\n",
      "0       A      T\n",
      "1       B      F\n",
      "2       D      T\n"
     ]
    }
   ],
   "source": [
    "import pandas as pd\n",
    "\n",
    "# Product info\n",
    "adf = pd.DataFrame({\n",
    "    'Product': ['A', 'B', 'C'],\n",
    "    'Category': [1, 2, 3]\n",
    "})\n",
    "\n",
    "print(adf)\n",
    "\n",
    "# Sale info\n",
    "bdf = pd.DataFrame({\n",
    "    'Product': ['A', 'B', 'D'],\n",
    "    'OnSale': ['T', 'F', 'T']\n",
    "})\n",
    "\n",
    "print(bdf)\n"
   ]
  },
  {
   "cell_type": "markdown",
   "id": "2086e931",
   "metadata": {},
   "source": [
    "### Merge Types: Standard Joins"
   ]
  },
  {
   "cell_type": "markdown",
   "id": "d3bd16a4",
   "metadata": {},
   "source": [
    "1. `how='left'` — Keep all rows from adf (left), match where possible"
   ]
  },
  {
   "cell_type": "code",
   "execution_count": 89,
   "id": "b6742e1d",
   "metadata": {},
   "outputs": [
    {
     "data": {
      "text/html": [
       "<div>\n",
       "<style scoped>\n",
       "    .dataframe tbody tr th:only-of-type {\n",
       "        vertical-align: middle;\n",
       "    }\n",
       "\n",
       "    .dataframe tbody tr th {\n",
       "        vertical-align: top;\n",
       "    }\n",
       "\n",
       "    .dataframe thead th {\n",
       "        text-align: right;\n",
       "    }\n",
       "</style>\n",
       "<table border=\"1\" class=\"dataframe\">\n",
       "  <thead>\n",
       "    <tr style=\"text-align: right;\">\n",
       "      <th></th>\n",
       "      <th>Product</th>\n",
       "      <th>Category</th>\n",
       "      <th>OnSale</th>\n",
       "    </tr>\n",
       "  </thead>\n",
       "  <tbody>\n",
       "    <tr>\n",
       "      <th>0</th>\n",
       "      <td>A</td>\n",
       "      <td>1</td>\n",
       "      <td>T</td>\n",
       "    </tr>\n",
       "    <tr>\n",
       "      <th>1</th>\n",
       "      <td>B</td>\n",
       "      <td>2</td>\n",
       "      <td>F</td>\n",
       "    </tr>\n",
       "    <tr>\n",
       "      <th>2</th>\n",
       "      <td>C</td>\n",
       "      <td>3</td>\n",
       "      <td>NaN</td>\n",
       "    </tr>\n",
       "  </tbody>\n",
       "</table>\n",
       "</div>"
      ],
      "text/plain": [
       "  Product  Category OnSale\n",
       "0       A         1      T\n",
       "1       B         2      F\n",
       "2       C         3    NaN"
      ]
     },
     "execution_count": 89,
     "metadata": {},
     "output_type": "execute_result"
    }
   ],
   "source": [
    "pd.merge(adf, bdf, how='left', on='Product')"
   ]
  },
  {
   "cell_type": "markdown",
   "id": "bc2ac764",
   "metadata": {},
   "source": [
    "2. `how='right'` — Keep all rows from bdf (right), match where possible"
   ]
  },
  {
   "cell_type": "code",
   "execution_count": 90,
   "id": "adba3640",
   "metadata": {},
   "outputs": [
    {
     "data": {
      "text/html": [
       "<div>\n",
       "<style scoped>\n",
       "    .dataframe tbody tr th:only-of-type {\n",
       "        vertical-align: middle;\n",
       "    }\n",
       "\n",
       "    .dataframe tbody tr th {\n",
       "        vertical-align: top;\n",
       "    }\n",
       "\n",
       "    .dataframe thead th {\n",
       "        text-align: right;\n",
       "    }\n",
       "</style>\n",
       "<table border=\"1\" class=\"dataframe\">\n",
       "  <thead>\n",
       "    <tr style=\"text-align: right;\">\n",
       "      <th></th>\n",
       "      <th>Product</th>\n",
       "      <th>Category</th>\n",
       "      <th>OnSale</th>\n",
       "    </tr>\n",
       "  </thead>\n",
       "  <tbody>\n",
       "    <tr>\n",
       "      <th>0</th>\n",
       "      <td>A</td>\n",
       "      <td>1.0</td>\n",
       "      <td>T</td>\n",
       "    </tr>\n",
       "    <tr>\n",
       "      <th>1</th>\n",
       "      <td>B</td>\n",
       "      <td>2.0</td>\n",
       "      <td>F</td>\n",
       "    </tr>\n",
       "    <tr>\n",
       "      <th>2</th>\n",
       "      <td>D</td>\n",
       "      <td>NaN</td>\n",
       "      <td>T</td>\n",
       "    </tr>\n",
       "  </tbody>\n",
       "</table>\n",
       "</div>"
      ],
      "text/plain": [
       "  Product  Category OnSale\n",
       "0       A       1.0      T\n",
       "1       B       2.0      F\n",
       "2       D       NaN      T"
      ]
     },
     "execution_count": 90,
     "metadata": {},
     "output_type": "execute_result"
    }
   ],
   "source": [
    "pd.merge(adf, bdf, how='right', on='Product')\n"
   ]
  },
  {
   "cell_type": "markdown",
   "id": "1cf2f4e4",
   "metadata": {},
   "source": [
    "3. `how='inner'` — Keep only rows that appear in both DataFrames"
   ]
  },
  {
   "cell_type": "code",
   "execution_count": 91,
   "id": "a33b0c92",
   "metadata": {},
   "outputs": [
    {
     "data": {
      "text/html": [
       "<div>\n",
       "<style scoped>\n",
       "    .dataframe tbody tr th:only-of-type {\n",
       "        vertical-align: middle;\n",
       "    }\n",
       "\n",
       "    .dataframe tbody tr th {\n",
       "        vertical-align: top;\n",
       "    }\n",
       "\n",
       "    .dataframe thead th {\n",
       "        text-align: right;\n",
       "    }\n",
       "</style>\n",
       "<table border=\"1\" class=\"dataframe\">\n",
       "  <thead>\n",
       "    <tr style=\"text-align: right;\">\n",
       "      <th></th>\n",
       "      <th>Product</th>\n",
       "      <th>Category</th>\n",
       "      <th>OnSale</th>\n",
       "    </tr>\n",
       "  </thead>\n",
       "  <tbody>\n",
       "    <tr>\n",
       "      <th>0</th>\n",
       "      <td>A</td>\n",
       "      <td>1</td>\n",
       "      <td>T</td>\n",
       "    </tr>\n",
       "    <tr>\n",
       "      <th>1</th>\n",
       "      <td>B</td>\n",
       "      <td>2</td>\n",
       "      <td>F</td>\n",
       "    </tr>\n",
       "  </tbody>\n",
       "</table>\n",
       "</div>"
      ],
      "text/plain": [
       "  Product  Category OnSale\n",
       "0       A         1      T\n",
       "1       B         2      F"
      ]
     },
     "execution_count": 91,
     "metadata": {},
     "output_type": "execute_result"
    }
   ],
   "source": [
    "pd.merge(adf, bdf, how='inner', on='Product')"
   ]
  },
  {
   "cell_type": "markdown",
   "id": "6869ee80",
   "metadata": {},
   "source": [
    "4. `how='outer'` — Keep all rows from both DataFrames"
   ]
  },
  {
   "cell_type": "code",
   "execution_count": 92,
   "id": "7ea023b7",
   "metadata": {},
   "outputs": [
    {
     "data": {
      "text/html": [
       "<div>\n",
       "<style scoped>\n",
       "    .dataframe tbody tr th:only-of-type {\n",
       "        vertical-align: middle;\n",
       "    }\n",
       "\n",
       "    .dataframe tbody tr th {\n",
       "        vertical-align: top;\n",
       "    }\n",
       "\n",
       "    .dataframe thead th {\n",
       "        text-align: right;\n",
       "    }\n",
       "</style>\n",
       "<table border=\"1\" class=\"dataframe\">\n",
       "  <thead>\n",
       "    <tr style=\"text-align: right;\">\n",
       "      <th></th>\n",
       "      <th>Product</th>\n",
       "      <th>Category</th>\n",
       "      <th>OnSale</th>\n",
       "    </tr>\n",
       "  </thead>\n",
       "  <tbody>\n",
       "    <tr>\n",
       "      <th>0</th>\n",
       "      <td>A</td>\n",
       "      <td>1.0</td>\n",
       "      <td>T</td>\n",
       "    </tr>\n",
       "    <tr>\n",
       "      <th>1</th>\n",
       "      <td>B</td>\n",
       "      <td>2.0</td>\n",
       "      <td>F</td>\n",
       "    </tr>\n",
       "    <tr>\n",
       "      <th>2</th>\n",
       "      <td>C</td>\n",
       "      <td>3.0</td>\n",
       "      <td>NaN</td>\n",
       "    </tr>\n",
       "    <tr>\n",
       "      <th>3</th>\n",
       "      <td>D</td>\n",
       "      <td>NaN</td>\n",
       "      <td>T</td>\n",
       "    </tr>\n",
       "  </tbody>\n",
       "</table>\n",
       "</div>"
      ],
      "text/plain": [
       "  Product  Category OnSale\n",
       "0       A       1.0      T\n",
       "1       B       2.0      F\n",
       "2       C       3.0    NaN\n",
       "3       D       NaN      T"
      ]
     },
     "execution_count": 92,
     "metadata": {},
     "output_type": "execute_result"
    }
   ],
   "source": [
    "pd.merge(adf, bdf, how='outer', on='Product')"
   ]
  },
  {
   "cell_type": "markdown",
   "id": "e87d9074",
   "metadata": {},
   "source": [
    "### Filtering Joins with `isin()`"
   ]
  },
  {
   "cell_type": "markdown",
   "id": "9422f328",
   "metadata": {},
   "source": [
    "5. `adf[adf['Product'].isin(bdf['Product'])]`  \n",
    "Filter catalog to only products that are on sale."
   ]
  },
  {
   "cell_type": "code",
   "execution_count": 93,
   "id": "c30b2c0a",
   "metadata": {},
   "outputs": [
    {
     "data": {
      "text/html": [
       "<div>\n",
       "<style scoped>\n",
       "    .dataframe tbody tr th:only-of-type {\n",
       "        vertical-align: middle;\n",
       "    }\n",
       "\n",
       "    .dataframe tbody tr th {\n",
       "        vertical-align: top;\n",
       "    }\n",
       "\n",
       "    .dataframe thead th {\n",
       "        text-align: right;\n",
       "    }\n",
       "</style>\n",
       "<table border=\"1\" class=\"dataframe\">\n",
       "  <thead>\n",
       "    <tr style=\"text-align: right;\">\n",
       "      <th></th>\n",
       "      <th>Product</th>\n",
       "      <th>Category</th>\n",
       "    </tr>\n",
       "  </thead>\n",
       "  <tbody>\n",
       "    <tr>\n",
       "      <th>0</th>\n",
       "      <td>A</td>\n",
       "      <td>1</td>\n",
       "    </tr>\n",
       "    <tr>\n",
       "      <th>1</th>\n",
       "      <td>B</td>\n",
       "      <td>2</td>\n",
       "    </tr>\n",
       "  </tbody>\n",
       "</table>\n",
       "</div>"
      ],
      "text/plain": [
       "  Product  Category\n",
       "0       A         1\n",
       "1       B         2"
      ]
     },
     "execution_count": 93,
     "metadata": {},
     "output_type": "execute_result"
    }
   ],
   "source": [
    "adf[adf['Product'].isin(bdf['Product'])]"
   ]
  },
  {
   "cell_type": "markdown",
   "id": "792aafb2",
   "metadata": {},
   "source": [
    "6. `adf[~adf['Product'].isin(bdf['Product'])]`  \n",
    "Find products not currently on sale."
   ]
  },
  {
   "cell_type": "code",
   "execution_count": 94,
   "id": "585c5201",
   "metadata": {},
   "outputs": [
    {
     "data": {
      "text/html": [
       "<div>\n",
       "<style scoped>\n",
       "    .dataframe tbody tr th:only-of-type {\n",
       "        vertical-align: middle;\n",
       "    }\n",
       "\n",
       "    .dataframe tbody tr th {\n",
       "        vertical-align: top;\n",
       "    }\n",
       "\n",
       "    .dataframe thead th {\n",
       "        text-align: right;\n",
       "    }\n",
       "</style>\n",
       "<table border=\"1\" class=\"dataframe\">\n",
       "  <thead>\n",
       "    <tr style=\"text-align: right;\">\n",
       "      <th></th>\n",
       "      <th>Product</th>\n",
       "      <th>Category</th>\n",
       "    </tr>\n",
       "  </thead>\n",
       "  <tbody>\n",
       "    <tr>\n",
       "      <th>2</th>\n",
       "      <td>C</td>\n",
       "      <td>3</td>\n",
       "    </tr>\n",
       "  </tbody>\n",
       "</table>\n",
       "</div>"
      ],
      "text/plain": [
       "  Product  Category\n",
       "2       C         3"
      ]
     },
     "execution_count": 94,
     "metadata": {},
     "output_type": "execute_result"
    }
   ],
   "source": [
    "adf[~adf['Product'].isin(bdf['Product'])]"
   ]
  },
  {
   "cell_type": "markdown",
   "id": "2c2bc4b8",
   "metadata": {},
   "source": [
    "### set-like operations"
   ]
  },
  {
   "cell_type": "code",
   "execution_count": 96,
   "id": "b35c35d8",
   "metadata": {},
   "outputs": [
    {
     "name": "stdout",
     "output_type": "stream",
     "text": [
      "  x1  x2\n",
      "0  A   1\n",
      "1  B   2\n",
      "2  C   3\n",
      "  x1  x2\n",
      "0  B   2\n",
      "1  C   3\n",
      "2  D   4\n"
     ]
    }
   ],
   "source": [
    "import pandas as pd\n",
    "\n",
    "# ydf - your existing records\n",
    "ydf = pd.DataFrame({\n",
    "    'x1': ['A', 'B', 'C'],\n",
    "    'x2': [1, 2, 3]\n",
    "})\n",
    "print(ydf)\n",
    "\n",
    "# zdf - new records coming in\n",
    "zdf = pd.DataFrame({\n",
    "    'x1': ['B', 'C', 'D'],\n",
    "    'x2': [2, 3, 4]\n",
    "})\n",
    "print(zdf)"
   ]
  },
  {
   "cell_type": "markdown",
   "id": "d243798a",
   "metadata": {},
   "source": [
    "1. Intersection (Common rows in both)"
   ]
  },
  {
   "cell_type": "code",
   "execution_count": 97,
   "id": "3de84279",
   "metadata": {},
   "outputs": [
    {
     "data": {
      "text/html": [
       "<div>\n",
       "<style scoped>\n",
       "    .dataframe tbody tr th:only-of-type {\n",
       "        vertical-align: middle;\n",
       "    }\n",
       "\n",
       "    .dataframe tbody tr th {\n",
       "        vertical-align: top;\n",
       "    }\n",
       "\n",
       "    .dataframe thead th {\n",
       "        text-align: right;\n",
       "    }\n",
       "</style>\n",
       "<table border=\"1\" class=\"dataframe\">\n",
       "  <thead>\n",
       "    <tr style=\"text-align: right;\">\n",
       "      <th></th>\n",
       "      <th>x1</th>\n",
       "      <th>x2</th>\n",
       "    </tr>\n",
       "  </thead>\n",
       "  <tbody>\n",
       "    <tr>\n",
       "      <th>0</th>\n",
       "      <td>B</td>\n",
       "      <td>2</td>\n",
       "    </tr>\n",
       "    <tr>\n",
       "      <th>1</th>\n",
       "      <td>C</td>\n",
       "      <td>3</td>\n",
       "    </tr>\n",
       "  </tbody>\n",
       "</table>\n",
       "</div>"
      ],
      "text/plain": [
       "  x1  x2\n",
       "0  B   2\n",
       "1  C   3"
      ]
     },
     "execution_count": 97,
     "metadata": {},
     "output_type": "execute_result"
    }
   ],
   "source": [
    "pd.merge(ydf, zdf)"
   ]
  },
  {
   "cell_type": "markdown",
   "id": "d6b498a3",
   "metadata": {},
   "source": [
    "2. Union (All unique rows from both)"
   ]
  },
  {
   "cell_type": "code",
   "execution_count": 98,
   "id": "5d2ba6cc",
   "metadata": {},
   "outputs": [
    {
     "data": {
      "text/html": [
       "<div>\n",
       "<style scoped>\n",
       "    .dataframe tbody tr th:only-of-type {\n",
       "        vertical-align: middle;\n",
       "    }\n",
       "\n",
       "    .dataframe tbody tr th {\n",
       "        vertical-align: top;\n",
       "    }\n",
       "\n",
       "    .dataframe thead th {\n",
       "        text-align: right;\n",
       "    }\n",
       "</style>\n",
       "<table border=\"1\" class=\"dataframe\">\n",
       "  <thead>\n",
       "    <tr style=\"text-align: right;\">\n",
       "      <th></th>\n",
       "      <th>x1</th>\n",
       "      <th>x2</th>\n",
       "    </tr>\n",
       "  </thead>\n",
       "  <tbody>\n",
       "    <tr>\n",
       "      <th>0</th>\n",
       "      <td>A</td>\n",
       "      <td>1</td>\n",
       "    </tr>\n",
       "    <tr>\n",
       "      <th>1</th>\n",
       "      <td>B</td>\n",
       "      <td>2</td>\n",
       "    </tr>\n",
       "    <tr>\n",
       "      <th>2</th>\n",
       "      <td>C</td>\n",
       "      <td>3</td>\n",
       "    </tr>\n",
       "    <tr>\n",
       "      <th>3</th>\n",
       "      <td>D</td>\n",
       "      <td>4</td>\n",
       "    </tr>\n",
       "  </tbody>\n",
       "</table>\n",
       "</div>"
      ],
      "text/plain": [
       "  x1  x2\n",
       "0  A   1\n",
       "1  B   2\n",
       "2  C   3\n",
       "3  D   4"
      ]
     },
     "execution_count": 98,
     "metadata": {},
     "output_type": "execute_result"
    }
   ],
   "source": [
    "pd.merge(ydf, zdf, how='outer')"
   ]
  },
  {
   "cell_type": "markdown",
   "id": "7bb5bca1",
   "metadata": {},
   "source": [
    "3. Set Difference (Rows in ydf but not in zdf)"
   ]
  },
  {
   "cell_type": "code",
   "execution_count": 101,
   "id": "7df8e70e",
   "metadata": {},
   "outputs": [
    {
     "data": {
      "text/html": [
       "<div>\n",
       "<style scoped>\n",
       "    .dataframe tbody tr th:only-of-type {\n",
       "        vertical-align: middle;\n",
       "    }\n",
       "\n",
       "    .dataframe tbody tr th {\n",
       "        vertical-align: top;\n",
       "    }\n",
       "\n",
       "    .dataframe thead th {\n",
       "        text-align: right;\n",
       "    }\n",
       "</style>\n",
       "<table border=\"1\" class=\"dataframe\">\n",
       "  <thead>\n",
       "    <tr style=\"text-align: right;\">\n",
       "      <th></th>\n",
       "      <th>x1</th>\n",
       "      <th>x2</th>\n",
       "    </tr>\n",
       "  </thead>\n",
       "  <tbody>\n",
       "    <tr>\n",
       "      <th>0</th>\n",
       "      <td>A</td>\n",
       "      <td>1</td>\n",
       "    </tr>\n",
       "  </tbody>\n",
       "</table>\n",
       "</div>"
      ],
      "text/plain": [
       "  x1  x2\n",
       "0  A   1"
      ]
     },
     "execution_count": 101,
     "metadata": {},
     "output_type": "execute_result"
    }
   ],
   "source": [
    "pd.merge(ydf, zdf, how='outer', indicator=True).query('_merge == \"left_only\"').drop(columns=['_merge'])"
   ]
  },
  {
   "cell_type": "code",
   "execution_count": 102,
   "id": "eaca0c9e",
   "metadata": {},
   "outputs": [
    {
     "data": {
      "text/html": [
       "<div>\n",
       "<style scoped>\n",
       "    .dataframe tbody tr th:only-of-type {\n",
       "        vertical-align: middle;\n",
       "    }\n",
       "\n",
       "    .dataframe tbody tr th {\n",
       "        vertical-align: top;\n",
       "    }\n",
       "\n",
       "    .dataframe thead th {\n",
       "        text-align: right;\n",
       "    }\n",
       "</style>\n",
       "<table border=\"1\" class=\"dataframe\">\n",
       "  <thead>\n",
       "    <tr style=\"text-align: right;\">\n",
       "      <th></th>\n",
       "      <th>x1</th>\n",
       "      <th>x2</th>\n",
       "      <th>_merge</th>\n",
       "    </tr>\n",
       "  </thead>\n",
       "  <tbody>\n",
       "    <tr>\n",
       "      <th>0</th>\n",
       "      <td>A</td>\n",
       "      <td>1</td>\n",
       "      <td>left_only</td>\n",
       "    </tr>\n",
       "    <tr>\n",
       "      <th>1</th>\n",
       "      <td>B</td>\n",
       "      <td>2</td>\n",
       "      <td>both</td>\n",
       "    </tr>\n",
       "    <tr>\n",
       "      <th>2</th>\n",
       "      <td>C</td>\n",
       "      <td>3</td>\n",
       "      <td>both</td>\n",
       "    </tr>\n",
       "    <tr>\n",
       "      <th>3</th>\n",
       "      <td>D</td>\n",
       "      <td>4</td>\n",
       "      <td>right_only</td>\n",
       "    </tr>\n",
       "  </tbody>\n",
       "</table>\n",
       "</div>"
      ],
      "text/plain": [
       "  x1  x2      _merge\n",
       "0  A   1   left_only\n",
       "1  B   2        both\n",
       "2  C   3        both\n",
       "3  D   4  right_only"
      ]
     },
     "execution_count": 102,
     "metadata": {},
     "output_type": "execute_result"
    }
   ],
   "source": [
    "pd.merge(ydf, zdf, how='outer', indicator=True)"
   ]
  },
  {
   "cell_type": "code",
   "execution_count": 103,
   "id": "72c6b62c",
   "metadata": {},
   "outputs": [
    {
     "data": {
      "text/html": [
       "<div>\n",
       "<style scoped>\n",
       "    .dataframe tbody tr th:only-of-type {\n",
       "        vertical-align: middle;\n",
       "    }\n",
       "\n",
       "    .dataframe tbody tr th {\n",
       "        vertical-align: top;\n",
       "    }\n",
       "\n",
       "    .dataframe thead th {\n",
       "        text-align: right;\n",
       "    }\n",
       "</style>\n",
       "<table border=\"1\" class=\"dataframe\">\n",
       "  <thead>\n",
       "    <tr style=\"text-align: right;\">\n",
       "      <th></th>\n",
       "      <th>x1</th>\n",
       "      <th>x2</th>\n",
       "      <th>_merge</th>\n",
       "    </tr>\n",
       "  </thead>\n",
       "  <tbody>\n",
       "    <tr>\n",
       "      <th>0</th>\n",
       "      <td>A</td>\n",
       "      <td>1</td>\n",
       "      <td>left_only</td>\n",
       "    </tr>\n",
       "  </tbody>\n",
       "</table>\n",
       "</div>"
      ],
      "text/plain": [
       "  x1  x2     _merge\n",
       "0  A   1  left_only"
      ]
     },
     "execution_count": 103,
     "metadata": {},
     "output_type": "execute_result"
    }
   ],
   "source": [
    "pd.merge(ydf, zdf, how='outer', indicator=True).query('_merge == \"left_only\"')"
   ]
  },
  {
   "cell_type": "code",
   "execution_count": 104,
   "id": "eecad5a0",
   "metadata": {},
   "outputs": [
    {
     "data": {
      "text/html": [
       "<div>\n",
       "<style scoped>\n",
       "    .dataframe tbody tr th:only-of-type {\n",
       "        vertical-align: middle;\n",
       "    }\n",
       "\n",
       "    .dataframe tbody tr th {\n",
       "        vertical-align: top;\n",
       "    }\n",
       "\n",
       "    .dataframe thead th {\n",
       "        text-align: right;\n",
       "    }\n",
       "</style>\n",
       "<table border=\"1\" class=\"dataframe\">\n",
       "  <thead>\n",
       "    <tr style=\"text-align: right;\">\n",
       "      <th></th>\n",
       "      <th>x1</th>\n",
       "      <th>x2</th>\n",
       "    </tr>\n",
       "  </thead>\n",
       "  <tbody>\n",
       "    <tr>\n",
       "      <th>0</th>\n",
       "      <td>A</td>\n",
       "      <td>1</td>\n",
       "    </tr>\n",
       "  </tbody>\n",
       "</table>\n",
       "</div>"
      ],
      "text/plain": [
       "  x1  x2\n",
       "0  A   1"
      ]
     },
     "execution_count": 104,
     "metadata": {},
     "output_type": "execute_result"
    }
   ],
   "source": [
    "pd.merge(ydf, zdf, how='outer', indicator=True).query('_merge == \"left_only\"').drop(columns=['_merge'])"
   ]
  },
  {
   "cell_type": "markdown",
   "id": "ab652bd7",
   "metadata": {},
   "source": [
    "# Windows"
   ]
  },
  {
   "cell_type": "code",
   "execution_count": 109,
   "id": "2ca932df",
   "metadata": {},
   "outputs": [
    {
     "data": {
      "text/html": [
       "<div>\n",
       "<style scoped>\n",
       "    .dataframe tbody tr th:only-of-type {\n",
       "        vertical-align: middle;\n",
       "    }\n",
       "\n",
       "    .dataframe tbody tr th {\n",
       "        vertical-align: top;\n",
       "    }\n",
       "\n",
       "    .dataframe thead th {\n",
       "        text-align: right;\n",
       "    }\n",
       "</style>\n",
       "<table border=\"1\" class=\"dataframe\">\n",
       "  <thead>\n",
       "    <tr style=\"text-align: right;\">\n",
       "      <th></th>\n",
       "      <th>Day</th>\n",
       "      <th>Sales</th>\n",
       "    </tr>\n",
       "  </thead>\n",
       "  <tbody>\n",
       "    <tr>\n",
       "      <th>0</th>\n",
       "      <td>1</td>\n",
       "      <td>100</td>\n",
       "    </tr>\n",
       "    <tr>\n",
       "      <th>1</th>\n",
       "      <td>2</td>\n",
       "      <td>200</td>\n",
       "    </tr>\n",
       "    <tr>\n",
       "      <th>2</th>\n",
       "      <td>3</td>\n",
       "      <td>150</td>\n",
       "    </tr>\n",
       "    <tr>\n",
       "      <th>3</th>\n",
       "      <td>4</td>\n",
       "      <td>300</td>\n",
       "    </tr>\n",
       "    <tr>\n",
       "      <th>4</th>\n",
       "      <td>5</td>\n",
       "      <td>250</td>\n",
       "    </tr>\n",
       "  </tbody>\n",
       "</table>\n",
       "</div>"
      ],
      "text/plain": [
       "   Day  Sales\n",
       "0    1    100\n",
       "1    2    200\n",
       "2    3    150\n",
       "3    4    300\n",
       "4    5    250"
      ]
     },
     "execution_count": 109,
     "metadata": {},
     "output_type": "execute_result"
    }
   ],
   "source": [
    "import pandas as pd\n",
    "\n",
    "data = {'Day': [1, 2, 3, 4, 5],\n",
    "        'Sales': [100, 200, 150, 300, 250]}\n",
    "df = pd.DataFrame(data)\n",
    "df"
   ]
  },
  {
   "cell_type": "markdown",
   "id": "9ca4630e",
   "metadata": {},
   "source": [
    "1. `df.expanding()`  \n",
    "It calculates summary statistics cumulatively from the start up to the current row."
   ]
  },
  {
   "cell_type": "code",
   "execution_count": 108,
   "id": "02c34bcb",
   "metadata": {},
   "outputs": [
    {
     "name": "stdout",
     "output_type": "stream",
     "text": [
      "   Day  Sales  Cumulative_Avg_Sales\n",
      "0    1    100                 100.0\n",
      "1    2    200                 150.0\n",
      "2    3    150                 150.0\n",
      "3    4    300                 187.5\n",
      "4    5    250                 200.0\n"
     ]
    }
   ],
   "source": [
    "\n",
    "# Calculate cumulative average sales\n",
    "df['Cumulative_Avg_Sales'] = df['Sales'].expanding().mean()\n",
    "print(df)\n"
   ]
  },
  {
   "cell_type": "markdown",
   "id": "4184ffec",
   "metadata": {},
   "source": [
    "2. `df.rolling(n)`  \n",
    "* rolling(n) creates a rolling window object with a fixed window size n.  \n",
    "* Summary statistics are computed on the most recent n rows.  \n",
    "* The window \"rolls\" forward as you move down the rows.  "
   ]
  },
  {
   "cell_type": "code",
   "execution_count": 110,
   "id": "be11f2fb",
   "metadata": {},
   "outputs": [
    {
     "name": "stdout",
     "output_type": "stream",
     "text": [
      "   Day  Sales  Rolling_Avg_Sales_3d\n",
      "0    1    100                   NaN\n",
      "1    2    200                   NaN\n",
      "2    3    150            150.000000\n",
      "3    4    300            216.666667\n",
      "4    5    250            233.333333\n"
     ]
    }
   ],
   "source": [
    "# Calculate 3-day rolling average sales\n",
    "df['Rolling_Avg_Sales_3d'] = df['Sales'].rolling(3).mean()\n",
    "print(df)\n"
   ]
  },
  {
   "cell_type": "markdown",
   "id": "f420eb27",
   "metadata": {},
   "source": [
    "# Plotting"
   ]
  },
  {
   "cell_type": "code",
   "execution_count": 151,
   "id": "c70aadff",
   "metadata": {},
   "outputs": [
    {
     "data": {
      "text/html": [
       "<div>\n",
       "<style scoped>\n",
       "    .dataframe tbody tr th:only-of-type {\n",
       "        vertical-align: middle;\n",
       "    }\n",
       "\n",
       "    .dataframe tbody tr th {\n",
       "        vertical-align: top;\n",
       "    }\n",
       "\n",
       "    .dataframe thead th {\n",
       "        text-align: right;\n",
       "    }\n",
       "</style>\n",
       "<table border=\"1\" class=\"dataframe\">\n",
       "  <thead>\n",
       "    <tr style=\"text-align: right;\">\n",
       "      <th></th>\n",
       "      <th>w</th>\n",
       "      <th>h</th>\n",
       "      <th>k</th>\n",
       "      <th>category</th>\n",
       "    </tr>\n",
       "  </thead>\n",
       "  <tbody>\n",
       "    <tr>\n",
       "      <th>0</th>\n",
       "      <td>1.764052</td>\n",
       "      <td>194.157535</td>\n",
       "      <td>244.622724</td>\n",
       "      <td>C</td>\n",
       "    </tr>\n",
       "    <tr>\n",
       "      <th>1</th>\n",
       "      <td>0.400157</td>\n",
       "      <td>32.612047</td>\n",
       "      <td>264.093123</td>\n",
       "      <td>A</td>\n",
       "    </tr>\n",
       "    <tr>\n",
       "      <th>2</th>\n",
       "      <td>0.978738</td>\n",
       "      <td>36.475750</td>\n",
       "      <td>464.948939</td>\n",
       "      <td>B</td>\n",
       "    </tr>\n",
       "    <tr>\n",
       "      <th>3</th>\n",
       "      <td>2.240893</td>\n",
       "      <td>148.469835</td>\n",
       "      <td>398.289560</td>\n",
       "      <td>C</td>\n",
       "    </tr>\n",
       "    <tr>\n",
       "      <th>4</th>\n",
       "      <td>1.867558</td>\n",
       "      <td>41.343830</td>\n",
       "      <td>396.019729</td>\n",
       "      <td>A</td>\n",
       "    </tr>\n",
       "  </tbody>\n",
       "</table>\n",
       "</div>"
      ],
      "text/plain": [
       "          w           h           k category\n",
       "0  1.764052  194.157535  244.622724        C\n",
       "1  0.400157   32.612047  264.093123        A\n",
       "2  0.978738   36.475750  464.948939        B\n",
       "3  2.240893  148.469835  398.289560        C\n",
       "4  1.867558   41.343830  396.019729        A"
      ]
     },
     "execution_count": 151,
     "metadata": {},
     "output_type": "execute_result"
    }
   ],
   "source": [
    "import pandas as pd\n",
    "import numpy as np\n",
    "import matplotlib.pyplot as plt\n",
    "\n",
    "# Sample DataFrame\n",
    "np.random.seed(0)\n",
    "df = pd.DataFrame({\n",
    "    'w': np.random.randn(100),\n",
    "    'h': np.random.randn(100) * 50 + 100,\n",
    "    'k': np.random.randn(100) * 150 + 300,\n",
    "    'category': np.random.choice(['A', 'B', 'C'], size=100)\n",
    "})\n",
    "df.head()"
   ]
  },
  {
   "cell_type": "markdown",
   "id": "3f375402",
   "metadata": {},
   "source": [
    "1. `df.plot()`  \n",
    "Plot a line graph of all numerical columns."
   ]
  },
  {
   "cell_type": "code",
   "execution_count": 152,
   "id": "eea71a1e",
   "metadata": {},
   "outputs": [
    {
     "data": {
      "image/png": "[encoded data removed]",
      "text/plain": [
       "<Figure size 640x480 with 1 Axes>"
      ]
     },
     "metadata": {},
     "output_type": "display_data"
    }
   ],
   "source": [
    "df[['w', 'h', 'k']].plot()\n",
    "plt.show()"
   ]
  },
  {
   "cell_type": "markdown",
   "id": "9981f4ba",
   "metadata": {},
   "source": [
    "2. `df.plot.scatter(x='w', y='h')`  \n",
    "Scatter plot of column w vs h."
   ]
  },
  {
   "cell_type": "code",
   "execution_count": 114,
   "id": "1c26438d",
   "metadata": {},
   "outputs": [
    {
     "data": {
      "image/png": "[encoded data removed]",
      "text/plain": [
       "<Figure size 640x480 with 1 Axes>"
      ]
     },
     "metadata": {},
     "output_type": "display_data"
    }
   ],
   "source": [
    "df.plot.scatter(x='w', y='h')\n",
    "plt.show()"
   ]
  },
  {
   "cell_type": "markdown",
   "id": "fa773da6",
   "metadata": {},
   "source": [
    "3. `df.plot.hist()`  \n",
    "Histogram of numerical data (distribution)."
   ]
  },
  {
   "cell_type": "code",
   "execution_count": 115,
   "id": "3091b1a8",
   "metadata": {},
   "outputs": [
    {
     "data": {
      "image/png": "[encoded data removed]",
      "text/plain": [
       "<Figure size 640x480 with 1 Axes>"
      ]
     },
     "metadata": {},
     "output_type": "display_data"
    }
   ],
   "source": [
    "df['h'].plot.hist(bins=30)\n",
    "plt.show()"
   ]
  },
  {
   "cell_type": "markdown",
   "id": "dc3d3775",
   "metadata": {},
   "source": [
    "4. `df.plot.pie()`  \n",
    "Pie chart for categorical data counts."
   ]
  },
  {
   "cell_type": "code",
   "execution_count": 131,
   "id": "91029fe4",
   "metadata": {},
   "outputs": [
    {
     "data": {
      "image/png": "[encoded data removed]",
      "text/plain": [
       "<Figure size 640x480 with 1 Axes>"
      ]
     },
     "metadata": {},
     "output_type": "display_data"
    }
   ],
   "source": [
    "df['category'].value_counts().plot.pie(autopct='%1.1f%%')\n",
    "plt.show()"
   ]
  },
  {
   "cell_type": "markdown",
   "id": "0d24e228",
   "metadata": {},
   "source": [
    "5. `df.plot.bar()`  \n",
    "Bar chart (categorical counts or group sums).  \n",
    "Example: Sum of h by category:"
   ]
  },
  {
   "cell_type": "code",
   "execution_count": 132,
   "id": "439cbf74",
   "metadata": {},
   "outputs": [
    {
     "data": {
      "image/png": "[encoded data removed]",
      "text/plain": [
       "<Figure size 640x480 with 1 Axes>"
      ]
     },
     "metadata": {},
     "output_type": "display_data"
    }
   ],
   "source": [
    "df.groupby('category')['h'].sum().plot.bar()\n",
    "plt.show()"
   ]
  },
  {
   "cell_type": "markdown",
   "id": "76ed5257",
   "metadata": {},
   "source": [
    "6. `df.plot.box()`  \n",
    "Box plot to show distribution and outliers."
   ]
  },
  {
   "cell_type": "code",
   "execution_count": 133,
   "id": "15d0e2fc",
   "metadata": {},
   "outputs": [
    {
     "data": {
      "image/png": "[encoded data removed]",
      "text/plain": [
       "<Figure size 640x480 with 1 Axes>"
      ]
     },
     "metadata": {},
     "output_type": "display_data"
    }
   ],
   "source": [
    "df[['w', 'h']].plot.box()\n",
    "plt.show()\n"
   ]
  },
  {
   "cell_type": "markdown",
   "id": "68f56226",
   "metadata": {},
   "source": [
    "7. `df.plot.area()`  \n",
    "Area chart (like line chart but filled)."
   ]
  },
  {
   "cell_type": "code",
   "execution_count": 158,
   "id": "5ffee765",
   "metadata": {},
   "outputs": [
    {
     "data": {
      "image/png": "[encoded data removed]",
      "text/plain": [
       "<Figure size 640x480 with 1 Axes>"
      ]
     },
     "metadata": {},
     "output_type": "display_data"
    }
   ],
   "source": [
    "df[['h', 'k']].cumsum().plot.area()\n",
    "plt.show()"
   ]
  },
  {
   "cell_type": "markdown",
   "id": "0a96b1fb",
   "metadata": {},
   "source": [
    "8. `df.plot.hexbin()`  \n",
    "Hexbin plot (like scatter but shows density)."
   ]
  },
  {
   "cell_type": "code",
   "execution_count": 138,
   "id": "1341a570",
   "metadata": {},
   "outputs": [
    {
     "data": {
      "image/png": "[encoded data removed]",
      "text/plain": [
       "<Figure size 640x480 with 2 Axes>"
      ]
     },
     "metadata": {},
     "output_type": "display_data"
    }
   ],
   "source": [
    "df.plot.hexbin(x='w', y='h', gridsize=25)\n",
    "plt.show()"
   ]
  },
  {
   "cell_type": "markdown",
   "id": "1940b64f",
   "metadata": {},
   "source": [
    "Additional"
   ]
  },
  {
   "cell_type": "markdown",
   "id": "8e6f2fc2",
   "metadata": {},
   "source": [
    "1. `df.plot(subplots=True)`  \n",
    "Plots each column in its own separate graph (subplot).  \n",
    "Useful when you want to view each variable individually.  "
   ]
  },
  {
   "cell_type": "code",
   "execution_count": 141,
   "id": "7f6a579c",
   "metadata": {},
   "outputs": [
    {
     "data": {
      "image/png": "[encoded data removed]",
      "text/plain": [
       "<Figure size 640x480 with 2 Axes>"
      ]
     },
     "metadata": {},
     "output_type": "display_data"
    }
   ],
   "source": [
    "df[['w', 'h']].plot(subplots=True)\n",
    "plt.show()"
   ]
  },
  {
   "cell_type": "markdown",
   "id": "bbe38ce0",
   "metadata": {},
   "source": [
    "2. `df.plot(cumulative=True)`  \n",
    "Plots the cumulative sum for each column.  \n",
    "Useful for seeing running totals or accumulation.  "
   ]
  },
  {
   "cell_type": "code",
   "execution_count": 154,
   "id": "ea0151f6",
   "metadata": {},
   "outputs": [
    {
     "data": {
      "image/png": "[encoded data removed]",
      "text/plain": [
       "<Figure size 640x480 with 1 Axes>"
      ]
     },
     "metadata": {},
     "output_type": "display_data"
    }
   ],
   "source": [
    "df[['w', 'h','k']].cumsum().plot()\n",
    "plt.show()"
   ]
  },
  {
   "cell_type": "markdown",
   "id": "a46f2efe",
   "metadata": {},
   "source": [
    "3. `df.plot(stacked=True)`  \n",
    "For bar, area, and similar charts, stacks the values on top of each other instead of overlapping.(Default)  \n",
    "Shows contribution of each category cumulatively."
   ]
  },
  {
   "cell_type": "code",
   "execution_count": 177,
   "id": "e2f0e396",
   "metadata": {},
   "outputs": [
    {
     "data": {
      "image/png": "[encoded data removed]",
      "text/plain": [
       "<Figure size 640x480 with 1 Axes>"
      ]
     },
     "metadata": {},
     "output_type": "display_data"
    }
   ],
   "source": [
    "df[['h', 'k']].cumsum().plot.area(stacked=True, alpha=0.5)\n",
    "plt.show()"
   ]
  },
  {
   "cell_type": "markdown",
   "id": "630982be",
   "metadata": {},
   "source": [
    "`df.plot(stacked=False)`  \n",
    "overlaps"
   ]
  },
  {
   "cell_type": "code",
   "execution_count": 178,
   "id": "7fe11c92",
   "metadata": {},
   "outputs": [
    {
     "data": {
      "image/png": "[encoded data removed]",
      "text/plain": [
       "<Figure size 640x480 with 1 Axes>"
      ]
     },
     "metadata": {},
     "output_type": "display_data"
    }
   ],
   "source": [
    "df[['h', 'k']].cumsum().plot.area(stacked=False, alpha=0.5)\n",
    "plt.show()"
   ]
  },
  {
   "cell_type": "markdown",
   "id": "4c18c9d0",
   "metadata": {},
   "source": [
    "4. `df.plot(bins=30)`  \n",
    "For histogram plots, specifies the number of bins to divide data into.  \n",
    "More bins = more detailed histogram. "
   ]
  },
  {
   "cell_type": "code",
   "execution_count": 159,
   "id": "dfb706ac",
   "metadata": {},
   "outputs": [
    {
     "data": {
      "image/png": "[encoded data removed]",
      "text/plain": [
       "<Figure size 640x480 with 1 Axes>"
      ]
     },
     "metadata": {},
     "output_type": "display_data"
    }
   ],
   "source": [
    "df['h'].plot.hist(bins=30)\n",
    "plt.show()"
   ]
  },
  {
   "cell_type": "markdown",
   "id": "675ffdb3",
   "metadata": {},
   "source": [
    "5. `df.plot(alpha=0.5)`  \n",
    "Sets transparency (opacity) of the plot to 50%.  \n",
    "Useful when plotting overlapping data to better visualize density."
   ]
  },
  {
   "cell_type": "code",
   "execution_count": 161,
   "id": "5a918408",
   "metadata": {},
   "outputs": [
    {
     "data": {
      "image/png": "[encoded data removed]",
      "text/plain": [
       "<Figure size 640x480 with 1 Axes>"
      ]
     },
     "metadata": {},
     "output_type": "display_data"
    }
   ],
   "source": [
    "df[['k', 'h']].plot(alpha=0.5)\n",
    "plt.show()"
   ]
  },
  {
   "cell_type": "markdown",
   "id": "63a0182b",
   "metadata": {},
   "source": [
    "6. `df.plot(title=\"Graph of A against B\")`  \n",
    "Sets the title of the graph."
   ]
  },
  {
   "cell_type": "code",
   "execution_count": 165,
   "id": "faabe8d2",
   "metadata": {},
   "outputs": [
    {
     "data": {
      "image/png": "[encoded data removed]",
      "text/plain": [
       "<Figure size 640x480 with 1 Axes>"
      ]
     },
     "metadata": {},
     "output_type": "display_data"
    }
   ],
   "source": [
    "df[['w', 'h']].plot(title=\"Graph of W against H\")\n",
    "plt.show()"
   ]
  },
  {
   "cell_type": "markdown",
   "id": "8bff8e12",
   "metadata": {},
   "source": [
    "7. `df.plot(subplots=True, title=['col1', 'col2', 'col3'])`  \n",
    "You can combine subplots and titles by providing a list of titles.  \n",
    "Each subplot gets its corresponding title."
   ]
  },
  {
   "cell_type": "code",
   "execution_count": 168,
   "id": "c0a69029",
   "metadata": {},
   "outputs": [
    {
     "data": {
      "image/png": "[encoded data removed]",
      "text/plain": [
       "<Figure size 640x480 with 3 Axes>"
      ]
     },
     "metadata": {},
     "output_type": "display_data"
    }
   ],
   "source": [
    "df.plot(subplots=True, title=['Column W', 'Column H', 'Column K'])\n",
    "plt.show()"
   ]
  },
  {
   "cell_type": "markdown",
   "id": "b163f5ff",
   "metadata": {},
   "source": [
    "# Changing Type"
   ]
  },
  {
   "cell_type": "markdown",
   "id": "1ceea684",
   "metadata": {},
   "source": [
    "1. `pd.to_numeric(data)`  \n",
    "\n",
    "Converts data (usually strings) to numeric types (int or float). Useful when you have numbers stored as strings and want to perform math operations."
   ]
  },
  {
   "cell_type": "code",
   "execution_count": 179,
   "id": "5a248025",
   "metadata": {},
   "outputs": [
    {
     "name": "stdout",
     "output_type": "stream",
     "text": [
      "[10. 20. 30. nan]\n"
     ]
    }
   ],
   "source": [
    "import pandas as pd\n",
    "\n",
    "data = ['10', '20', '30', 'not_a_number']\n",
    "\n",
    "# Convert with errors='coerce' to turn invalid parsing to NaN\n",
    "numeric_data = pd.to_numeric(data, errors='coerce')\n",
    "print(numeric_data)"
   ]
  },
  {
   "cell_type": "markdown",
   "id": "2d8ebf40",
   "metadata": {},
   "source": [
    "2. `pd.to_datetime(data)`  \n",
    "Converts strings or other formats to pandas datetime objects."
   ]
  },
  {
   "cell_type": "code",
   "execution_count": 182,
   "id": "bcec120e",
   "metadata": {},
   "outputs": [
    {
     "name": "stdout",
     "output_type": "stream",
     "text": [
      "DatetimeIndex(['2023-01-01', '2023-02-01', '2023-03-03'], dtype='datetime64[ns]', freq=None)\n"
     ]
    }
   ],
   "source": [
    "import pandas as pd\n",
    "\n",
    "dates = ['2023-01-01', '2023/02/01', 'March 3, 2023']\n",
    "\n",
    "datetime_data = pd.to_datetime(dates, format='mixed')\n",
    "print(datetime_data)"
   ]
  },
  {
   "cell_type": "markdown",
   "id": "163ba4ce",
   "metadata": {},
   "source": [
    "3. `pd.to_timedelta(data)`  \n",
    "Converts strings or numbers to timedelta objects (differences/durations)."
   ]
  },
  {
   "cell_type": "code",
   "execution_count": 183,
   "id": "c4f1b4c3",
   "metadata": {},
   "outputs": [
    {
     "name": "stdout",
     "output_type": "stream",
     "text": [
      "TimedeltaIndex(['1 days 00:00:00', '0 days 02:00:00', '0 days 00:30:00'], dtype='timedelta64[ns]', freq=None)\n"
     ]
    }
   ],
   "source": [
    "times = ['1 days', '2 hours', '30 minutes']\n",
    "timedelta_data = pd.to_timedelta(times)\n",
    "print(timedelta_data)\n"
   ]
  },
  {
   "cell_type": "markdown",
   "id": "aaf93a1d",
   "metadata": {},
   "source": [
    "4. `df.as_type(type)`  \n",
    "Changes the datatype of a DataFrame column to the specified type (int, float, category, etc)."
   ]
  },
  {
   "cell_type": "code",
   "execution_count": 190,
   "id": "a43afcfb",
   "metadata": {},
   "outputs": [
    {
     "name": "stdout",
     "output_type": "stream",
     "text": [
      "   A\n",
      "0  1\n",
      "1  2\n",
      "2  3\n",
      "A    int64\n",
      "dtype: object\n",
      "\n",
      "A    float64\n",
      "dtype: object\n"
     ]
    }
   ],
   "source": [
    "df = pd.DataFrame({'A': [1, 2, 3]})\n",
    "print(df)\n",
    "print(df.dtypes)\n",
    "print()\n",
    "\n",
    "df['A'] = df['A'].astype(float)\n",
    "print(df.dtypes)\n"
   ]
  },
  {
   "cell_type": "markdown",
   "id": "5e89584f",
   "metadata": {},
   "source": [
    "5. `df.infer_objects()`  \n",
    "Attempts to infer better datatypes for columns with object dtype (e.g., converts strings of numbers to numeric)."
   ]
  },
  {
   "cell_type": "code",
   "execution_count": 200,
   "id": "2272c757",
   "metadata": {},
   "outputs": [
    {
     "name": "stdout",
     "output_type": "stream",
     "text": [
      "A    object\n",
      "B    object\n",
      "dtype: object\n",
      "\n",
      "A    object\n",
      "B    object\n",
      "dtype: object\n"
     ]
    }
   ],
   "source": [
    "df = pd.DataFrame({'A': ['1', '2', '3'], 'B': ['a', 'b', 'c']})\n",
    "print(df.dtypes)\n",
    "print()\n",
    "\n",
    "df = df.infer_objects()\n",
    "print(df.dtypes)"
   ]
  },
  {
   "cell_type": "markdown",
   "id": "f369acbf",
   "metadata": {},
   "source": [
    "6. `df.convert_dtypes()`  \n",
    "Converts columns to the best possible dtype, including nullable integer, string, boolean types."
   ]
  },
  {
   "cell_type": "code",
   "execution_count": 197,
   "id": "134dab9d",
   "metadata": {},
   "outputs": [
    {
     "name": "stdout",
     "output_type": "stream",
     "text": [
      "A    float64\n",
      "B     object\n",
      "dtype: object\n",
      "A             Int64\n",
      "B    string[python]\n",
      "dtype: object\n"
     ]
    }
   ],
   "source": [
    "df = pd.DataFrame({'A': [1, 2, None], 'B': ['x', 'y', 'z']})\n",
    "print(df.dtypes)\n",
    "df = df.convert_dtypes()\n",
    "print(df.dtypes)"
   ]
  },
  {
   "cell_type": "markdown",
   "id": "affe7e6a",
   "metadata": {},
   "source": [
    "# Datetime"
   ]
  },
  {
   "cell_type": "code",
   "execution_count": 202,
   "id": "52f98971",
   "metadata": {},
   "outputs": [
    {
     "data": {
      "text/plain": [
       "0   2023-01-15 08:30:45\n",
       "1   2024-04-10 16:45:30\n",
       "2   2025-07-20 23:59:59\n",
       "dtype: datetime64[ns]"
      ]
     },
     "execution_count": 202,
     "metadata": {},
     "output_type": "execute_result"
    }
   ],
   "source": [
    "import pandas as pd\n",
    "\n",
    "dates = pd.Series(pd.to_datetime([\n",
    "    '2023-01-15 08:30:45',\n",
    "    '2024-04-10 16:45:30',\n",
    "    '2025-07-20 23:59:59'\n",
    "]))\n",
    "dates"
   ]
  },
  {
   "cell_type": "markdown",
   "id": "b7ca9e70",
   "metadata": {},
   "source": [
    "`dates.dt.year`\t\tExtract the year as integer\t  \n",
    "`dates.dt.month`\tExtract the month as integer  \n",
    "`dates.dt.day`\t\tExtract the day as integer  \n",
    "`dates.dt.quarter`\tFind which quarter the date lies in: \t1 (for Jan-Mar)  \n",
    "`dates.dt.hour`\t\tExtract the hour  \n",
    "`dates.dt.minute`\tExtract the minute  \n",
    "`dates.dt.second`\tExtract the second  \t"
   ]
  },
  {
   "cell_type": "code",
   "execution_count": 204,
   "id": "c4c527b7",
   "metadata": {},
   "outputs": [
    {
     "name": "stdout",
     "output_type": "stream",
     "text": [
      "Year:\n",
      " 0    2023\n",
      "1    2024\n",
      "2    2025\n",
      "dtype: int32\n",
      "Month:\n",
      " 0    1\n",
      "1    4\n",
      "2    7\n",
      "dtype: int32\n",
      "Day:\n",
      " 0    15\n",
      "1    10\n",
      "2    20\n",
      "dtype: int32\n",
      "Quarter:\n",
      " 0    1\n",
      "1    2\n",
      "2    3\n",
      "dtype: int32\n",
      "Hour:\n",
      " 0     8\n",
      "1    16\n",
      "2    23\n",
      "dtype: int32\n",
      "Minute:\n",
      " 0    30\n",
      "1    45\n",
      "2    59\n",
      "dtype: int32\n",
      "Second:\n",
      " 0    45\n",
      "1    30\n",
      "2    59\n",
      "dtype: int32\n"
     ]
    }
   ],
   "source": [
    "print(\"Year:\\n\", dates.dt.year)\n",
    "print(\"Month:\\n\", dates.dt.month)\n",
    "print(\"Day:\\n\", dates.dt.day)\n",
    "print(\"Quarter:\\n\", dates.dt.quarter)\n",
    "print(\"Hour:\\n\", dates.dt.hour)\n",
    "print(\"Minute:\\n\", dates.dt.minute)\n",
    "print(\"Second:\\n\", dates.dt.second)"
   ]
  },
  {
   "cell_type": "markdown",
   "id": "0d9e60ff",
   "metadata": {},
   "source": [
    "# Mapping"
   ]
  },
  {
   "cell_type": "markdown",
   "id": "94c03e08",
   "metadata": {},
   "source": [
    "1. `s.map(lambda x: 2 * x)`  \n",
    "Applies a function to each element in a Series.  \n",
    "Returns a new Series with the function applied element-wise."
   ]
  },
  {
   "cell_type": "code",
   "execution_count": 207,
   "id": "80ee8a14",
   "metadata": {},
   "outputs": [
    {
     "name": "stdout",
     "output_type": "stream",
     "text": [
      "0    2\n",
      "1    4\n",
      "2    6\n",
      "3    8\n",
      "dtype: int64\n"
     ]
    }
   ],
   "source": [
    "import pandas as pd\n",
    "\n",
    "s = pd.Series([1, 2, 3, 4])\n",
    "doubled = s.map(lambda x: 2 * x)\n",
    "print(doubled)"
   ]
  },
  {
   "cell_type": "markdown",
   "id": "f6a2ccd5",
   "metadata": {},
   "source": [
    "2. `df.apply(lambda s: s.max() - s.min(), axis=1)`  \n",
    "Applies a function along an axis of a DataFrame.  \n",
    "Here, the function calculates the range (max - min) of each row.  \n",
    "axis=1 means apply the function to each row."
   ]
  },
  {
   "cell_type": "code",
   "execution_count": 208,
   "id": "b756f7df",
   "metadata": {},
   "outputs": [
    {
     "name": "stdout",
     "output_type": "stream",
     "text": [
      "   A  B  C\n",
      "0  1  5  3\n",
      "1  4  2  8\n",
      "2  3  6  9\n",
      "\n",
      "0    4\n",
      "1    6\n",
      "2    6\n",
      "dtype: int64\n"
     ]
    }
   ],
   "source": [
    "df = pd.DataFrame({\n",
    "    'A': [1, 4, 3],\n",
    "    'B': [5, 2, 6],\n",
    "    'C': [3, 8, 9]\n",
    "})\n",
    "print(df)\n",
    "print()\n",
    "\n",
    "range_per_row = df.apply(lambda s: s.max() - s.min(), axis=1)\n",
    "print(range_per_row)\n"
   ]
  },
  {
   "cell_type": "markdown",
   "id": "de2050e4",
   "metadata": {},
   "source": [
    "# Series String Operations  \n",
    "Similar to python string operations, except these are vectorized to apply to the\n",
    "entire Series efficiently"
   ]
  },
  {
   "cell_type": "code",
   "execution_count": 210,
   "id": "c29f8156",
   "metadata": {},
   "outputs": [
    {
     "data": {
      "text/plain": [
       "0      hello world\n",
       "1    pandas STRING\n",
       "2           123abc\n",
       "3          test123\n",
       "dtype: object"
      ]
     },
     "execution_count": 210,
     "metadata": {},
     "output_type": "execute_result"
    }
   ],
   "source": [
    "import pandas as pd\n",
    "\n",
    "s = pd.Series(['hello world', 'pandas STRING', '123abc', 'test123'])\n",
    "s"
   ]
  },
  {
   "cell_type": "markdown",
   "id": "f3f3ed6e",
   "metadata": {},
   "source": [
    "1. `s.str.count(pattern)`  \n",
    "Counts occurrences of pattern in each string element."
   ]
  },
  {
   "cell_type": "code",
   "execution_count": 211,
   "id": "2992ddb2",
   "metadata": {},
   "outputs": [
    {
     "name": "stdout",
     "output_type": "stream",
     "text": [
      "0    0\n",
      "1    2\n",
      "2    1\n",
      "3    0\n",
      "dtype: int64\n"
     ]
    }
   ],
   "source": [
    "counts = s.str.count('a')\n",
    "print(counts)"
   ]
  },
  {
   "cell_type": "markdown",
   "id": "a6e933df",
   "metadata": {},
   "source": [
    "2. `s.str.get(index)`  \n",
    "Extracts the character at position `index` from each string."
   ]
  },
  {
   "cell_type": "code",
   "execution_count": 212,
   "id": "59b41750",
   "metadata": {},
   "outputs": [
    {
     "name": "stdout",
     "output_type": "stream",
     "text": [
      "0    h\n",
      "1    p\n",
      "2    1\n",
      "3    t\n",
      "dtype: object\n"
     ]
    }
   ],
   "source": [
    "chars = s.str.get(0)\n",
    "print(chars)"
   ]
  },
  {
   "cell_type": "markdown",
   "id": "973322fa",
   "metadata": {},
   "source": [
    "3. `s.str.join(sep)`  \n",
    "Joins elements of each string using separator sep.  \n",
    "(Note: Usually used when each element contains a list of strings)"
   ]
  },
  {
   "cell_type": "code",
   "execution_count": 213,
   "id": "cbc75317",
   "metadata": {},
   "outputs": [
    {
     "name": "stdout",
     "output_type": "stream",
     "text": [
      "0    a-b\n",
      "1    c-d\n",
      "2      e\n",
      "dtype: object\n"
     ]
    }
   ],
   "source": [
    "s2 = pd.Series([['a', 'b'], ['c', 'd'], ['e']])\n",
    "joined = s2.str.join('-')\n",
    "print(joined)"
   ]
  },
  {
   "cell_type": "markdown",
   "id": "7303cbb8",
   "metadata": {},
   "source": [
    "4. `s.str.title()`  \n",
    "Capitalizes the first letter of each word."
   ]
  },
  {
   "cell_type": "code",
   "execution_count": 214,
   "id": "ddb0e05b",
   "metadata": {},
   "outputs": [
    {
     "name": "stdout",
     "output_type": "stream",
     "text": [
      "0      Hello World\n",
      "1    Pandas String\n",
      "2           123Abc\n",
      "3          Test123\n",
      "dtype: object\n"
     ]
    }
   ],
   "source": [
    "titles = s.str.title()\n",
    "print(titles)"
   ]
  },
  {
   "cell_type": "markdown",
   "id": "c533d3ba",
   "metadata": {},
   "source": [
    "5. `s.str.len()`  \n",
    "Returns length of each string."
   ]
  },
  {
   "cell_type": "code",
   "execution_count": 215,
   "id": "ae6c2e18",
   "metadata": {},
   "outputs": [
    {
     "name": "stdout",
     "output_type": "stream",
     "text": [
      "0    11\n",
      "1    13\n",
      "2     6\n",
      "3     7\n",
      "dtype: int64\n"
     ]
    }
   ],
   "source": [
    "lengths = s.str.len()\n",
    "print(lengths)"
   ]
  },
  {
   "cell_type": "markdown",
   "id": "e232c27b",
   "metadata": {},
   "source": [
    "6. `s.str.cat()`  \n",
    "Concatenates all strings into one string."
   ]
  },
  {
   "cell_type": "code",
   "execution_count": 216,
   "id": "3a93ece7",
   "metadata": {},
   "outputs": [
    {
     "name": "stdout",
     "output_type": "stream",
     "text": [
      "hello world, pandas STRING, 123abc, test123\n"
     ]
    }
   ],
   "source": [
    "concatenated = s.str.cat(sep=', ')\n",
    "print(concatenated)"
   ]
  },
  {
   "cell_type": "markdown",
   "id": "f2b359a9",
   "metadata": {},
   "source": [
    "7. `s.str.partition(sep)`  \n",
    "Splits each string at the first occurrence of sep, returns three parts."
   ]
  },
  {
   "cell_type": "code",
   "execution_count": 217,
   "id": "02aeea6d",
   "metadata": {},
   "outputs": [
    {
     "name": "stdout",
     "output_type": "stream",
     "text": [
      "         0  1       2\n",
      "0    hello      world\n",
      "1   pandas     STRING\n",
      "2   123abc           \n",
      "3  test123           \n"
     ]
    }
   ],
   "source": [
    "partitioned = s.str.partition(' ')\n",
    "print(partitioned)"
   ]
  },
  {
   "cell_type": "markdown",
   "id": "4e6eed77",
   "metadata": {},
   "source": [
    "8. `s.str.slice(start, stop, step)`  \n",
    "Slices each string like Python slicing."
   ]
  },
  {
   "cell_type": "code",
   "execution_count": 218,
   "id": "74389ab5",
   "metadata": {},
   "outputs": [
    {
     "name": "stdout",
     "output_type": "stream",
     "text": [
      "0    hello\n",
      "1    panda\n",
      "2    123ab\n",
      "3    test1\n",
      "dtype: object\n"
     ]
    }
   ],
   "source": [
    "sliced = s.str.slice(0, 5)\n",
    "print(sliced)"
   ]
  },
  {
   "cell_type": "markdown",
   "id": "8bd93890",
   "metadata": {},
   "source": [
    "9. `s.str.replace(pat, rep)`  \n",
    "Replaces substring or regex pattern pat with rep."
   ]
  },
  {
   "cell_type": "code",
   "execution_count": 219,
   "id": "acd3aecd",
   "metadata": {},
   "outputs": [
    {
     "name": "stdout",
     "output_type": "stream",
     "text": [
      "0      hello world\n",
      "1    pandas STRING\n",
      "2           XYZabc\n",
      "3          testXYZ\n",
      "dtype: object\n"
     ]
    }
   ],
   "source": [
    "replaced = s.str.replace('123', 'XYZ', regex=False)\n",
    "print(replaced)"
   ]
  },
  {
   "cell_type": "markdown",
   "id": "49369e22",
   "metadata": {},
   "source": [
    "10. `s.str.isalnum()`  \n",
    "Checks if each string consists only of alphanumeric characters."
   ]
  },
  {
   "cell_type": "code",
   "execution_count": 220,
   "id": "2cde2347",
   "metadata": {},
   "outputs": [
    {
     "name": "stdout",
     "output_type": "stream",
     "text": [
      "0    False\n",
      "1    False\n",
      "2     True\n",
      "3     True\n",
      "dtype: bool\n"
     ]
    }
   ],
   "source": [
    "isalnum = s.str.isalnum()\n",
    "print(isalnum)"
   ]
  },
  {
   "cell_type": "markdown",
   "id": "c9f113f0",
   "metadata": {},
   "source": []
  },
  {
   "cell_type": "markdown",
   "id": "1c8e445b",
   "metadata": {},
   "source": []
  }
 ],
 "metadata": {
  "kernelspec": {
   "display_name": "Python 3",
   "language": "python",
   "name": "python3"
  },
  "language_info": {
   "codemirror_mode": {
    "name": "ipython",
    "version": 3
   },
   "file_extension": ".py",
   "mimetype": "text/x-python",
   "name": "python",
   "nbconvert_exporter": "python",
   "pygments_lexer": "ipython3",
   "version": "3.9.0"
  }
 },
 "nbformat": 4,
 "nbformat_minor": 5
}
