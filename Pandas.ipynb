{
 "cells": [
  {
   "cell_type": "markdown",
   "id": "fd09f418",
   "metadata": {},
   "source": [
    "# Creating DataFrames"
   ]
  },
  {
   "cell_type": "markdown",
   "id": "1a0421b1",
   "metadata": {},
   "source": [
    "Specify values for each column"
   ]
  },
  {
   "cell_type": "code",
   "execution_count": 7,
   "id": "a989c1e7",
   "metadata": {},
   "outputs": [
    {
     "name": "stdout",
     "output_type": "stream",
     "text": [
      "   Day  Vehicle_Count  Accidents\n",
      "A  Mon            100          1\n",
      "B  Tue            120          0\n",
      "C  Wed            130          2\n",
      "D  Thu            140          1\n",
      "E  Fri            150          0\n"
     ]
    }
   ],
   "source": [
    "import pandas as pd\n",
    "\n",
    "data = {\n",
    "    'Day': ['Mon', 'Tue', 'Wed', 'Thu', 'Fri'],\n",
    "    'Vehicle_Count': [100, 120, 130, 140, 150],\n",
    "    'Accidents': [1, 0, 2, 1, 0]\n",
    "}\n",
    "df = pd.DataFrame(data, index=['A', 'B', 'C', 'D', 'E'])\n",
    "print(df)"
   ]
  },
  {
   "cell_type": "markdown",
   "id": "aa44ffdd",
   "metadata": {},
   "source": [
    "Specify values for each row"
   ]
  },
  {
   "cell_type": "code",
   "execution_count": 2,
   "id": "9c1af097",
   "metadata": {},
   "outputs": [
    {
     "name": "stdout",
     "output_type": "stream",
     "text": [
      "   Day  Vehicle_Count  Accidents\n",
      "1  Mon            100          1\n",
      "2  Tue            120          0\n",
      "3  Wed            130          2\n",
      "4  Thu            140          1\n",
      "5  Fri            150          0\n"
     ]
    }
   ],
   "source": [
    "import pandas as pd\n",
    "\n",
    "# Define data row-wise\n",
    "data = [\n",
    "    ['Mon', 100, 1],\n",
    "    ['Tue', 120, 0],\n",
    "    ['Wed', 130, 2],\n",
    "    ['Thu', 140, 1],\n",
    "    ['Fri', 150, 0]\n",
    "]\n",
    "\n",
    "# Create DataFrame and specify column names\n",
    "df = pd.DataFrame(data, columns=['Day', 'Vehicle_Count', 'Accidents'], index=[1,2,3,4,5])\n",
    "\n",
    "print(df)"
   ]
  },
  {
   "cell_type": "markdown",
   "id": "2dda1363",
   "metadata": {},
   "source": [
    "Create DataFrame with a MultiIndex/Hierarchical index"
   ]
  },
  {
   "cell_type": "code",
   "execution_count": 5,
   "id": "a4288269",
   "metadata": {},
   "outputs": [
    {
     "name": "stdout",
     "output_type": "stream",
     "text": [
      "     a  b   c\n",
      "n v          \n",
      "d 1  4  7  10\n",
      "  2  5  8  11\n",
      "e 2  6  9  12\n"
     ]
    }
   ],
   "source": [
    "import pandas as pd\n",
    "\n",
    "# Step 1: Define the data for each column (like normal)\n",
    "df = pd.DataFrame(\n",
    "    {\n",
    "        \"a\": [4, 5, 6],\n",
    "        \"b\": [7, 8, 9],\n",
    "        \"c\": [10, 11, 12]\n",
    "    }, index=pd.MultiIndex.from_tuples([('d',1),('d',2),('e',2)], names=['n', 'v']))\n",
    "\n",
    "print(df)"
   ]
  },
  {
   "cell_type": "markdown",
   "id": "4ea2a5b8",
   "metadata": {},
   "source": [
    "Accessing Data in MultiIndex"
   ]
  },
  {
   "cell_type": "code",
   "execution_count": 8,
   "id": "6acd7355",
   "metadata": {},
   "outputs": [
    {
     "name": "stdout",
     "output_type": "stream",
     "text": [
      "a     4\n",
      "b     7\n",
      "c    10\n",
      "Name: (d, 1), dtype: int64\n",
      "a     6\n",
      "b     9\n",
      "c    12\n",
      "Name: (e, 2), dtype: int64\n"
     ]
    }
   ],
   "source": [
    "print(df.loc[('d',1)])      #Row where n='d' and v=1\n",
    "print(df.loc[('e',2)])      #Row where n='e' and v=2"
   ]
  },
  {
   "cell_type": "markdown",
   "id": "03c1d2b9",
   "metadata": {},
   "source": [
    "# Reshaping Data"
   ]
  },
  {
   "cell_type": "markdown",
   "id": "13d45cda",
   "metadata": {},
   "source": [
    "#### 1. `pd.melt(df)` – Gather columns into rows  \n",
    "Purpose: Converts wide data into long data."
   ]
  },
  {
   "cell_type": "code",
   "execution_count": 9,
   "id": "6873a1e5",
   "metadata": {},
   "outputs": [
    {
     "data": {
      "text/html": [
       "<div>\n",
       "<style scoped>\n",
       "    .dataframe tbody tr th:only-of-type {\n",
       "        vertical-align: middle;\n",
       "    }\n",
       "\n",
       "    .dataframe tbody tr th {\n",
       "        vertical-align: top;\n",
       "    }\n",
       "\n",
       "    .dataframe thead th {\n",
       "        text-align: right;\n",
       "    }\n",
       "</style>\n",
       "<table border=\"1\" class=\"dataframe\">\n",
       "  <thead>\n",
       "    <tr style=\"text-align: right;\">\n",
       "      <th></th>\n",
       "      <th>Name</th>\n",
       "      <th>Math</th>\n",
       "      <th>Science</th>\n",
       "    </tr>\n",
       "  </thead>\n",
       "  <tbody>\n",
       "    <tr>\n",
       "      <th>0</th>\n",
       "      <td>Alice</td>\n",
       "      <td>90</td>\n",
       "      <td>85</td>\n",
       "    </tr>\n",
       "    <tr>\n",
       "      <th>1</th>\n",
       "      <td>Bob</td>\n",
       "      <td>80</td>\n",
       "      <td>95</td>\n",
       "    </tr>\n",
       "  </tbody>\n",
       "</table>\n",
       "</div>"
      ],
      "text/plain": [
       "    Name  Math  Science\n",
       "0  Alice    90       85\n",
       "1    Bob    80       95"
      ]
     },
     "execution_count": 9,
     "metadata": {},
     "output_type": "execute_result"
    }
   ],
   "source": [
    "import pandas as pd\n",
    "\n",
    "df = pd.DataFrame({\n",
    "    'Name': ['Alice', 'Bob'],\n",
    "    'Math': [90, 80],\n",
    "    'Science': [85, 95]\n",
    "})\n",
    "df"
   ]
  },
  {
   "cell_type": "code",
   "execution_count": 11,
   "id": "3dfa248a",
   "metadata": {},
   "outputs": [
    {
     "data": {
      "text/html": [
       "<div>\n",
       "<style scoped>\n",
       "    .dataframe tbody tr th:only-of-type {\n",
       "        vertical-align: middle;\n",
       "    }\n",
       "\n",
       "    .dataframe tbody tr th {\n",
       "        vertical-align: top;\n",
       "    }\n",
       "\n",
       "    .dataframe thead th {\n",
       "        text-align: right;\n",
       "    }\n",
       "</style>\n",
       "<table border=\"1\" class=\"dataframe\">\n",
       "  <thead>\n",
       "    <tr style=\"text-align: right;\">\n",
       "      <th></th>\n",
       "      <th>Name</th>\n",
       "      <th>Subject</th>\n",
       "      <th>Score</th>\n",
       "    </tr>\n",
       "  </thead>\n",
       "  <tbody>\n",
       "    <tr>\n",
       "      <th>0</th>\n",
       "      <td>Alice</td>\n",
       "      <td>Math</td>\n",
       "      <td>90</td>\n",
       "    </tr>\n",
       "    <tr>\n",
       "      <th>1</th>\n",
       "      <td>Bob</td>\n",
       "      <td>Math</td>\n",
       "      <td>80</td>\n",
       "    </tr>\n",
       "    <tr>\n",
       "      <th>2</th>\n",
       "      <td>Alice</td>\n",
       "      <td>Science</td>\n",
       "      <td>85</td>\n",
       "    </tr>\n",
       "    <tr>\n",
       "      <th>3</th>\n",
       "      <td>Bob</td>\n",
       "      <td>Science</td>\n",
       "      <td>95</td>\n",
       "    </tr>\n",
       "  </tbody>\n",
       "</table>\n",
       "</div>"
      ],
      "text/plain": [
       "    Name  Subject  Score\n",
       "0  Alice     Math     90\n",
       "1    Bob     Math     80\n",
       "2  Alice  Science     85\n",
       "3    Bob  Science     95"
      ]
     },
     "execution_count": 11,
     "metadata": {},
     "output_type": "execute_result"
    }
   ],
   "source": [
    "melted = pd.melt(\n",
    "    df,\n",
    "    id_vars=['Name'],            # The column to keep fixed\n",
    "    var_name='Subject',          # New column name for old column headers (Math, Science)\n",
    "    value_name='Score'           # New column name for values under Math/Science\n",
    ")\n",
    "\n",
    "melted"
   ]
  },
  {
   "cell_type": "markdown",
   "id": "34df3db6",
   "metadata": {},
   "source": [
    "#### `2. df.pivot(columns='var', values='val')` – Spread rows into columns"
   ]
  },
  {
   "cell_type": "code",
   "execution_count": 12,
   "id": "c65a0fa1",
   "metadata": {},
   "outputs": [
    {
     "name": "stdout",
     "output_type": "stream",
     "text": [
      "  Salesperson Month  Sales\n",
      "0       Alice   Jan    250\n",
      "1       Alice   Feb    300\n",
      "2         Bob   Jan    200\n",
      "3         Bob   Feb    220\n",
      "4     Charlie   Jan    150\n",
      "5     Charlie   Feb    180\n"
     ]
    }
   ],
   "source": [
    "import pandas as pd\n",
    "\n",
    "data = {\n",
    "    'Salesperson': ['Alice', 'Alice', 'Bob', 'Bob', 'Charlie', 'Charlie'],\n",
    "    'Month': ['Jan', 'Feb', 'Jan', 'Feb', 'Jan', 'Feb'],\n",
    "    'Sales': [250, 300, 200, 220, 150, 180]\n",
    "}\n",
    "\n",
    "df = pd.DataFrame(data)\n",
    "print(df)\n"
   ]
  },
  {
   "cell_type": "code",
   "execution_count": 15,
   "id": "cc38e0bd",
   "metadata": {},
   "outputs": [
    {
     "name": "stdout",
     "output_type": "stream",
     "text": [
      "Month        Feb  Jan\n",
      "Salesperson          \n",
      "Alice        300  250\n",
      "Bob          220  200\n",
      "Charlie      180  150\n"
     ]
    }
   ],
   "source": [
    "df_pivot=df.pivot(index='Salesperson', columns='Month', values='Sales')\n",
    "print(df_pivot)"
   ]
  },
  {
   "cell_type": "markdown",
   "id": "fb8657d9",
   "metadata": {},
   "source": [
    "#### 3. `pd.concat([df1, df2])` – Append rows"
   ]
  },
  {
   "cell_type": "code",
   "execution_count": 16,
   "id": "ab30e018",
   "metadata": {},
   "outputs": [
    {
     "name": "stdout",
     "output_type": "stream",
     "text": [
      "   OrderID    Coffee     Pastry\n",
      "0        1     Latte  Croissant\n",
      "1        2  Espresso     Muffin\n",
      "   OrderID      Coffee Pastry\n",
      "0        3  Cappuccino  Donut\n",
      "1        4   Americano  Scone\n"
     ]
    }
   ],
   "source": [
    "import pandas as pd\n",
    "\n",
    "# Data for Day 1 orders\n",
    "df1 = pd.DataFrame({\n",
    "    'OrderID': [1, 2],\n",
    "    'Coffee': ['Latte', 'Espresso'],\n",
    "    'Pastry': ['Croissant', 'Muffin']\n",
    "})\n",
    "\n",
    "print(df1)\n",
    "\n",
    "# Data for Day 2 orders\n",
    "df2 = pd.DataFrame({\n",
    "    'OrderID': [3, 4],\n",
    "    'Coffee': ['Cappuccino', 'Americano'],\n",
    "    'Pastry': ['Donut', 'Scone']\n",
    "})\n",
    "\n",
    "print(df2)"
   ]
  },
  {
   "cell_type": "markdown",
   "id": "cb4417ce",
   "metadata": {},
   "source": [
    "concatenate two dataframe by appending rows"
   ]
  },
  {
   "cell_type": "code",
   "execution_count": 17,
   "id": "0702182b",
   "metadata": {},
   "outputs": [
    {
     "name": "stdout",
     "output_type": "stream",
     "text": [
      "   OrderID      Coffee     Pastry\n",
      "0        1       Latte  Croissant\n",
      "1        2    Espresso     Muffin\n",
      "0        3  Cappuccino      Donut\n",
      "1        4   Americano      Scone\n"
     ]
    }
   ],
   "source": [
    "df_combined=pd.concat([df1, df2])\n",
    "print(df_combined)"
   ]
  },
  {
   "cell_type": "markdown",
   "id": "29fb70b9",
   "metadata": {},
   "source": [
    "####  4. `pd.concat([df1, df2], axis=1)` – Append columns  \n",
    "Combines DataFrames horizontally (column-wise)."
   ]
  },
  {
   "cell_type": "code",
   "execution_count": 27,
   "id": "242bdb87",
   "metadata": {},
   "outputs": [
    {
     "name": "stdout",
     "output_type": "stream",
     "text": [
      "      Name Department\n",
      "0    Alice         HR\n",
      "1      Bob    Finance\n",
      "2  Charlie         IT\n",
      "\n",
      "   Salary  Experience\n",
      "0   70000           5\n",
      "1   80000           8\n",
      "2   65000           3\n",
      "\n",
      "      Name Department  Salary  Experience\n",
      "0    Alice         HR   70000           5\n",
      "1      Bob    Finance   80000           8\n",
      "2  Charlie         IT   65000           3\n"
     ]
    }
   ],
   "source": [
    "import pandas as pd\n",
    "\n",
    "# DataFrame 1: employee names and departments\n",
    "df1 = pd.DataFrame({\n",
    "    'Name': ['Alice', 'Bob', 'Charlie'],\n",
    "    'Department': ['HR', 'Finance', 'IT']\n",
    "})\n",
    "\n",
    "print(df1)\n",
    "print()\n",
    "\n",
    "# DataFrame 2: salaries and experience\n",
    "df2 = pd.DataFrame({\n",
    "    'Salary': [70000, 80000, 65000],\n",
    "    'Experience': [5, 8, 3]\n",
    "})\n",
    "\n",
    "print(df2)\n",
    "print()\n",
    "\n",
    "# Concatenate df1 and df2 side by side (columns)\n",
    "result = pd.concat([df1, df2], axis=1)\n",
    "\n",
    "print(result)\n"
   ]
  },
  {
   "cell_type": "code",
   "execution_count": null,
   "id": "3c3ee007",
   "metadata": {},
   "outputs": [],
   "source": []
  }
 ],
 "metadata": {
  "kernelspec": {
   "display_name": "Python 3",
   "language": "python",
   "name": "python3"
  },
  "language_info": {
   "codemirror_mode": {
    "name": "ipython",
    "version": 3
   },
   "file_extension": ".py",
   "mimetype": "text/x-python",
   "name": "python",
   "nbconvert_exporter": "python",
   "pygments_lexer": "ipython3",
   "version": "3.9.0"
  }
 },
 "nbformat": 4,
 "nbformat_minor": 5
}
