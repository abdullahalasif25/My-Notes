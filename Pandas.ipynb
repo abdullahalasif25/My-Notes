{
 "cells": [
  {
   "cell_type": "markdown",
   "id": "fd09f418",
   "metadata": {},
   "source": [
    "# Creating DataFrames"
   ]
  },
  {
   "cell_type": "markdown",
   "id": "1a0421b1",
   "metadata": {},
   "source": [
    "Specify values for each column"
   ]
  },
  {
   "cell_type": "code",
   "execution_count": 7,
   "id": "a989c1e7",
   "metadata": {},
   "outputs": [
    {
     "name": "stdout",
     "output_type": "stream",
     "text": [
      "   Day  Vehicle_Count  Accidents\n",
      "A  Mon            100          1\n",
      "B  Tue            120          0\n",
      "C  Wed            130          2\n",
      "D  Thu            140          1\n",
      "E  Fri            150          0\n"
     ]
    }
   ],
   "source": [
    "import pandas as pd\n",
    "\n",
    "data = {\n",
    "    'Day': ['Mon', 'Tue', 'Wed', 'Thu', 'Fri'],\n",
    "    'Vehicle_Count': [100, 120, 130, 140, 150],\n",
    "    'Accidents': [1, 0, 2, 1, 0]\n",
    "}\n",
    "df = pd.DataFrame(data, index=['A', 'B', 'C', 'D', 'E'])\n",
    "print(df)"
   ]
  },
  {
   "cell_type": "markdown",
   "id": "aa44ffdd",
   "metadata": {},
   "source": [
    "Specify values for each row"
   ]
  },
  {
   "cell_type": "code",
   "execution_count": 2,
   "id": "9c1af097",
   "metadata": {},
   "outputs": [
    {
     "name": "stdout",
     "output_type": "stream",
     "text": [
      "   Day  Vehicle_Count  Accidents\n",
      "1  Mon            100          1\n",
      "2  Tue            120          0\n",
      "3  Wed            130          2\n",
      "4  Thu            140          1\n",
      "5  Fri            150          0\n"
     ]
    }
   ],
   "source": [
    "import pandas as pd\n",
    "\n",
    "# Define data row-wise\n",
    "data = [\n",
    "    ['Mon', 100, 1],\n",
    "    ['Tue', 120, 0],\n",
    "    ['Wed', 130, 2],\n",
    "    ['Thu', 140, 1],\n",
    "    ['Fri', 150, 0]\n",
    "]\n",
    "\n",
    "# Create DataFrame and specify column names\n",
    "df = pd.DataFrame(data, columns=['Day', 'Vehicle_Count', 'Accidents'], index=[1,2,3,4,5])\n",
    "\n",
    "print(df)"
   ]
  },
  {
   "cell_type": "markdown",
   "id": "2dda1363",
   "metadata": {},
   "source": [
    "Create DataFrame with a MultiIndex/Hierarchical index"
   ]
  },
  {
   "cell_type": "code",
   "execution_count": 5,
   "id": "a4288269",
   "metadata": {},
   "outputs": [
    {
     "name": "stdout",
     "output_type": "stream",
     "text": [
      "     a  b   c\n",
      "n v          \n",
      "d 1  4  7  10\n",
      "  2  5  8  11\n",
      "e 2  6  9  12\n"
     ]
    }
   ],
   "source": [
    "import pandas as pd\n",
    "\n",
    "# Step 1: Define the data for each column (like normal)\n",
    "df = pd.DataFrame(\n",
    "    {\n",
    "        \"a\": [4, 5, 6],\n",
    "        \"b\": [7, 8, 9],\n",
    "        \"c\": [10, 11, 12]\n",
    "    }, index=pd.MultiIndex.from_tuples([('d',1),('d',2),('e',2)], names=['n', 'v']))\n",
    "\n",
    "print(df)"
   ]
  },
  {
   "cell_type": "markdown",
   "id": "4ea2a5b8",
   "metadata": {},
   "source": [
    "Accessing Data in MultiIndex"
   ]
  },
  {
   "cell_type": "code",
   "execution_count": 8,
   "id": "6acd7355",
   "metadata": {},
   "outputs": [
    {
     "name": "stdout",
     "output_type": "stream",
     "text": [
      "a     4\n",
      "b     7\n",
      "c    10\n",
      "Name: (d, 1), dtype: int64\n",
      "a     6\n",
      "b     9\n",
      "c    12\n",
      "Name: (e, 2), dtype: int64\n"
     ]
    }
   ],
   "source": [
    "print(df.loc[('d',1)])      #Row where n='d' and v=1\n",
    "print(df.loc[('e',2)])      #Row where n='e' and v=2"
   ]
  },
  {
   "cell_type": "markdown",
   "id": "03c1d2b9",
   "metadata": {},
   "source": [
    "# Reshaping Data"
   ]
  },
  {
   "cell_type": "markdown",
   "id": "13d45cda",
   "metadata": {},
   "source": [
    "#### 1. `pd.melt(df)` – Gather columns into rows  \n",
    "Purpose: Converts wide data into long data."
   ]
  },
  {
   "cell_type": "code",
   "execution_count": 9,
   "id": "6873a1e5",
   "metadata": {},
   "outputs": [
    {
     "data": {
      "text/html": [
       "<div>\n",
       "<style scoped>\n",
       "    .dataframe tbody tr th:only-of-type {\n",
       "        vertical-align: middle;\n",
       "    }\n",
       "\n",
       "    .dataframe tbody tr th {\n",
       "        vertical-align: top;\n",
       "    }\n",
       "\n",
       "    .dataframe thead th {\n",
       "        text-align: right;\n",
       "    }\n",
       "</style>\n",
       "<table border=\"1\" class=\"dataframe\">\n",
       "  <thead>\n",
       "    <tr style=\"text-align: right;\">\n",
       "      <th></th>\n",
       "      <th>Name</th>\n",
       "      <th>Math</th>\n",
       "      <th>Science</th>\n",
       "    </tr>\n",
       "  </thead>\n",
       "  <tbody>\n",
       "    <tr>\n",
       "      <th>0</th>\n",
       "      <td>Alice</td>\n",
       "      <td>90</td>\n",
       "      <td>85</td>\n",
       "    </tr>\n",
       "    <tr>\n",
       "      <th>1</th>\n",
       "      <td>Bob</td>\n",
       "      <td>80</td>\n",
       "      <td>95</td>\n",
       "    </tr>\n",
       "  </tbody>\n",
       "</table>\n",
       "</div>"
      ],
      "text/plain": [
       "    Name  Math  Science\n",
       "0  Alice    90       85\n",
       "1    Bob    80       95"
      ]
     },
     "execution_count": 9,
     "metadata": {},
     "output_type": "execute_result"
    }
   ],
   "source": [
    "import pandas as pd\n",
    "\n",
    "df = pd.DataFrame({\n",
    "    'Name': ['Alice', 'Bob'],\n",
    "    'Math': [90, 80],\n",
    "    'Science': [85, 95]\n",
    "})\n",
    "df"
   ]
  },
  {
   "cell_type": "code",
   "execution_count": 11,
   "id": "3dfa248a",
   "metadata": {},
   "outputs": [
    {
     "data": {
      "text/html": [
       "<div>\n",
       "<style scoped>\n",
       "    .dataframe tbody tr th:only-of-type {\n",
       "        vertical-align: middle;\n",
       "    }\n",
       "\n",
       "    .dataframe tbody tr th {\n",
       "        vertical-align: top;\n",
       "    }\n",
       "\n",
       "    .dataframe thead th {\n",
       "        text-align: right;\n",
       "    }\n",
       "</style>\n",
       "<table border=\"1\" class=\"dataframe\">\n",
       "  <thead>\n",
       "    <tr style=\"text-align: right;\">\n",
       "      <th></th>\n",
       "      <th>Name</th>\n",
       "      <th>Subject</th>\n",
       "      <th>Score</th>\n",
       "    </tr>\n",
       "  </thead>\n",
       "  <tbody>\n",
       "    <tr>\n",
       "      <th>0</th>\n",
       "      <td>Alice</td>\n",
       "      <td>Math</td>\n",
       "      <td>90</td>\n",
       "    </tr>\n",
       "    <tr>\n",
       "      <th>1</th>\n",
       "      <td>Bob</td>\n",
       "      <td>Math</td>\n",
       "      <td>80</td>\n",
       "    </tr>\n",
       "    <tr>\n",
       "      <th>2</th>\n",
       "      <td>Alice</td>\n",
       "      <td>Science</td>\n",
       "      <td>85</td>\n",
       "    </tr>\n",
       "    <tr>\n",
       "      <th>3</th>\n",
       "      <td>Bob</td>\n",
       "      <td>Science</td>\n",
       "      <td>95</td>\n",
       "    </tr>\n",
       "  </tbody>\n",
       "</table>\n",
       "</div>"
      ],
      "text/plain": [
       "    Name  Subject  Score\n",
       "0  Alice     Math     90\n",
       "1    Bob     Math     80\n",
       "2  Alice  Science     85\n",
       "3    Bob  Science     95"
      ]
     },
     "execution_count": 11,
     "metadata": {},
     "output_type": "execute_result"
    }
   ],
   "source": [
    "melted = pd.melt(\n",
    "    df,\n",
    "    id_vars=['Name'],            # The column to keep fixed\n",
    "    var_name='Subject',          # New column name for old column headers (Math, Science)\n",
    "    value_name='Score'           # New column name for values under Math/Science\n",
    ")\n",
    "\n",
    "melted"
   ]
  },
  {
   "cell_type": "markdown",
   "id": "34df3db6",
   "metadata": {},
   "source": [
    "#### `2. df.pivot(columns='var', values='val')` – Spread rows into columns"
   ]
  },
  {
   "cell_type": "code",
   "execution_count": 12,
   "id": "c65a0fa1",
   "metadata": {},
   "outputs": [
    {
     "name": "stdout",
     "output_type": "stream",
     "text": [
      "  Salesperson Month  Sales\n",
      "0       Alice   Jan    250\n",
      "1       Alice   Feb    300\n",
      "2         Bob   Jan    200\n",
      "3         Bob   Feb    220\n",
      "4     Charlie   Jan    150\n",
      "5     Charlie   Feb    180\n"
     ]
    }
   ],
   "source": [
    "import pandas as pd\n",
    "\n",
    "data = {\n",
    "    'Salesperson': ['Alice', 'Alice', 'Bob', 'Bob', 'Charlie', 'Charlie'],\n",
    "    'Month': ['Jan', 'Feb', 'Jan', 'Feb', 'Jan', 'Feb'],\n",
    "    'Sales': [250, 300, 200, 220, 150, 180]\n",
    "}\n",
    "\n",
    "df = pd.DataFrame(data)\n",
    "print(df)\n"
   ]
  },
  {
   "cell_type": "code",
   "execution_count": 15,
   "id": "cc38e0bd",
   "metadata": {},
   "outputs": [
    {
     "name": "stdout",
     "output_type": "stream",
     "text": [
      "Month        Feb  Jan\n",
      "Salesperson          \n",
      "Alice        300  250\n",
      "Bob          220  200\n",
      "Charlie      180  150\n"
     ]
    }
   ],
   "source": [
    "df_pivot=df.pivot(index='Salesperson', columns='Month', values='Sales')\n",
    "print(df_pivot)"
   ]
  },
  {
   "cell_type": "markdown",
   "id": "fb8657d9",
   "metadata": {},
   "source": [
    "#### 3. `pd.concat([df1, df2])` – Append rows"
   ]
  },
  {
   "cell_type": "code",
   "execution_count": 16,
   "id": "ab30e018",
   "metadata": {},
   "outputs": [
    {
     "name": "stdout",
     "output_type": "stream",
     "text": [
      "   OrderID    Coffee     Pastry\n",
      "0        1     Latte  Croissant\n",
      "1        2  Espresso     Muffin\n",
      "   OrderID      Coffee Pastry\n",
      "0        3  Cappuccino  Donut\n",
      "1        4   Americano  Scone\n"
     ]
    }
   ],
   "source": [
    "import pandas as pd\n",
    "\n",
    "# Data for Day 1 orders\n",
    "df1 = pd.DataFrame({\n",
    "    'OrderID': [1, 2],\n",
    "    'Coffee': ['Latte', 'Espresso'],\n",
    "    'Pastry': ['Croissant', 'Muffin']\n",
    "})\n",
    "\n",
    "print(df1)\n",
    "\n",
    "# Data for Day 2 orders\n",
    "df2 = pd.DataFrame({\n",
    "    'OrderID': [3, 4],\n",
    "    'Coffee': ['Cappuccino', 'Americano'],\n",
    "    'Pastry': ['Donut', 'Scone']\n",
    "})\n",
    "\n",
    "print(df2)"
   ]
  },
  {
   "cell_type": "markdown",
   "id": "cb4417ce",
   "metadata": {},
   "source": [
    "concatenate two dataframe by appending rows"
   ]
  },
  {
   "cell_type": "code",
   "execution_count": 17,
   "id": "0702182b",
   "metadata": {},
   "outputs": [
    {
     "name": "stdout",
     "output_type": "stream",
     "text": [
      "   OrderID      Coffee     Pastry\n",
      "0        1       Latte  Croissant\n",
      "1        2    Espresso     Muffin\n",
      "0        3  Cappuccino      Donut\n",
      "1        4   Americano      Scone\n"
     ]
    }
   ],
   "source": [
    "df_combined=pd.concat([df1, df2])\n",
    "print(df_combined)"
   ]
  },
  {
   "cell_type": "markdown",
   "id": "29fb70b9",
   "metadata": {},
   "source": [
    "####  4. `pd.concat([df1, df2], axis=1)` – Append columns  \n",
    "Combines DataFrames horizontally (column-wise)."
   ]
  },
  {
   "cell_type": "code",
   "execution_count": 27,
   "id": "242bdb87",
   "metadata": {},
   "outputs": [
    {
     "name": "stdout",
     "output_type": "stream",
     "text": [
      "      Name Department\n",
      "0    Alice         HR\n",
      "1      Bob    Finance\n",
      "2  Charlie         IT\n",
      "\n",
      "   Salary  Experience\n",
      "0   70000           5\n",
      "1   80000           8\n",
      "2   65000           3\n",
      "\n",
      "      Name Department  Salary  Experience\n",
      "0    Alice         HR   70000           5\n",
      "1      Bob    Finance   80000           8\n",
      "2  Charlie         IT   65000           3\n"
     ]
    }
   ],
   "source": [
    "import pandas as pd\n",
    "\n",
    "# DataFrame 1: employee names and departments\n",
    "df1 = pd.DataFrame({\n",
    "    'Name': ['Alice', 'Bob', 'Charlie'],\n",
    "    'Department': ['HR', 'Finance', 'IT']\n",
    "})\n",
    "\n",
    "print(df1)\n",
    "print()\n",
    "\n",
    "# DataFrame 2: salaries and experience\n",
    "df2 = pd.DataFrame({\n",
    "    'Salary': [70000, 80000, 65000],\n",
    "    'Experience': [5, 8, 3]\n",
    "})\n",
    "\n",
    "print(df2)\n",
    "print()\n",
    "\n",
    "# Concatenate df1 and df2 side by side (columns)\n",
    "result = pd.concat([df1, df2], axis=1)\n",
    "\n",
    "print(result)\n"
   ]
  },
  {
   "cell_type": "markdown",
   "id": "665cee2c",
   "metadata": {},
   "source": [
    "### Sorting, reindexing, renaming"
   ]
  },
  {
   "cell_type": "code",
   "execution_count": 31,
   "id": "3c3ee007",
   "metadata": {},
   "outputs": [
    {
     "name": "stdout",
     "output_type": "stream",
     "text": [
      "   mpg     y  Length  Height\n",
      "0   21  2010     180      55\n",
      "1   35  2015     190      60\n",
      "2   17  2012     175      57\n"
     ]
    }
   ],
   "source": [
    "import pandas as pd\n",
    "\n",
    "data = {\n",
    "    'mpg': [21, 35, 17],\n",
    "    'y': [2010, 2015, 2012],\n",
    "    'Length': [180, 190, 175],\n",
    "    'Height': [55, 60, 57]\n",
    "}\n",
    "\n",
    "df = pd.DataFrame(data)\n",
    "print(df)"
   ]
  },
  {
   "cell_type": "markdown",
   "id": "64604f30",
   "metadata": {},
   "source": [
    "Order rows by values of a column (low to high)"
   ]
  },
  {
   "cell_type": "code",
   "execution_count": 37,
   "id": "7dfcc17e",
   "metadata": {},
   "outputs": [
    {
     "name": "stdout",
     "output_type": "stream",
     "text": [
      "   mpg     y  Length  Height\n",
      "2   17  2012     175      57\n",
      "0   21  2010     180      55\n",
      "1   35  2015     190      60\n"
     ]
    }
   ],
   "source": [
    "# Sort by mpg ascending\n",
    "print(df.sort_values('mpg'))"
   ]
  },
  {
   "cell_type": "markdown",
   "id": "8d839438",
   "metadata": {},
   "source": [
    "Order rows by values of a column (high to low)."
   ]
  },
  {
   "cell_type": "code",
   "execution_count": 33,
   "id": "441271fa",
   "metadata": {},
   "outputs": [
    {
     "name": "stdout",
     "output_type": "stream",
     "text": [
      "   mpg     y  Length  Height\n",
      "1   35  2015     190      60\n",
      "0   21  2010     180      55\n",
      "2   17  2012     175      57\n"
     ]
    }
   ],
   "source": [
    "# Sort by mpg descending\n",
    "print(df.sort_values('mpg', ascending=False))"
   ]
  },
  {
   "cell_type": "markdown",
   "id": "544012eb",
   "metadata": {},
   "source": [
    "Rename the columns of a DataFrame"
   ]
  },
  {
   "cell_type": "code",
   "execution_count": 34,
   "id": "1501d8e8",
   "metadata": {},
   "outputs": [
    {
     "name": "stdout",
     "output_type": "stream",
     "text": [
      "   mpg  year  Length  Height\n",
      "0   21  2010     180      55\n",
      "1   35  2015     190      60\n",
      "2   17  2012     175      57\n"
     ]
    }
   ],
   "source": [
    "# Rename column 'y' to 'year'\n",
    "print(df.rename(columns={'y': 'year'}))"
   ]
  },
  {
   "cell_type": "markdown",
   "id": "073cb8a2",
   "metadata": {},
   "source": [
    "Sort the index of a DataFrame"
   ]
  },
  {
   "cell_type": "code",
   "execution_count": 35,
   "id": "a22f917c",
   "metadata": {},
   "outputs": [
    {
     "name": "stdout",
     "output_type": "stream",
     "text": [
      "   mpg     y  Length  Height\n",
      "0   21  2010     180      55\n",
      "1   35  2015     190      60\n",
      "2   17  2012     175      57\n"
     ]
    }
   ],
   "source": [
    "# Sort by index (row labels)\n",
    "print(df.sort_index())"
   ]
  },
  {
   "cell_type": "markdown",
   "id": "bdb4cc49",
   "metadata": {},
   "source": [
    "Reset index of DataFrame to row numbers, moving\n",
    "index to columns."
   ]
  },
  {
   "cell_type": "code",
   "execution_count": 38,
   "id": "adda8bfa",
   "metadata": {},
   "outputs": [
    {
     "name": "stdout",
     "output_type": "stream",
     "text": [
      "   index  mpg     y  Length  Height\n",
      "0      0   21  2010     180      55\n",
      "1      1   35  2015     190      60\n",
      "2      2   17  2012     175      57\n"
     ]
    }
   ],
   "source": [
    "# Reset index (useful if index is custom)\n",
    "print(df.reset_index())"
   ]
  },
  {
   "cell_type": "markdown",
   "id": "9bae398b",
   "metadata": {},
   "source": [
    "Drop columns from DataFrame"
   ]
  },
  {
   "cell_type": "code",
   "execution_count": 39,
   "id": "5c710bb6",
   "metadata": {},
   "outputs": [
    {
     "name": "stdout",
     "output_type": "stream",
     "text": [
      "   mpg     y\n",
      "0   21  2010\n",
      "1   35  2015\n",
      "2   17  2012\n"
     ]
    }
   ],
   "source": [
    "# Drop columns Length and Height\n",
    "print(df.drop(columns=['Length', 'Height']))"
   ]
  },
  {
   "cell_type": "markdown",
   "id": "7565207c",
   "metadata": {},
   "source": [
    "# Subset Observations - rows"
   ]
  },
  {
   "cell_type": "markdown",
   "id": "9cb871e3",
   "metadata": {},
   "source": [
    "1. `df[df.Length > 71]`  \n",
    "Extract rows where the `Length` column is greater than 71."
   ]
  },
  {
   "cell_type": "code",
   "execution_count": 40,
   "id": "7851dfa8",
   "metadata": {},
   "outputs": [
    {
     "name": "stdout",
     "output_type": "stream",
     "text": [
      "   Length  Height\n",
      "1      72      60\n",
      "3      75      62\n"
     ]
    }
   ],
   "source": [
    "import pandas as pd\n",
    "\n",
    "df = pd.DataFrame({'Length': [70, 72, 68, 75], 'Height': [55, 60, 58, 62]})\n",
    "subset = df[df.Length > 71]\n",
    "print(subset)\n"
   ]
  },
  {
   "cell_type": "markdown",
   "id": "69cfe1a7",
   "metadata": {},
   "source": [
    "2. `df.drop_duplicates()`  \n",
    "Remove duplicate rows (considering all columns)."
   ]
  },
  {
   "cell_type": "code",
   "execution_count": 43,
   "id": "3c2c934c",
   "metadata": {},
   "outputs": [
    {
     "name": "stdout",
     "output_type": "stream",
     "text": [
      "   A  B\n",
      "0  1  3\n",
      "2  1  5\n",
      "3  2  4\n"
     ]
    }
   ],
   "source": [
    "df = pd.DataFrame({'A': [1, 1, 1, 2, 2], 'B': [3, 3, 5, 4, 4]})\n",
    "unique = df.drop_duplicates()\n",
    "print(unique)\n"
   ]
  },
  {
   "cell_type": "markdown",
   "id": "076ecd58",
   "metadata": {},
   "source": [
    "3. `df.sample(frac=0.5)`  \n",
    "Randomly select 50% of rows."
   ]
  },
  {
   "cell_type": "code",
   "execution_count": 47,
   "id": "5919395f",
   "metadata": {},
   "outputs": [
    {
     "name": "stdout",
     "output_type": "stream",
     "text": [
      "   A\n",
      "0  0\n",
      "1  1\n",
      "2  2\n",
      "3  3\n",
      "4  4\n",
      "5  5\n",
      "6  6\n",
      "7  7\n",
      "8  8\n",
      "9  9\n",
      "\n",
      "   A\n",
      "7  7\n",
      "1  1\n",
      "9  9\n",
      "8  8\n",
      "5  5\n"
     ]
    }
   ],
   "source": [
    "df = pd.DataFrame({'A': range(10)})\n",
    "print(df)\n",
    "print()\n",
    "\n",
    "sampled = df.sample(frac=0.5)\n",
    "print(sampled)\n"
   ]
  },
  {
   "cell_type": "markdown",
   "id": "17886a6a",
   "metadata": {},
   "source": [
    "4. `df.sample(n=10)`  \n",
    "Randomly select exactly 10 rows (if the DataFrame has 10 or more rows)."
   ]
  },
  {
   "cell_type": "code",
   "execution_count": 52,
   "id": "3cae453b",
   "metadata": {},
   "outputs": [
    {
     "name": "stdout",
     "output_type": "stream",
     "text": [
      "     A\n",
      "4    4\n",
      "2    2\n",
      "18  18\n",
      "9    9\n",
      "3    3\n",
      "14  14\n",
      "19  19\n",
      "10  10\n",
      "11  11\n",
      "15  15\n"
     ]
    }
   ],
   "source": [
    "df = pd.DataFrame({'A': range(20)})\n",
    "sampled = df.sample(n=10)\n",
    "print(sampled)\n"
   ]
  },
  {
   "cell_type": "markdown",
   "id": "287d0a93",
   "metadata": {},
   "source": [
    "5. `df.nlargest(n, 'value')`  \n",
    "Select top n rows ordered by highest values in the 'value' colum"
   ]
  },
  {
   "cell_type": "code",
   "execution_count": 53,
   "id": "94668f0e",
   "metadata": {},
   "outputs": [
    {
     "name": "stdout",
     "output_type": "stream",
     "text": [
      "   value\n",
      "1     50\n",
      "3     40\n",
      "4     30\n"
     ]
    }
   ],
   "source": [
    "df = pd.DataFrame({'value': [10, 50, 20, 40, 30]})\n",
    "top3 = df.nlargest(3, 'value')\n",
    "print(top3)\n"
   ]
  },
  {
   "cell_type": "markdown",
   "id": "a89b3e27",
   "metadata": {},
   "source": [
    "6. `df.nsmallest(n, 'value')`  \n",
    "Select bottom n rows ordered by smallest values in 'value'."
   ]
  },
  {
   "cell_type": "code",
   "execution_count": 54,
   "id": "e86b1f72",
   "metadata": {},
   "outputs": [
    {
     "name": "stdout",
     "output_type": "stream",
     "text": [
      "   value\n",
      "0     10\n",
      "2     20\n"
     ]
    }
   ],
   "source": [
    "df = pd.DataFrame({'value': [10, 50, 20, 40, 30]})\n",
    "bottom2 = df.nsmallest(2, 'value')\n",
    "print(bottom2)\n"
   ]
  },
  {
   "cell_type": "markdown",
   "id": "151708f5",
   "metadata": {},
   "source": [
    "7. `df.head(n)`  \n",
    "Select first n rows"
   ]
  },
  {
   "cell_type": "code",
   "execution_count": 55,
   "id": "f540ba73",
   "metadata": {},
   "outputs": [
    {
     "name": "stdout",
     "output_type": "stream",
     "text": [
      "   A\n",
      "0  0\n",
      "1  1\n",
      "2  2\n"
     ]
    }
   ],
   "source": [
    "df = pd.DataFrame({'A': range(10)})\n",
    "print(df.head(3))\n"
   ]
  },
  {
   "cell_type": "markdown",
   "id": "c3fe6c95",
   "metadata": {},
   "source": [
    "8. `df.tail(n)`  \n",
    "Select last n rows."
   ]
  },
  {
   "cell_type": "code",
   "execution_count": 56,
   "id": "030b425a",
   "metadata": {},
   "outputs": [
    {
     "name": "stdout",
     "output_type": "stream",
     "text": [
      "   A\n",
      "7  7\n",
      "8  8\n",
      "9  9\n"
     ]
    }
   ],
   "source": [
    "df = pd.DataFrame({'A': range(10)})\n",
    "print(df.tail(3))\n"
   ]
  },
  {
   "cell_type": "markdown",
   "id": "fc4cb009",
   "metadata": {},
   "source": [
    "# Subset Variables - columns"
   ]
  },
  {
   "cell_type": "code",
   "execution_count": null,
   "id": "895d2070",
   "metadata": {},
   "outputs": [],
   "source": []
  }
 ],
 "metadata": {
  "kernelspec": {
   "display_name": "Python 3",
   "language": "python",
   "name": "python3"
  },
  "language_info": {
   "codemirror_mode": {
    "name": "ipython",
    "version": 3
   },
   "file_extension": ".py",
   "mimetype": "text/x-python",
   "name": "python",
   "nbconvert_exporter": "python",
   "pygments_lexer": "ipython3",
   "version": "3.9.0"
  }
 },
 "nbformat": 4,
 "nbformat_minor": 5
}
