{
 "cells": [
  {
   "cell_type": "markdown",
   "id": "73f557aa",
   "metadata": {},
   "source": [
    "## Common Ways to Create Random Numbers Using NumPy"
   ]
  },
  {
   "cell_type": "code",
   "execution_count": 2,
   "id": "5bdee14e",
   "metadata": {},
   "outputs": [],
   "source": [
    "import numpy as np"
   ]
  },
  {
   "cell_type": "markdown",
   "id": "4d4e55b8",
   "metadata": {},
   "source": [
    "1. Generate Random Floats Between 0 and 1\n",
    "```np.random.rand() generates a random float number between 0 and 1 (exclusive).```"
   ]
  },
  {
   "cell_type": "code",
   "execution_count": 3,
   "id": "4f3d6af1",
   "metadata": {},
   "outputs": [
    {
     "name": "stdout",
     "output_type": "stream",
     "text": [
      "0.21571366472239595\n"
     ]
    }
   ],
   "source": [
    "random_number = np.random.rand()\n",
    "print(random_number)"
   ]
  },
  {
   "cell_type": "code",
   "execution_count": null,
   "id": "defb30df",
   "metadata": {},
   "outputs": [],
   "source": []
  }
 ],
 "metadata": {
  "kernelspec": {
   "display_name": "Python 3",
   "language": "python",
   "name": "python3"
  },
  "language_info": {
   "codemirror_mode": {
    "name": "ipython",
    "version": 3
   },
   "file_extension": ".py",
   "mimetype": "text/x-python",
   "name": "python",
   "nbconvert_exporter": "python",
   "pygments_lexer": "ipython3",
   "version": "3.9.0"
  }
 },
 "nbformat": 4,
 "nbformat_minor": 5
}
