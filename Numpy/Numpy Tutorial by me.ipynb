{
 "cells": [
  {
   "cell_type": "markdown",
   "id": "cf250e34",
   "metadata": {},
   "source": [
    "# Creating Arrays"
   ]
  },
  {
   "cell_type": "markdown",
   "id": "6f124025",
   "metadata": {},
   "source": [
    "Importing numpy"
   ]
  },
  {
   "cell_type": "code",
   "execution_count": 1,
   "id": "2d7d661e",
   "metadata": {},
   "outputs": [],
   "source": [
    "import numpy as np"
   ]
  },
  {
   "cell_type": "markdown",
   "id": "ce6054ff",
   "metadata": {},
   "source": [
    "#### Create a 1D array (like a list)"
   ]
  },
  {
   "cell_type": "code",
   "execution_count": 2,
   "id": "98ee0abc",
   "metadata": {},
   "outputs": [
    {
     "name": "stdout",
     "output_type": "stream",
     "text": [
      "[1 2 3 4]\n"
     ]
    }
   ],
   "source": [
    "arr1=np.array([1,2,3,4])\n",
    "print(arr1)"
   ]
  },
  {
   "cell_type": "markdown",
   "id": "16ed85bf",
   "metadata": {},
   "source": [
    "Create a 2D array (matrix)"
   ]
  },
  {
   "cell_type": "code",
   "execution_count": 7,
   "id": "9ca5c1f2",
   "metadata": {},
   "outputs": [
    {
     "name": "stdout",
     "output_type": "stream",
     "text": [
      "[[1 2 3 4]\n",
      " [5 6 7 8]]\n"
     ]
    }
   ],
   "source": [
    "arr2=np.array([[1,2,3,4],[5,6,7,8]])\n",
    "print(arr2)"
   ]
  },
  {
   "cell_type": "markdown",
   "id": "830db66e",
   "metadata": {},
   "source": [
    "Create a 3D array"
   ]
  },
  {
   "cell_type": "code",
   "execution_count": 12,
   "id": "837b74e8",
   "metadata": {},
   "outputs": [
    {
     "name": "stdout",
     "output_type": "stream",
     "text": [
      "[[[1 2]\n",
      "  [3 4]]\n",
      "\n",
      " [[5 6]\n",
      "  [7 9]]]\n"
     ]
    }
   ],
   "source": [
    "arr3=np.array([[[1,2], [3,4]], [[5,6],[7,9]]])\n",
    "print(arr3)"
   ]
  },
  {
   "cell_type": "markdown",
   "id": "0408155f",
   "metadata": {},
   "source": [
    "# Initial placeholder"
   ]
  },
  {
   "cell_type": "markdown",
   "id": "eaaaf182",
   "metadata": {},
   "source": [
    "creating an array of zeros  \n"
   ]
  },
  {
   "cell_type": "code",
   "execution_count": 16,
   "id": "0fda7c1a",
   "metadata": {},
   "outputs": [
    {
     "data": {
      "text/plain": [
       "array([[0., 0., 0., 0.],\n",
       "       [0., 0., 0., 0.],\n",
       "       [0., 0., 0., 0.]])"
      ]
     },
     "execution_count": 16,
     "metadata": {},
     "output_type": "execute_result"
    }
   ],
   "source": [
    "#Creates a 2D array (3 rows and 4 columns) filled with zeros.\n",
    "\n",
    "np.zeros((3,4))"
   ]
  },
  {
   "cell_type": "markdown",
   "id": "50b3c53c",
   "metadata": {},
   "source": [
    "Create an array of ones"
   ]
  },
  {
   "cell_type": "code",
   "execution_count": 17,
   "id": "9d483183",
   "metadata": {},
   "outputs": [
    {
     "data": {
      "text/plain": [
       "array([[[1, 1, 1, 1],\n",
       "        [1, 1, 1, 1],\n",
       "        [1, 1, 1, 1]],\n",
       "\n",
       "       [[1, 1, 1, 1],\n",
       "        [1, 1, 1, 1],\n",
       "        [1, 1, 1, 1]]], dtype=int16)"
      ]
     },
     "execution_count": 17,
     "metadata": {},
     "output_type": "execute_result"
    }
   ],
   "source": [
    "# Creates a 3D array (2 blocks, each with 3 rows and 4 columns) filled with ones. The data type is int16 (16-bit integers).\n",
    "\n",
    "np.ones((2,3,4), dtype=np.int16)"
   ]
  },
  {
   "cell_type": "markdown",
   "id": "a4583775",
   "metadata": {},
   "source": [
    "Create an array of evenly spaced values (step value)"
   ]
  },
  {
   "cell_type": "code",
   "execution_count": 20,
   "id": "5ac51331",
   "metadata": {},
   "outputs": [
    {
     "data": {
      "text/plain": [
       "array([10, 15, 20])"
      ]
     },
     "execution_count": 20,
     "metadata": {},
     "output_type": "execute_result"
    }
   ],
   "source": [
    "# Creates a 1D array starting at 10, ending before 25, with a step size of 5.\n",
    "\n",
    "np.arange(10,25,5)"
   ]
  },
  {
   "cell_type": "markdown",
   "id": "69646b95",
   "metadata": {},
   "source": [
    "Create an array of evenly spaced values (number of samples)"
   ]
  },
  {
   "cell_type": "code",
   "execution_count": 22,
   "id": "62b523a2",
   "metadata": {},
   "outputs": [
    {
     "data": {
      "text/plain": [
       "array([0.  , 0.25, 0.5 , 0.75, 1.  , 1.25, 1.5 , 1.75, 2.  ])"
      ]
     },
     "execution_count": 22,
     "metadata": {},
     "output_type": "execute_result"
    }
   ],
   "source": [
    "np.linspace(0,2,9)"
   ]
  },
  {
   "cell_type": "markdown",
   "id": "e2506690",
   "metadata": {},
   "source": [
    "Create a constant array"
   ]
  },
  {
   "cell_type": "code",
   "execution_count": 24,
   "id": "68ae5875",
   "metadata": {},
   "outputs": [
    {
     "data": {
      "text/plain": [
       "array([[7, 7],\n",
       "       [7, 7]])"
      ]
     },
     "execution_count": 24,
     "metadata": {},
     "output_type": "execute_result"
    }
   ],
   "source": [
    "# Creates a 2x2 array where every element is the constant 7.\n",
    "\n",
    "np.full((2,2),7)"
   ]
  },
  {
   "cell_type": "markdown",
   "id": "0f30368c",
   "metadata": {},
   "source": [
    "Create a 2X2 identity matrix"
   ]
  },
  {
   "cell_type": "code",
   "execution_count": 26,
   "id": "a22cee46",
   "metadata": {},
   "outputs": [
    {
     "data": {
      "text/plain": [
       "array([[1., 0.],\n",
       "       [0., 1.]])"
      ]
     },
     "execution_count": 26,
     "metadata": {},
     "output_type": "execute_result"
    }
   ],
   "source": [
    "np.eye(2)"
   ]
  },
  {
   "cell_type": "markdown",
   "id": "8461140c",
   "metadata": {},
   "source": [
    "Create an array with random values"
   ]
  },
  {
   "cell_type": "code",
   "execution_count": 27,
   "id": "3fb7d142",
   "metadata": {},
   "outputs": [
    {
     "data": {
      "text/plain": [
       "array([[0.43053429, 0.56402564],\n",
       "       [0.82959718, 0.90675133]])"
      ]
     },
     "execution_count": 27,
     "metadata": {},
     "output_type": "execute_result"
    }
   ],
   "source": [
    "np.random.random((2,2))"
   ]
  },
  {
   "cell_type": "markdown",
   "id": "77d228f5",
   "metadata": {},
   "source": [
    "Create an empty array"
   ]
  },
  {
   "cell_type": "code",
   "execution_count": 28,
   "id": "4185376b",
   "metadata": {},
   "outputs": [
    {
     "data": {
      "text/plain": [
       "array([[0., 0.],\n",
       "       [0., 0.],\n",
       "       [0., 0.]])"
      ]
     },
     "execution_count": 28,
     "metadata": {},
     "output_type": "execute_result"
    }
   ],
   "source": [
    "np.empty((3,2))"
   ]
  },
  {
   "cell_type": "markdown",
   "id": "eb1cee5c",
   "metadata": {},
   "source": [
    "# Input/ Output"
   ]
  },
  {
   "cell_type": "markdown",
   "id": "b90c93cb",
   "metadata": {},
   "source": [
    "### Saving & Loading On Disk"
   ]
  },
  {
   "cell_type": "markdown",
   "id": "285f827d",
   "metadata": {},
   "source": [
    "Saving a single array using `np.save`"
   ]
  },
  {
   "cell_type": "code",
   "execution_count": 2,
   "id": "5325dba8",
   "metadata": {},
   "outputs": [],
   "source": [
    "a=np.array([1,2,3,4])\n",
    "\n",
    "np.save('my_array', a)"
   ]
  },
  {
   "cell_type": "markdown",
   "id": "350fd167",
   "metadata": {},
   "source": [
    "Saving multiple arrays using `np.savez`"
   ]
  },
  {
   "cell_type": "code",
   "execution_count": 3,
   "id": "fe9c2457",
   "metadata": {},
   "outputs": [],
   "source": [
    "b=np.array([5,6,7,8])\n",
    "\n",
    "np.savez('array.npz',a, b)"
   ]
  },
  {
   "cell_type": "markdown",
   "id": "b55e955b",
   "metadata": {},
   "source": [
    "Loading an array using `np.load`"
   ]
  },
  {
   "cell_type": "code",
   "execution_count": 6,
   "id": "6bff86d3",
   "metadata": {},
   "outputs": [
    {
     "data": {
      "text/plain": [
       "array([1, 2, 3, 4])"
      ]
     },
     "execution_count": 6,
     "metadata": {},
     "output_type": "execute_result"
    }
   ],
   "source": [
    "Loaded_a=np.load('my_array.npy')\n",
    "Loaded_a"
   ]
  },
  {
   "cell_type": "markdown",
   "id": "1cbf90c3",
   "metadata": {},
   "source": [
    "### Saving & Loading Text Files"
   ]
  },
  {
   "cell_type": "markdown",
   "id": "cbdf1928",
   "metadata": {},
   "source": [
    "Loading a text file using `np.loadtxt`"
   ]
  },
  {
   "cell_type": "code",
   "execution_count": 7,
   "id": "2a1add84",
   "metadata": {},
   "outputs": [
    {
     "data": {
      "text/plain": [
       "array([[1., 2., 3.],\n",
       "       [4., 5., 6.]])"
      ]
     },
     "execution_count": 7,
     "metadata": {},
     "output_type": "execute_result"
    }
   ],
   "source": [
    "np.loadtxt(\"myfile.txt\")"
   ]
  },
  {
   "cell_type": "markdown",
   "id": "d6d7f4c4",
   "metadata": {},
   "source": [
    "Loading CSV file using `np.genfromtxt`"
   ]
  },
  {
   "cell_type": "code",
   "execution_count": 9,
   "id": "15aae0ca",
   "metadata": {},
   "outputs": [
    {
     "data": {
      "text/plain": [
       "array([[1., 2., 3., 4., 6., 8., 9.],\n",
       "       [2., 3., 9., 3., 5., 8., 2.]])"
      ]
     },
     "execution_count": 9,
     "metadata": {},
     "output_type": "execute_result"
    }
   ],
   "source": [
    "np.genfromtxt(\"myfile.csv\", delimiter=',')"
   ]
  },
  {
   "cell_type": "markdown",
   "id": "1c523e26",
   "metadata": {},
   "source": [
    "Saving an array to a text file using `np.savetxt`"
   ]
  },
  {
   "cell_type": "code",
   "execution_count": 13,
   "id": "2cfed0c5",
   "metadata": {},
   "outputs": [],
   "source": [
    "a = np.array([[1, 2, 3], [4, 5, 6]])\n",
    "np.savetxt('a_arr.txt',a, delimiter=' ')"
   ]
  },
  {
   "cell_type": "markdown",
   "id": "252870d3",
   "metadata": {},
   "source": [
    "# Inspecting Your array"
   ]
  },
  {
   "cell_type": "code",
   "execution_count": 14,
   "id": "c22728f4",
   "metadata": {},
   "outputs": [],
   "source": [
    "import numpy as np\n",
    "\n",
    "a = np.array([[1, 2, 3], [4, 5, 6]])\n",
    "b = np.array([1.5, 2.5, 3.5])\n",
    "e = np.array([1, 2, 3, 4, 5])\n"
   ]
  },
  {
   "cell_type": "markdown",
   "id": "6be06f18",
   "metadata": {},
   "source": [
    "Array dimensions"
   ]
  },
  {
   "cell_type": "code",
   "execution_count": 15,
   "id": "c7d9b0a1",
   "metadata": {},
   "outputs": [
    {
     "data": {
      "text/plain": [
       "(2, 3)"
      ]
     },
     "execution_count": 15,
     "metadata": {},
     "output_type": "execute_result"
    }
   ],
   "source": [
    "a.shape"
   ]
  },
  {
   "cell_type": "markdown",
   "id": "94bd87d3",
   "metadata": {},
   "source": [
    "Length of array"
   ]
  },
  {
   "cell_type": "code",
   "execution_count": 17,
   "id": "2471440e",
   "metadata": {},
   "outputs": [
    {
     "name": "stdout",
     "output_type": "stream",
     "text": [
      "2\n",
      "3\n"
     ]
    }
   ],
   "source": [
    "print(len(a))\n",
    "print(len(b))"
   ]
  },
  {
   "cell_type": "markdown",
   "id": "5fa6593b",
   "metadata": {},
   "source": [
    "Number of array dimensions"
   ]
  },
  {
   "cell_type": "code",
   "execution_count": 19,
   "id": "cede6b85",
   "metadata": {},
   "outputs": [
    {
     "data": {
      "text/plain": [
       "2"
      ]
     },
     "execution_count": 19,
     "metadata": {},
     "output_type": "execute_result"
    }
   ],
   "source": [
    "a.ndim"
   ]
  },
  {
   "cell_type": "markdown",
   "id": "eeae2e85",
   "metadata": {},
   "source": [
    "Number of array elements"
   ]
  },
  {
   "cell_type": "code",
   "execution_count": 20,
   "id": "9dcedf0f",
   "metadata": {},
   "outputs": [
    {
     "data": {
      "text/plain": [
       "5"
      ]
     },
     "execution_count": 20,
     "metadata": {},
     "output_type": "execute_result"
    }
   ],
   "source": [
    "e.size"
   ]
  },
  {
   "cell_type": "markdown",
   "id": "bc6269ec",
   "metadata": {},
   "source": [
    "Name of data type"
   ]
  },
  {
   "cell_type": "code",
   "execution_count": 21,
   "id": "ea7169cb",
   "metadata": {},
   "outputs": [
    {
     "data": {
      "text/plain": [
       "'float64'"
      ]
     },
     "execution_count": 21,
     "metadata": {},
     "output_type": "execute_result"
    }
   ],
   "source": [
    "b.dtype.name"
   ]
  },
  {
   "cell_type": "markdown",
   "id": "57110977",
   "metadata": {},
   "source": [
    "Convert an array to a different type"
   ]
  },
  {
   "cell_type": "code",
   "execution_count": 22,
   "id": "49ffcd36",
   "metadata": {},
   "outputs": [
    {
     "data": {
      "text/plain": [
       "array([1, 2, 3])"
      ]
     },
     "execution_count": 22,
     "metadata": {},
     "output_type": "execute_result"
    }
   ],
   "source": [
    "b.astype(int)"
   ]
  },
  {
   "cell_type": "markdown",
   "id": "c9edd9cf",
   "metadata": {},
   "source": [
    "# Asking For Help"
   ]
  },
  {
   "cell_type": "code",
   "execution_count": 28,
   "id": "4eefd955",
   "metadata": {},
   "outputs": [
    {
     "name": "stdout",
     "output_type": "stream",
     "text": [
      "Data-type of the array's elements.\n",
      "\n",
      ".. warning::\n",
      "\n",
      "    Setting ``arr.dtype`` is discouraged and may be deprecated in the\n",
      "    future.  Setting will replace the ``dtype`` without modifying the\n",
      "    memory (see also `ndarray.view` and `ndarray.astype`).\n",
      "\n",
      "Parameters\n",
      "----------\n",
      "None\n",
      "\n",
      "Returns\n",
      "-------\n",
      "d : numpy dtype object\n",
      "\n",
      "See Also\n",
      "--------\n",
      "ndarray.astype : Cast the values contained in the array to a new data-type.\n",
      "ndarray.view : Create a view of the same data but a different data-type.\n",
      "numpy.dtype\n",
      "\n",
      "Examples\n",
      "--------\n",
      ">>> x\n",
      "array([[0, 1],\n",
      "       [2, 3]])\n",
      ">>> x.dtype\n",
      "dtype('int32')\n",
      ">>> type(x.dtype)\n",
      "<type 'numpy.dtype'>\n"
     ]
    }
   ],
   "source": [
    "np.info(np.ndarray.dtype)"
   ]
  },
  {
   "cell_type": "markdown",
   "id": "565b453b",
   "metadata": {},
   "source": [
    "# Array Mathematics"
   ]
  },
  {
   "cell_type": "markdown",
   "id": "618408ba",
   "metadata": {},
   "source": [
    "### Arithmatic operation"
   ]
  },
  {
   "cell_type": "code",
   "execution_count": 29,
   "id": "c5c25ad1",
   "metadata": {},
   "outputs": [],
   "source": [
    "import numpy as np\n",
    "\n",
    "a = np.array([[1, 2, 3],\n",
    "              [4, 5, 6]])\n",
    "\n",
    "b = np.array([[1.5, 2.0, 3.0],\n",
    "              [1.0, 2.0, 3.0]])\n",
    "\n",
    "e = np.full((2, 2), 7)  # e.g., 2x2 array filled with 7\n",
    "f = np.eye(2)           # 2x2 identity matrix\n"
   ]
  },
  {
   "cell_type": "code",
   "execution_count": 34,
   "id": "405a2486",
   "metadata": {},
   "outputs": [
    {
     "name": "stdout",
     "output_type": "stream",
     "text": [
      "[[-0.5  0.   0. ]\n",
      " [ 3.   3.   3. ]]\n"
     ]
    }
   ],
   "source": [
    "# Subtraction\n",
    "g=a-b\n",
    "print(g)"
   ]
  },
  {
   "cell_type": "code",
   "execution_count": 44,
   "id": "5d61372c",
   "metadata": {},
   "outputs": [
    {
     "data": {
      "text/plain": [
       "array([[-0.5,  0. ,  0. ],\n",
       "       [ 3. ,  3. ,  3. ]])"
      ]
     },
     "execution_count": 44,
     "metadata": {},
     "output_type": "execute_result"
    }
   ],
   "source": [
    "# Subtraction\n",
    "np.subtract(a,b)"
   ]
  },
  {
   "cell_type": "code",
   "execution_count": 38,
   "id": "722a1472",
   "metadata": {},
   "outputs": [
    {
     "data": {
      "text/plain": [
       "array([[2.5, 4. , 6. ],\n",
       "       [5. , 7. , 9. ]])"
      ]
     },
     "execution_count": 38,
     "metadata": {},
     "output_type": "execute_result"
    }
   ],
   "source": [
    "# Addition\n",
    "a+b"
   ]
  },
  {
   "cell_type": "code",
   "execution_count": 37,
   "id": "b2011345",
   "metadata": {},
   "outputs": [
    {
     "data": {
      "text/plain": [
       "array([[2.5, 4. , 6. ],\n",
       "       [5. , 7. , 9. ]])"
      ]
     },
     "execution_count": 37,
     "metadata": {},
     "output_type": "execute_result"
    }
   ],
   "source": [
    "# Addition\n",
    "np.add(a,b)"
   ]
  },
  {
   "cell_type": "code",
   "execution_count": 39,
   "id": "001e1bfe",
   "metadata": {},
   "outputs": [
    {
     "data": {
      "text/plain": [
       "array([[0.66666667, 1.        , 1.        ],\n",
       "       [4.        , 2.5       , 2.        ]])"
      ]
     },
     "execution_count": 39,
     "metadata": {},
     "output_type": "execute_result"
    }
   ],
   "source": [
    "# Division\n",
    "a/b"
   ]
  },
  {
   "cell_type": "code",
   "execution_count": 40,
   "id": "9a52977d",
   "metadata": {},
   "outputs": [
    {
     "data": {
      "text/plain": [
       "array([[0.66666667, 1.        , 1.        ],\n",
       "       [4.        , 2.5       , 2.        ]])"
      ]
     },
     "execution_count": 40,
     "metadata": {},
     "output_type": "execute_result"
    }
   ],
   "source": [
    "# Division\n",
    "np.divide(a,b)"
   ]
  },
  {
   "cell_type": "code",
   "execution_count": 41,
   "id": "e4e6088d",
   "metadata": {},
   "outputs": [
    {
     "data": {
      "text/plain": [
       "array([[ 1.5,  4. ,  9. ],\n",
       "       [ 4. , 10. , 18. ]])"
      ]
     },
     "execution_count": 41,
     "metadata": {},
     "output_type": "execute_result"
    }
   ],
   "source": [
    "# Multiplication\n",
    "a*b"
   ]
  },
  {
   "cell_type": "code",
   "execution_count": 42,
   "id": "3050cc57",
   "metadata": {},
   "outputs": [
    {
     "data": {
      "text/plain": [
       "array([[ 1.5,  4. ,  9. ],\n",
       "       [ 4. , 10. , 18. ]])"
      ]
     },
     "execution_count": 42,
     "metadata": {},
     "output_type": "execute_result"
    }
   ],
   "source": [
    "# Multiplication\n",
    "np.multiply(a,b)"
   ]
  },
  {
   "cell_type": "markdown",
   "id": "def88f88",
   "metadata": {},
   "source": []
  },
  {
   "cell_type": "code",
   "execution_count": 47,
   "id": "a61bcdd3",
   "metadata": {},
   "outputs": [
    {
     "data": {
      "text/plain": [
       "array([[ 4.48168907,  7.3890561 , 20.08553692],\n",
       "       [ 2.71828183,  7.3890561 , 20.08553692]])"
      ]
     },
     "execution_count": 47,
     "metadata": {},
     "output_type": "execute_result"
    }
   ],
   "source": [
    "# exponential: Calculate e^x for each element in b:\n",
    "np.exp(b)"
   ]
  },
  {
   "cell_type": "code",
   "execution_count": 48,
   "id": "deba00ad",
   "metadata": {},
   "outputs": [
    {
     "data": {
      "text/plain": [
       "array([[1.22474487, 1.41421356, 1.73205081],\n",
       "       [1.        , 1.41421356, 1.73205081]])"
      ]
     },
     "execution_count": 48,
     "metadata": {},
     "output_type": "execute_result"
    }
   ],
   "source": [
    "# Square root\n",
    "np.sqrt(b)"
   ]
  },
  {
   "cell_type": "code",
   "execution_count": 49,
   "id": "3c9d8dbf",
   "metadata": {},
   "outputs": [
    {
     "data": {
      "text/plain": [
       "array([[ 0.84147098,  0.90929743,  0.14112001],\n",
       "       [-0.7568025 , -0.95892427, -0.2794155 ]])"
      ]
     },
     "execution_count": 49,
     "metadata": {},
     "output_type": "execute_result"
    }
   ],
   "source": [
    "# Sines of an array\n",
    "np.sin(a)"
   ]
  },
  {
   "cell_type": "code",
   "execution_count": 50,
   "id": "3248b049",
   "metadata": {},
   "outputs": [
    {
     "data": {
      "text/plain": [
       "array([[ 0.0707372 , -0.41614684, -0.9899925 ],\n",
       "       [ 0.54030231, -0.41614684, -0.9899925 ]])"
      ]
     },
     "execution_count": 50,
     "metadata": {},
     "output_type": "execute_result"
    }
   ],
   "source": [
    "# Cosines of an array\n",
    "np.cos(b)"
   ]
  },
  {
   "cell_type": "code",
   "execution_count": 51,
   "id": "591bb889",
   "metadata": {},
   "outputs": [
    {
     "data": {
      "text/plain": [
       "array([[0.        , 0.69314718, 1.09861229],\n",
       "       [1.38629436, 1.60943791, 1.79175947]])"
      ]
     },
     "execution_count": 51,
     "metadata": {},
     "output_type": "execute_result"
    }
   ],
   "source": [
    "#Natural logarithm\n",
    "np.log(a)"
   ]
  },
  {
   "cell_type": "code",
   "execution_count": 52,
   "id": "5f31505a",
   "metadata": {},
   "outputs": [
    {
     "data": {
      "text/plain": [
       "array([[7., 7.],\n",
       "       [7., 7.]])"
      ]
     },
     "execution_count": 52,
     "metadata": {},
     "output_type": "execute_result"
    }
   ],
   "source": [
    "# dot product\n",
    "e.dot(f)"
   ]
  },
  {
   "cell_type": "markdown",
   "id": "0390418b",
   "metadata": {},
   "source": [
    "### Comparison"
   ]
  },
  {
   "cell_type": "code",
   "execution_count": 53,
   "id": "0eecc9ec",
   "metadata": {},
   "outputs": [
    {
     "data": {
      "text/plain": [
       "array([[False,  True,  True],\n",
       "       [False, False, False]])"
      ]
     },
     "execution_count": 53,
     "metadata": {},
     "output_type": "execute_result"
    }
   ],
   "source": [
    "# Element-wise comparison\n",
    "a==b"
   ]
  },
  {
   "cell_type": "code",
   "execution_count": 58,
   "id": "dcefb86f",
   "metadata": {},
   "outputs": [
    {
     "data": {
      "text/plain": [
       "array([[ True,  True, False],\n",
       "       [False, False, False]])"
      ]
     },
     "execution_count": 58,
     "metadata": {},
     "output_type": "execute_result"
    }
   ],
   "source": [
    "# Element-wise comparison\n",
    "a<3"
   ]
  },
  {
   "cell_type": "code",
   "execution_count": 59,
   "id": "dd1eddda",
   "metadata": {},
   "outputs": [
    {
     "data": {
      "text/plain": [
       "False"
      ]
     },
     "execution_count": 59,
     "metadata": {},
     "output_type": "execute_result"
    }
   ],
   "source": [
    "# Array-wise comparison\n",
    "np.array_equal(a,b)"
   ]
  },
  {
   "cell_type": "markdown",
   "id": "3418b062",
   "metadata": {},
   "source": [
    "### Aggregate Functions"
   ]
  },
  {
   "cell_type": "code",
   "execution_count": 5,
   "id": "e2078ff5",
   "metadata": {},
   "outputs": [],
   "source": [
    "import numpy as np\n",
    "\n",
    "a = np.array([[1, 2, 3],\n",
    "              [4, 5, 6]])\n",
    "\n",
    "b = np.array([[1.5, 2.0, 3.0],\n",
    "              [1.0, 2.0, 4.0]])"
   ]
  },
  {
   "cell_type": "markdown",
   "id": "1e9b2feb",
   "metadata": {},
   "source": [
    "Array-wise sum"
   ]
  },
  {
   "cell_type": "code",
   "execution_count": 2,
   "id": "1030ca9f",
   "metadata": {},
   "outputs": [
    {
     "data": {
      "text/plain": [
       "np.int64(21)"
      ]
     },
     "execution_count": 2,
     "metadata": {},
     "output_type": "execute_result"
    }
   ],
   "source": [
    "a.sum()"
   ]
  },
  {
   "cell_type": "markdown",
   "id": "a1b18288",
   "metadata": {},
   "source": [
    "Array-wise minimum value"
   ]
  },
  {
   "cell_type": "code",
   "execution_count": 3,
   "id": "d00b91d8",
   "metadata": {},
   "outputs": [
    {
     "data": {
      "text/plain": [
       "np.int64(1)"
      ]
     },
     "execution_count": 3,
     "metadata": {},
     "output_type": "execute_result"
    }
   ],
   "source": [
    "a.min()"
   ]
  },
  {
   "cell_type": "markdown",
   "id": "dffb66ee",
   "metadata": {},
   "source": [
    "Maximum value of an array row  \n",
    "Finds the maximum value along each column (axis 0) of b."
   ]
  },
  {
   "cell_type": "code",
   "execution_count": 6,
   "id": "509303a4",
   "metadata": {},
   "outputs": [
    {
     "data": {
      "text/plain": [
       "array([1.5, 2. , 4. ])"
      ]
     },
     "execution_count": 6,
     "metadata": {},
     "output_type": "execute_result"
    }
   ],
   "source": [
    "b.max(axis=0)"
   ]
  },
  {
   "cell_type": "markdown",
   "id": "78614907",
   "metadata": {},
   "source": [
    "Cumulative sum of the elements  \n",
    "Computes the cumulative sum along each row (axis 1) of b."
   ]
  },
  {
   "cell_type": "code",
   "execution_count": 7,
   "id": "0e63fb38",
   "metadata": {},
   "outputs": [
    {
     "data": {
      "text/plain": [
       "array([[1.5, 3.5, 6.5],\n",
       "       [1. , 3. , 7. ]])"
      ]
     },
     "execution_count": 7,
     "metadata": {},
     "output_type": "execute_result"
    }
   ],
   "source": [
    "b.cumsum(axis=1)"
   ]
  },
  {
   "cell_type": "markdown",
   "id": "91a42d35",
   "metadata": {},
   "source": [
    "Mean  \n",
    "Calculates the mean (average) of all elements in a."
   ]
  },
  {
   "cell_type": "code",
   "execution_count": 8,
   "id": "74320fde",
   "metadata": {},
   "outputs": [
    {
     "data": {
      "text/plain": [
       "np.float64(3.5)"
      ]
     },
     "execution_count": 8,
     "metadata": {},
     "output_type": "execute_result"
    }
   ],
   "source": [
    "a.mean()"
   ]
  },
  {
   "cell_type": "markdown",
   "id": "64ccd61a",
   "metadata": {},
   "source": [
    "Median  \n",
    "Calculates the median value of all elements in b."
   ]
  },
  {
   "cell_type": "code",
   "execution_count": 11,
   "id": "0810663e",
   "metadata": {},
   "outputs": [
    {
     "data": {
      "text/plain": [
       "np.float64(2.0)"
      ]
     },
     "execution_count": 11,
     "metadata": {},
     "output_type": "execute_result"
    }
   ],
   "source": [
    "np.median(b)"
   ]
  },
  {
   "cell_type": "markdown",
   "id": "95d94685",
   "metadata": {},
   "source": [
    "Correlation coefficient  \n",
    "Calculates the correlation coefficient matrix of array a."
   ]
  },
  {
   "cell_type": "code",
   "execution_count": 18,
   "id": "6dd99d10",
   "metadata": {},
   "outputs": [
    {
     "data": {
      "text/plain": [
       "array([[1., 1.],\n",
       "       [1., 1.]])"
      ]
     },
     "execution_count": 18,
     "metadata": {},
     "output_type": "execute_result"
    }
   ],
   "source": [
    "np.corrcoef(b)"
   ]
  },
  {
   "cell_type": "markdown",
   "id": "f57fc56d",
   "metadata": {},
   "source": [
    "Standard deviation  \n",
    "Calculates the standard deviation of all elements in b."
   ]
  },
  {
   "cell_type": "code",
   "execution_count": 19,
   "id": "3b7be6b7",
   "metadata": {},
   "outputs": [
    {
     "data": {
      "text/plain": [
       "np.float64(0.9895285072531598)"
      ]
     },
     "execution_count": 19,
     "metadata": {},
     "output_type": "execute_result"
    }
   ],
   "source": [
    "np.std(b)"
   ]
  },
  {
   "cell_type": "markdown",
   "id": "5d8b1f56",
   "metadata": {},
   "source": [
    "### Copying Arrays"
   ]
  },
  {
   "cell_type": "code",
   "execution_count": 1,
   "id": "d93c174f",
   "metadata": {},
   "outputs": [],
   "source": [
    "import numpy as np\n",
    "\n",
    "a = np.array([1, 2, 3, 4])"
   ]
  },
  {
   "cell_type": "markdown",
   "id": "321c01c4",
   "metadata": {},
   "source": [
    "1. `h = a.view()`  \n",
    "* Creates a view of the array a.\n",
    "* View means h and a share the same data in memory.\n",
    "* Changes to h will affect a, and vice versa.\n",
    "* However, h is a new array object."
   ]
  },
  {
   "cell_type": "code",
   "execution_count": 2,
   "id": "6f0a169e",
   "metadata": {},
   "outputs": [
    {
     "name": "stdout",
     "output_type": "stream",
     "text": [
      "[1 2 3 4]\n",
      "[100   2   3   4]\n"
     ]
    }
   ],
   "source": [
    "h=a.view()\n",
    "print(h)        #[1  2   3   4]\n",
    "\n",
    "h[0]=100\n",
    "print(a)         # [100   2   3   4]  <-- a changed too!"
   ]
  },
  {
   "cell_type": "markdown",
   "id": "9b825165",
   "metadata": {},
   "source": [
    "2. `np.copy(a)`\n",
    "* Creates a deep copy of array a.\n",
    "* This copy is a new array with its own data.\n",
    "* Modifications to the copied array do not affect the original."
   ]
  },
  {
   "cell_type": "code",
   "execution_count": 3,
   "id": "96d37c57",
   "metadata": {},
   "outputs": [
    {
     "name": "stdout",
     "output_type": "stream",
     "text": [
      "[100   2   3   4]\n",
      "[100   2   3   4]\n",
      "[200   2   3   4]\n"
     ]
    }
   ],
   "source": [
    "copy_a=np.copy(a)\n",
    "print(a)            #[100   2   3   4]\n",
    "\n",
    "copy_a[0]=200\n",
    "print(a)            # [100   2   3   4]  <-- original unchanged\n",
    "print(copy_a)       # [200   2   3   4]"
   ]
  },
  {
   "cell_type": "markdown",
   "id": "791294e9",
   "metadata": {},
   "source": [
    "3. `h = a.copy()`  \n",
    "* This is basically the same as np.copy(a).\n",
    "* Creates a deep copy of a.\n",
    "* Changes to h don't affect a."
   ]
  },
  {
   "cell_type": "code",
   "execution_count": 6,
   "id": "51cb39d1",
   "metadata": {},
   "outputs": [
    {
     "name": "stdout",
     "output_type": "stream",
     "text": [
      "[100   2   3   4]\n",
      "[100 300   3   4]\n"
     ]
    }
   ],
   "source": [
    "h = a.copy()\n",
    "h[1] = 300\n",
    "print(a)  # [100   2   3   4]  (unchanged)\n",
    "print(h)  # [100 300   3   4]\n"
   ]
  },
  {
   "cell_type": "markdown",
   "id": "e99d5786",
   "metadata": {},
   "source": [
    "### Sorting Arrays"
   ]
  },
  {
   "cell_type": "code",
   "execution_count": 7,
   "id": "2376eca0",
   "metadata": {},
   "outputs": [],
   "source": [
    "import numpy as np\n",
    "\n",
    "a = np.array([3, 1, 4, 2])\n",
    "c = np.array([[9, 4, 7],\n",
    "              [3, 8, 1]])\n"
   ]
  },
  {
   "cell_type": "markdown",
   "id": "073d2290",
   "metadata": {},
   "source": [
    "1. `a.sort()`  \n",
    "Sorts the array in-place (modifies the original array).  \n",
    "For a 1D array, it sorts all elements in ascending order."
   ]
  },
  {
   "cell_type": "code",
   "execution_count": 8,
   "id": "1490a94d",
   "metadata": {},
   "outputs": [
    {
     "name": "stdout",
     "output_type": "stream",
     "text": [
      "Before sorting:  [3 1 4 2]\n",
      "After sorting:  [1 2 3 4]\n"
     ]
    }
   ],
   "source": [
    "print(\"Before sorting: \",a)\n",
    "a.sort()\n",
    "print(\"After sorting: \", a)"
   ]
  },
  {
   "cell_type": "markdown",
   "id": "37eee52d",
   "metadata": {},
   "source": [
    "2. `c.sort(axis=0)`  \n",
    "* Sorts the array along a specific axis.\n",
    "* axis=0 means sorting each column individually.\n",
    "* Sort is done in-place."
   ]
  },
  {
   "cell_type": "code",
   "execution_count": 9,
   "id": "81e1b2e4",
   "metadata": {},
   "outputs": [
    {
     "name": "stdout",
     "output_type": "stream",
     "text": [
      "Before sorting: \n",
      " [[9 4 7]\n",
      " [3 8 1]]\n",
      "After Sorting: \n",
      " [[3 4 1]\n",
      " [9 8 7]]\n"
     ]
    }
   ],
   "source": [
    "print(\"Before sorting: \\n\", c)\n",
    "c.sort(axis=0)\n",
    "print(\"After Sorting: \\n\",c)"
   ]
  },
  {
   "cell_type": "markdown",
   "id": "a2d7bafc",
   "metadata": {},
   "source": [
    "# Subsetting, Slicing, Indexing"
   ]
  },
  {
   "cell_type": "code",
   "execution_count": 37,
   "id": "637c47fe",
   "metadata": {},
   "outputs": [],
   "source": [
    "import numpy as np\n",
    "\n",
    "a = np.array([1, 2, 3])\n",
    "b = np.array([[1.5, 2, 3],\n",
    "              [4, 5, 6]])\n",
    "c = np.array([[[3, 2, 1],\n",
    "               [4, 5, 6]]])\n"
   ]
  },
  {
   "cell_type": "markdown",
   "id": "53aeb4df",
   "metadata": {},
   "source": [
    "### 1. Subsetting  \n",
    "Select element at index 2 in 1D array `a`:"
   ]
  },
  {
   "cell_type": "code",
   "execution_count": 13,
   "id": "19c43c25",
   "metadata": {},
   "outputs": [
    {
     "name": "stdout",
     "output_type": "stream",
     "text": [
      "3\n"
     ]
    }
   ],
   "source": [
    "print(a[2])"
   ]
  },
  {
   "cell_type": "markdown",
   "id": "ad988aab",
   "metadata": {},
   "source": [
    "Select element at row 1, column 2 in 2D array `b`:"
   ]
  },
  {
   "cell_type": "code",
   "execution_count": 14,
   "id": "e517dd88",
   "metadata": {},
   "outputs": [
    {
     "name": "stdout",
     "output_type": "stream",
     "text": [
      "6.0\n"
     ]
    }
   ],
   "source": [
    "print(b[1,2])"
   ]
  },
  {
   "cell_type": "markdown",
   "id": "216a3e85",
   "metadata": {},
   "source": [
    "### 2. Slicing\n",
    "* Slicing in python means taking elements from one given index to another given index.  \n",
    "* We pass slice instead of index like this: `[start:end]`.\n",
    "* We can also define the step, like this: `[start:end:step]`.\n",
    "* If we don't pass start its considered 0\n",
    "* If we don't pass end its considered length of array in that dimension\n",
    "* If we don't pass step its considered 1"
   ]
  },
  {
   "cell_type": "markdown",
   "id": "c874d7a6",
   "metadata": {},
   "source": [
    "Slice elements from index 1 to index 5 from the following array:"
   ]
  },
  {
   "cell_type": "code",
   "execution_count": 23,
   "id": "f8095be6",
   "metadata": {},
   "outputs": [
    {
     "name": "stdout",
     "output_type": "stream",
     "text": [
      "[2 3 4 5]\n"
     ]
    }
   ],
   "source": [
    "import numpy as np\n",
    "arr = np.array([1, 2, 3, 4, 5, 6, 7])\n",
    "\n",
    "print(arr[1:5])"
   ]
  },
  {
   "cell_type": "markdown",
   "id": "c42ba034",
   "metadata": {},
   "source": [
    "Slice elements from index 4 to the end of the array:"
   ]
  },
  {
   "cell_type": "code",
   "execution_count": 24,
   "id": "04e7f1e4",
   "metadata": {},
   "outputs": [
    {
     "name": "stdout",
     "output_type": "stream",
     "text": [
      "[5 6 7]\n"
     ]
    }
   ],
   "source": [
    "import numpy as np\n",
    "arr = np.array([1, 2, 3, 4, 5, 6, 7])\n",
    "print(arr[4:])"
   ]
  },
  {
   "cell_type": "markdown",
   "id": "402f320d",
   "metadata": {},
   "source": [
    "Slice elements from the beginning to index 4 (not included):"
   ]
  },
  {
   "cell_type": "code",
   "execution_count": 25,
   "id": "9377d012",
   "metadata": {},
   "outputs": [
    {
     "name": "stdout",
     "output_type": "stream",
     "text": [
      "[1 2 3 4]\n"
     ]
    }
   ],
   "source": [
    "import numpy as np\n",
    "arr = np.array([1, 2, 3, 4, 5, 6, 7])\n",
    "print(arr[:4])"
   ]
  },
  {
   "cell_type": "markdown",
   "id": "03be989b",
   "metadata": {},
   "source": [
    "#### Negative Slicing\n",
    "Use the minus operator to refer to an index from the end:"
   ]
  },
  {
   "cell_type": "markdown",
   "id": "49b7121d",
   "metadata": {},
   "source": [
    "Slice from the index 3 from the end to index 1 from the end:"
   ]
  },
  {
   "cell_type": "code",
   "execution_count": 27,
   "id": "e46479ec",
   "metadata": {},
   "outputs": [
    {
     "name": "stdout",
     "output_type": "stream",
     "text": [
      "[5 6]\n"
     ]
    }
   ],
   "source": [
    "import numpy as np\n",
    "arr = np.array([1, 2, 3, 4, 5, 6, 7])\n",
    "print(arr[-3:-1])"
   ]
  },
  {
   "cell_type": "markdown",
   "id": "27e2eaa0",
   "metadata": {},
   "source": [
    "#### STEP\n",
    "Use the `step` value to determine the step of the slicing:"
   ]
  },
  {
   "cell_type": "markdown",
   "id": "6ffbf3be",
   "metadata": {},
   "source": [
    "Return every other element from index 1 to index 5:"
   ]
  },
  {
   "cell_type": "code",
   "execution_count": 28,
   "id": "9751b75e",
   "metadata": {},
   "outputs": [
    {
     "name": "stdout",
     "output_type": "stream",
     "text": [
      "[2 4]\n"
     ]
    }
   ],
   "source": [
    "import numpy as np\n",
    "arr = np.array([1, 2, 3, 4, 5, 6, 7])\n",
    "print(arr[1:5:2])"
   ]
  },
  {
   "cell_type": "markdown",
   "id": "d2e79d08",
   "metadata": {},
   "source": [
    "Return every other element from the entire array:"
   ]
  },
  {
   "cell_type": "code",
   "execution_count": 29,
   "id": "d5f431f0",
   "metadata": {},
   "outputs": [
    {
     "name": "stdout",
     "output_type": "stream",
     "text": [
      "[1 3 5 7]\n"
     ]
    }
   ],
   "source": [
    "import numpy as np\n",
    "arr = np.array([1, 2, 3, 4, 5, 6, 7])\n",
    "print(arr[::2])"
   ]
  },
  {
   "cell_type": "markdown",
   "id": "098ba536",
   "metadata": {},
   "source": [
    "#### Slicing 2-D Arrays"
   ]
  },
  {
   "cell_type": "markdown",
   "id": "b7eaebf6",
   "metadata": {},
   "source": [
    "From the second element, slice elements from index 1 to index 4 (not included):"
   ]
  },
  {
   "cell_type": "code",
   "execution_count": 30,
   "id": "410e39e8",
   "metadata": {},
   "outputs": [
    {
     "name": "stdout",
     "output_type": "stream",
     "text": [
      "[7 8 9]\n"
     ]
    }
   ],
   "source": [
    "import numpy as np\n",
    "arr = np.array([[1, 2, 3, 4, 5], [6, 7, 8, 9, 10]])\n",
    "\n",
    "print(arr[1, 1:4])"
   ]
  },
  {
   "cell_type": "markdown",
   "id": "3a19c3f2",
   "metadata": {},
   "source": [
    "From both elements, return index 2:"
   ]
  },
  {
   "cell_type": "code",
   "execution_count": 33,
   "id": "311726f6",
   "metadata": {},
   "outputs": [
    {
     "name": "stdout",
     "output_type": "stream",
     "text": [
      "[3 8]\n"
     ]
    }
   ],
   "source": [
    "import numpy as np\n",
    "arr = np.array([[1, 2, 3, 4, 5], [6, 7, 8, 9, 10]])\n",
    "\n",
    "print(arr[0:2, 2])"
   ]
  },
  {
   "cell_type": "markdown",
   "id": "b77d4441",
   "metadata": {},
   "source": [
    "From both elements, slice index 1 to index 4 (not included), this will return a 2-D array:"
   ]
  },
  {
   "cell_type": "code",
   "execution_count": 32,
   "id": "e3dbda3a",
   "metadata": {},
   "outputs": [
    {
     "name": "stdout",
     "output_type": "stream",
     "text": [
      "[[2 3 4]\n",
      " [7 8 9]]\n"
     ]
    }
   ],
   "source": [
    "import numpy as np\n",
    "arr = np.array([[1, 2, 3, 4, 5], [6, 7, 8, 9, 10]])\n",
    "\n",
    "print(arr[0:2, 1:4])"
   ]
  },
  {
   "cell_type": "markdown",
   "id": "c72c46d6",
   "metadata": {},
   "source": [
    "### 3. Boolean Indexing"
   ]
  },
  {
   "cell_type": "markdown",
   "id": "5e1dac1b",
   "metadata": {},
   "source": [
    "Select elements from a that are less than 4:"
   ]
  },
  {
   "cell_type": "code",
   "execution_count": 34,
   "id": "2bb24428",
   "metadata": {},
   "outputs": [
    {
     "name": "stdout",
     "output_type": "stream",
     "text": [
      "[1 2 3]\n"
     ]
    }
   ],
   "source": [
    "import numpy as np\n",
    "a = np.array([1, 2, 3, 4, 6, 7, 8])\n",
    "\n",
    "print(a[a<4])"
   ]
  },
  {
   "cell_type": "markdown",
   "id": "8cdff856",
   "metadata": {},
   "source": [
    "### 4. Fancy Indexing  \n",
    "Select elements from `b` at positions `(1,0)`, `(0,1)`, `(1,2)`, and `(0,0)`"
   ]
  },
  {
   "cell_type": "code",
   "execution_count": 38,
   "id": "25d3d1bb",
   "metadata": {},
   "outputs": [
    {
     "data": {
      "text/plain": [
       "array([4. , 2. , 6. , 1.5])"
      ]
     },
     "execution_count": 38,
     "metadata": {},
     "output_type": "execute_result"
    }
   ],
   "source": [
    "b = np.array([[1.5, 2, 3],\n",
    "              [4, 5, 6]])\n",
    "\n",
    "rows=[1, 0, 1, 0]\n",
    "columns=[0, 1, 2, 0]\n",
    "b[rows, columns]"
   ]
  },
  {
   "cell_type": "markdown",
   "id": "4c9a3e8f",
   "metadata": {},
   "source": [
    "Select a subset of `b`'s rows and columns:"
   ]
  },
  {
   "cell_type": "code",
   "execution_count": 39,
   "id": "7db9c376",
   "metadata": {},
   "outputs": [
    {
     "name": "stdout",
     "output_type": "stream",
     "text": [
      "[[4.  5.  6.  4. ]\n",
      " [1.5 2.  3.  1.5]\n",
      " [4.  5.  6.  4. ]]\n"
     ]
    }
   ],
   "source": [
    "print(b[[1, 0, 1]][:, [0, 1, 2, 0]])\n",
    "# Explanation:\n",
    "# Select rows 1, 0, 1 (in that order), then select columns 0, 1, 2, 0 from these rows\n"
   ]
  },
  {
   "cell_type": "markdown",
   "id": "f18225de",
   "metadata": {},
   "source": [
    "# Array Manipulation"
   ]
  },
  {
   "cell_type": "markdown",
   "id": "5d80f64b",
   "metadata": {},
   "source": [
    "### Transposing Array"
   ]
  },
  {
   "cell_type": "code",
   "execution_count": 49,
   "id": "8d77461b",
   "metadata": {},
   "outputs": [
    {
     "name": "stdout",
     "output_type": "stream",
     "text": [
      "[[1.5 4. ]\n",
      " [2.  5. ]\n",
      " [3.  6. ]]\n"
     ]
    }
   ],
   "source": [
    "b = np.array([[1.5, 2, 3],\n",
    "              [4, 5, 6]])\n",
    "\n",
    "i=np.transpose(b)\n",
    "print(i)"
   ]
  },
  {
   "cell_type": "markdown",
   "id": "98fc04f4",
   "metadata": {},
   "source": [
    "Transpose back to original 'b'"
   ]
  },
  {
   "cell_type": "code",
   "execution_count": 47,
   "id": "4f0e819b",
   "metadata": {},
   "outputs": [
    {
     "name": "stdout",
     "output_type": "stream",
     "text": [
      "[[1.5 2.  3. ]\n",
      " [4.  5.  6. ]]\n"
     ]
    }
   ],
   "source": [
    "print(i.T)"
   ]
  },
  {
   "cell_type": "markdown",
   "id": "4b07051b",
   "metadata": {},
   "source": [
    "### Changing Array Shape"
   ]
  },
  {
   "cell_type": "markdown",
   "id": "10ccfcba",
   "metadata": {},
   "source": [
    "Flatten array `b`:"
   ]
  },
  {
   "cell_type": "code",
   "execution_count": 51,
   "id": "01fda788",
   "metadata": {},
   "outputs": [
    {
     "name": "stdout",
     "output_type": "stream",
     "text": [
      "[1.5 2.  3.  4.  5.  6. ]\n"
     ]
    }
   ],
   "source": [
    "b = np.array([[1.5, 2, 3],\n",
    "              [4, 5, 6]])\n",
    "\n",
    "print(b.ravel())"
   ]
  },
  {
   "cell_type": "markdown",
   "id": "e23e0a43",
   "metadata": {},
   "source": [
    "Reshape array `g` to 3 rows and columns 2: don't change data"
   ]
  },
  {
   "cell_type": "code",
   "execution_count": 56,
   "id": "3da9dec6",
   "metadata": {},
   "outputs": [
    {
     "name": "stdout",
     "output_type": "stream",
     "text": [
      "[[0 1]\n",
      " [2 3]\n",
      " [4 5]]\n"
     ]
    }
   ],
   "source": [
    "g = np.arange(6)  # array([0, 1, 2, 3, 4, 5])\n",
    "\n",
    "print(g.reshape(3,2))"
   ]
  },
  {
   "cell_type": "markdown",
   "id": "a41830a0",
   "metadata": {},
   "source": [
    "### Adding/Removing Elements"
   ]
  },
  {
   "cell_type": "markdown",
   "id": "bf66c93e",
   "metadata": {},
   "source": [
    "Resize array `h` to shape (2, 6):"
   ]
  },
  {
   "cell_type": "code",
   "execution_count": 64,
   "id": "dd0ebca4",
   "metadata": {},
   "outputs": [
    {
     "name": "stdout",
     "output_type": "stream",
     "text": [
      "[[7 7 7]\n",
      " [7 7 7]]\n",
      "\n",
      "[[7 7 7 7 7 7 0 0]\n",
      " [0 0 0 0 0 0 0 0]]\n"
     ]
    }
   ],
   "source": [
    "h = np.full((2, 3), 7)  # 2x3 array filled with 7\n",
    "print(h)\n",
    "print()\n",
    "\n",
    "h.resize(2,8)\n",
    "print(h)"
   ]
  },
  {
   "cell_type": "markdown",
   "id": "29a86e7d",
   "metadata": {},
   "source": [
    "Append arrays `h` and `g`:"
   ]
  },
  {
   "cell_type": "code",
   "execution_count": 67,
   "id": "840004ee",
   "metadata": {},
   "outputs": [
    {
     "name": "stdout",
     "output_type": "stream",
     "text": [
      "[0 1 2 3 4 5]\n",
      "\n",
      "[[7 7 7]\n",
      " [7 7 7]]\n",
      "\n",
      "[0 1 2 3 4 5 7 7 7 7 7 7]\n"
     ]
    }
   ],
   "source": [
    "g = np.arange(6)            # array([0, 1, 2, 3, 4, 5])\n",
    "h = np.full((2, 3), 7)      # 2x3 array filled with 7\n",
    "\n",
    "print(g)\n",
    "print()\n",
    "\n",
    "print(h)\n",
    "print()\n",
    "\n",
    "print(np.append(g,h))"
   ]
  },
  {
   "cell_type": "markdown",
   "id": "09c8c0b9",
   "metadata": {},
   "source": [
    "Insert element 5 into `a` at index 1:"
   ]
  },
  {
   "cell_type": "code",
   "execution_count": 68,
   "id": "f6c14286",
   "metadata": {},
   "outputs": [
    {
     "name": "stdout",
     "output_type": "stream",
     "text": [
      "[1 5 2 3]\n"
     ]
    }
   ],
   "source": [
    "a = np.array([1, 2, 3])\n",
    "\n",
    "print(np.insert(a,1,5))"
   ]
  },
  {
   "cell_type": "markdown",
   "id": "5d58512f",
   "metadata": {},
   "source": [
    "Delete element at index 1 from array `a`:"
   ]
  },
  {
   "cell_type": "code",
   "execution_count": 70,
   "id": "aa8135df",
   "metadata": {},
   "outputs": [
    {
     "name": "stdout",
     "output_type": "stream",
     "text": [
      "[1 3]\n"
     ]
    }
   ],
   "source": [
    "a = np.array([1, 2, 3])\n",
    "\n",
    "deleted=np.delete(a,[1])\n",
    "print(deleted)"
   ]
  },
  {
   "cell_type": "markdown",
   "id": "ab6d1161",
   "metadata": {},
   "source": [
    "### Combining Arrays"
   ]
  },
  {
   "cell_type": "markdown",
   "id": "e1314061",
   "metadata": {},
   "source": [
    "Concatenate arrays `a` and `d` along axis 0:"
   ]
  },
  {
   "cell_type": "code",
   "execution_count": 109,
   "id": "e6c7fd34",
   "metadata": {},
   "outputs": [
    {
     "name": "stdout",
     "output_type": "stream",
     "text": [
      "[ 1  2  3 10 15 20]\n"
     ]
    }
   ],
   "source": [
    "a = np.array([1, 2, 3])\n",
    "d = np.array([10, 15, 20])\n",
    "\n",
    "print(np.concatenate((a,d)))"
   ]
  },
  {
   "cell_type": "markdown",
   "id": "13979628",
   "metadata": {},
   "source": [
    "Stack arrays `a` and `b` vertically (row-wise):"
   ]
  },
  {
   "cell_type": "code",
   "execution_count": 121,
   "id": "bb7644c1",
   "metadata": {},
   "outputs": [
    {
     "name": "stdout",
     "output_type": "stream",
     "text": [
      "[[1.  2.  3. ]\n",
      " [1.5 2.  3. ]\n",
      " [4.  5.  6. ]]\n"
     ]
    }
   ],
   "source": [
    "a = np.array([1, 2, 3])\n",
    "b = np.array([[1.5, 2, 3],\n",
    "              [4, 5, 6]])\n",
    "\n",
    "vstacked = np.vstack((a, b))\n",
    "print(vstacked)"
   ]
  },
  {
   "cell_type": "markdown",
   "id": "fcc78f97",
   "metadata": {},
   "source": [
    "Stack arrays `b` and `h` vertically (row-wise):"
   ]
  },
  {
   "cell_type": "code",
   "execution_count": 140,
   "id": "256f6816",
   "metadata": {},
   "outputs": [
    {
     "data": {
      "text/plain": [
       "array([[1.5, 2. , 3. ],\n",
       "       [4. , 5. , 6. ],\n",
       "       [7. , 7. , 7. ],\n",
       "       [7. , 7. , 7. ]])"
      ]
     },
     "execution_count": 140,
     "metadata": {},
     "output_type": "execute_result"
    }
   ],
   "source": [
    "b = np.array([[1.5, 2, 3],\n",
    "              [4, 5, 6]])\n",
    "\n",
    "h = np.full((2, 3), 7)\n",
    "\n",
    "np.r_[b, h]"
   ]
  },
  {
   "cell_type": "markdown",
   "id": "57b2505f",
   "metadata": {},
   "source": [
    "Stack arrays e and f horizontally (column-wise):"
   ]
  },
  {
   "cell_type": "code",
   "execution_count": 131,
   "id": "7d1cf881",
   "metadata": {},
   "outputs": [
    {
     "data": {
      "text/plain": [
       "array([[1.5, 2. , 3. , 7. , 7. , 7. ],\n",
       "       [4. , 5. , 6. , 7. , 7. , 7. ]])"
      ]
     },
     "execution_count": 131,
     "metadata": {},
     "output_type": "execute_result"
    }
   ],
   "source": [
    "np.hstack((b,h))"
   ]
  },
  {
   "cell_type": "markdown",
   "id": "528a875e",
   "metadata": {},
   "source": [
    "Create stacked column-wise arrays:"
   ]
  },
  {
   "cell_type": "code",
   "execution_count": 132,
   "id": "3740be86",
   "metadata": {},
   "outputs": [
    {
     "name": "stdout",
     "output_type": "stream",
     "text": [
      "[[ 1 10]\n",
      " [ 2 15]\n",
      " [ 3 20]]\n"
     ]
    }
   ],
   "source": [
    "a = np.array([1, 2, 3])\n",
    "d = np.array([10, 15, 20])\n",
    "\n",
    "col_stack = np.column_stack((a, d))\n",
    "print(col_stack)\n",
    "# Output:\n",
    "# [[ 1 10]\n",
    "#  [ 2 15]\n",
    "#  [ 3 20]]"
   ]
  },
  {
   "cell_type": "markdown",
   "id": "7fc2a137",
   "metadata": {},
   "source": [
    "Create stacked column-wise arrays with `np.c_`:"
   ]
  },
  {
   "cell_type": "code",
   "execution_count": 133,
   "id": "9d58fd82",
   "metadata": {},
   "outputs": [
    {
     "data": {
      "text/plain": [
       "array([[ 1, 10],\n",
       "       [ 2, 15],\n",
       "       [ 3, 20]])"
      ]
     },
     "execution_count": 133,
     "metadata": {},
     "output_type": "execute_result"
    }
   ],
   "source": [
    "np.c_[a,d]"
   ]
  },
  {
   "cell_type": "markdown",
   "id": "389b822a",
   "metadata": {},
   "source": [
    "### Spliting Arrays"
   ]
  },
  {
   "cell_type": "markdown",
   "id": "266b22a2",
   "metadata": {},
   "source": [
    "`np.hsplit(a,3)`  \n",
    "Split array a horizontally at index 3:"
   ]
  },
  {
   "cell_type": "code",
   "execution_count": 139,
   "id": "eec41115",
   "metadata": {},
   "outputs": [
    {
     "name": "stdout",
     "output_type": "stream",
     "text": [
      "[array([7]), array([2]), array([9])]\n"
     ]
    }
   ],
   "source": [
    "a = np.array([7, 2, 9])\n",
    "\n",
    "print(np.hsplit(a,3))"
   ]
  },
  {
   "cell_type": "markdown",
   "id": "796bb1d2",
   "metadata": {},
   "source": [
    "`a = np.array([1, 2, 3])`  \n",
    "Split array b vertically at index 2:"
   ]
  },
  {
   "cell_type": "code",
   "execution_count": 141,
   "id": "eb3e4ef2",
   "metadata": {},
   "outputs": [
    {
     "name": "stdout",
     "output_type": "stream",
     "text": [
      "[array([[1.5, 2. , 3. ]]), array([[4., 5., 6.]])]\n"
     ]
    }
   ],
   "source": [
    "b = np.array([[1.5, 2, 3],\n",
    "              [4, 5, 6]])\n",
    "\n",
    "vsplit = np.vsplit(b, 2)\n",
    "print(vsplit)"
   ]
  },
  {
   "cell_type": "markdown",
   "id": "41688232",
   "metadata": {},
   "source": [
    "# Generating Random Numbers Using NumPy\n"
   ]
  },
  {
   "cell_type": "code",
   "execution_count": 143,
   "id": "116a63f3",
   "metadata": {},
   "outputs": [],
   "source": [
    "# Step 1: Import NumPy\n",
    "import numpy as np"
   ]
  },
  {
   "cell_type": "markdown",
   "id": "69e4fce6",
   "metadata": {},
   "source": [
    "## 1. Generate Random Floats Between 0 and 1  \n",
    "`np.random.rand()` generates a random float number between 0 and 1 (exclusive)"
   ]
  },
  {
   "cell_type": "code",
   "execution_count": 144,
   "id": "b5373224",
   "metadata": {},
   "outputs": [
    {
     "name": "stdout",
     "output_type": "stream",
     "text": [
      "0.6915203376648857\n",
      "[0.76439538 0.07876377 0.1809825  0.08467522 0.27675735]\n",
      "[[0.24163974 0.2881456 ]\n",
      " [0.31455344 0.54847303]\n",
      " [0.54185151 0.43182983]]\n"
     ]
    }
   ],
   "source": [
    "# Generate one random number between 0 and 1\n",
    "random_number = np.random.rand()\n",
    "print(random_number)\n",
    "\n",
    "# 1D array of random numbers between 0 and 1\n",
    "array_of_randoms_1d = np.random.rand(5)\n",
    "print(array_of_randoms_1d)\n",
    "\n",
    "# Generate a 3x2 matrix of random numbers between 0 and 1\n",
    "array_of_randoms = np.random.rand(3, 2)\n",
    "print(array_of_randoms)"
   ]
  },
  {
   "cell_type": "markdown",
   "id": "c6a61e4f",
   "metadata": {},
   "source": [
    "## 2. Generate Random Integers  \n",
    "`np.random.randint(low, high)` gives a random integer between low (inclusive) and high (exclusive)"
   ]
  },
  {
   "cell_type": "code",
   "execution_count": 145,
   "id": "8bb26737",
   "metadata": {},
   "outputs": [
    {
     "name": "stdout",
     "output_type": "stream",
     "text": [
      "6\n",
      "[[7 5]\n",
      " [8 9]\n",
      " [9 6]]\n"
     ]
    }
   ],
   "source": [
    "# This will generate a random integer in the range [1, 10)\n",
    "random_integer = np.random.randint(1, 10)\n",
    "print(random_integer)\n",
    "\n",
    "# This will generate a 3x2 matrix of random integers in the range [1, 10)\n",
    "random_integers = np.random.randint(1, 10, size=(3, 2))\n",
    "print(random_integers)"
   ]
  },
  {
   "cell_type": "markdown",
   "id": "1254f97d",
   "metadata": {},
   "source": [
    "## 3. Generate Random Numbers from a Standard Normal Distribution  \n",
    "`np.random.randn()` generates numbers from a standard normal distribution (mean = 0, std = 1)\n"
   ]
  },
  {
   "cell_type": "code",
   "execution_count": 146,
   "id": "d8fe1fad",
   "metadata": {},
   "outputs": [
    {
     "name": "stdout",
     "output_type": "stream",
     "text": [
      "[ 0.88762728 -0.73289487 -1.18802434 -0.11661608  0.27963432]\n",
      "[[-0.94354398 -0.57606686 -0.72224853]\n",
      " [-0.24351469  0.92731846  1.43310769]]\n"
     ]
    }
   ],
   "source": [
    "normal_numbers = np.random.randn(5)\n",
    "print(normal_numbers)\n",
    "\n",
    "# This will generate a 2x3 matrix of random numbers from a normal distribution with mean 0 and standard deviation 1\n",
    "normal_matrix = np.random.randn(2, 3)\n",
    "print(normal_matrix)"
   ]
  },
  {
   "cell_type": "markdown",
   "id": "51c87f9f",
   "metadata": {},
   "source": [
    "## 4. Generate Random Numbers from a Custom Normal Distribution  \n",
    "`loc` is the mean, `scale` is the standard deviation, and `size` is how many numbers to generate."
   ]
  },
  {
   "cell_type": "code",
   "execution_count": 147,
   "id": "c0738059",
   "metadata": {},
   "outputs": [
    {
     "name": "stdout",
     "output_type": "stream",
     "text": [
      "[46.86128987 47.13706271 56.39019345 47.48276563]\n"
     ]
    }
   ],
   "source": [
    "# This will generate a 4 random numbers from a normal distribution with mean 50 and standard deviation 5\n",
    "\n",
    "normal_custom = np.random.normal(loc=50, scale=5, size=4)\n",
    "print(normal_custom)"
   ]
  },
  {
   "cell_type": "markdown",
   "id": "f727e634",
   "metadata": {},
   "source": [
    "## 5. Generate Random Numbers from a Uniform Distribution  \n",
    "This gives 3 float numbers between 5 and 10."
   ]
  },
  {
   "cell_type": "code",
   "execution_count": 148,
   "id": "cf2af5c4",
   "metadata": {},
   "outputs": [
    {
     "name": "stdout",
     "output_type": "stream",
     "text": [
      "[6.39841573 9.62851625 6.04059883]\n"
     ]
    }
   ],
   "source": [
    "uniform_numbers = np.random.uniform(low=5, high=10, size=3)\n",
    "print(uniform_numbers)"
   ]
  },
  {
   "cell_type": "markdown",
   "id": "aafbf041",
   "metadata": {},
   "source": [
    "## 6. Randomly Pick Elements from a List"
   ]
  },
  {
   "cell_type": "code",
   "execution_count": 150,
   "id": "2080c25b",
   "metadata": {},
   "outputs": [
    {
     "name": "stdout",
     "output_type": "stream",
     "text": [
      "[10 20 30]\n",
      "[20 10 50]\n"
     ]
    }
   ],
   "source": [
    "# Randomly selects 3 elements from the list.\n",
    "choices = np.random.choice([10, 20, 20, 20, 30, 40, 40, 40, 50], size=3)\n",
    "print(choices)\n",
    "\n",
    "# You can also set replace=False to avoid duplicates\n",
    "unique_choices = np.random.choice([10, 20, 30, 40, 50], size=3, replace=False)\n",
    "print(unique_choices)"
   ]
  },
  {
   "cell_type": "markdown",
   "id": "6b2f3eb2",
   "metadata": {},
   "source": [
    "## 7. Shuffle an Array  \n",
    "This shuffles the array in place (changes the original array)."
   ]
  },
  {
   "cell_type": "code",
   "execution_count": 151,
   "id": "118b1b86",
   "metadata": {},
   "outputs": [
    {
     "name": "stdout",
     "output_type": "stream",
     "text": [
      "[2 5 4 1 3]\n"
     ]
    }
   ],
   "source": [
    "arr = np.array([1, 2, 3, 4, 5])\n",
    "np.random.shuffle(arr)\n",
    "print(arr)"
   ]
  },
  {
   "cell_type": "markdown",
   "id": "361e0046",
   "metadata": {},
   "source": [
    "## Set a Seed for Reproducibility\n",
    "This fixes the sequence of random numbers so they are repeatable."
   ]
  },
  {
   "cell_type": "code",
   "execution_count": 152,
   "id": "9a2d0271",
   "metadata": {},
   "outputs": [
    {
     "name": "stdout",
     "output_type": "stream",
     "text": [
      "[0.37454012 0.95071431 0.73199394]\n"
     ]
    }
   ],
   "source": [
    "np.random.seed(42)\n",
    "print(np.random.rand(3))"
   ]
  },
  {
   "cell_type": "code",
   "execution_count": null,
   "id": "8681ebfd",
   "metadata": {},
   "outputs": [],
   "source": []
  },
  {
   "cell_type": "code",
   "execution_count": null,
   "id": "c21d0917",
   "metadata": {},
   "outputs": [],
   "source": []
  }
 ],
 "metadata": {
  "kernelspec": {
   "display_name": "Python 3",
   "language": "python",
   "name": "python3"
  },
  "language_info": {
   "codemirror_mode": {
    "name": "ipython",
    "version": 3
   },
   "file_extension": ".py",
   "mimetype": "text/x-python",
   "name": "python",
   "nbconvert_exporter": "python",
   "pygments_lexer": "ipython3",
   "version": "3.9.0"
  }
 },
 "nbformat": 4,
 "nbformat_minor": 5
}
