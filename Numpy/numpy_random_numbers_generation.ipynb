{
 "cells": [
  {
   "cell_type": "markdown",
   "metadata": {},
   "source": [
    "# Generating Random Numbers Using NumPy\n"
   ]
  },
  {
   "cell_type": "code",
   "execution_count": 3,
   "metadata": {},
   "outputs": [],
   "source": [
    "# Step 1: Import NumPy\n",
    "import numpy as np"
   ]
  },
  {
   "cell_type": "markdown",
   "metadata": {},
   "source": [
    "## 1. Generate Random Floats Between 0 and 1  \n",
    "`np.random.rand()` generates a random float number between 0 and 1 (exclusive)"
   ]
  },
  {
   "cell_type": "code",
   "execution_count": 34,
   "metadata": {},
   "outputs": [
    {
     "name": "stdout",
     "output_type": "stream",
     "text": [
      "0.9656320330745594\n",
      "[0.80839735 0.30461377 0.09767211 0.68423303 0.44015249]\n",
      "[[0.12203823 0.49517691]\n",
      " [0.03438852 0.9093204 ]\n",
      " [0.25877998 0.66252228]]\n"
     ]
    }
   ],
   "source": [
    "# Generate one random number between 0 and 1\n",
    "random_number = np.random.rand()\n",
    "print(random_number)\n",
    "\n",
    "# 1D array of random numbers between 0 and 1\n",
    "array_of_randoms_1d = np.random.rand(5)\n",
    "print(array_of_randoms_1d)\n",
    "\n",
    "# Generate a 3x2 matrix of random numbers between 0 and 1\n",
    "array_of_randoms = np.random.rand(3, 2)\n",
    "print(array_of_randoms)"
   ]
  },
  {
   "cell_type": "markdown",
   "metadata": {},
   "source": [
    "## 2. Generate Random Integers  \n",
    "`np.random.randint(low, high)` gives a random integer between low (inclusive) and high (exclusive)"
   ]
  },
  {
   "cell_type": "code",
   "execution_count": 18,
   "metadata": {},
   "outputs": [
    {
     "name": "stdout",
     "output_type": "stream",
     "text": [
      "9\n",
      "[[4 9]\n",
      " [3 3]\n",
      " [3 1]]\n"
     ]
    }
   ],
   "source": [
    "# This will generate a random integer in the range [1, 10)\n",
    "random_integer = np.random.randint(1, 10)\n",
    "print(random_integer)\n",
    "\n",
    "# This will generate a 3x2 matrix of random integers in the range [1, 10)\n",
    "random_integers = np.random.randint(1, 10, size=(3, 2))\n",
    "print(random_integers)"
   ]
  },
  {
   "cell_type": "markdown",
   "metadata": {},
   "source": [
    "## 3. Generate Random Numbers from a Standard Normal Distribution  \n",
    "`np.random.randn()` generates numbers from a standard normal distribution (mean = 0, std = 1)\n"
   ]
  },
  {
   "cell_type": "code",
   "execution_count": 37,
   "metadata": {},
   "outputs": [
    {
     "name": "stdout",
     "output_type": "stream",
     "text": [
      "[ 0.31890218  0.27904129  1.01051528 -0.58087813 -0.52516981]\n",
      "[[-0.57138017 -0.92408284 -2.61254901]\n",
      " [ 0.95036968  0.81644508 -1.523876  ]]\n"
     ]
    }
   ],
   "source": [
    "normal_numbers = np.random.randn(5)\n",
    "print(normal_numbers)\n",
    "\n",
    "# This will generate a 2x3 matrix of random numbers from a normal distribution with mean 0 and standard deviation 1\n",
    "normal_matrix = np.random.randn(2, 3)\n",
    "print(normal_matrix)"
   ]
  },
  {
   "cell_type": "markdown",
   "metadata": {},
   "source": [
    "## 4. Generate Random Numbers from a Custom Normal Distribution  \n",
    "`loc` is the mean, `scale` is the standard deviation, and `size` is how many numbers to generate."
   ]
  },
  {
   "cell_type": "code",
   "execution_count": 23,
   "metadata": {},
   "outputs": [
    {
     "name": "stdout",
     "output_type": "stream",
     "text": [
      "[51.67655024 52.69899461 50.57169451 48.88619904]\n"
     ]
    }
   ],
   "source": [
    "# This will generate a 4 random numbers from a normal distribution with mean 50 and standard deviation 5\n",
    "\n",
    "normal_custom = np.random.normal(loc=50, scale=5, size=4)\n",
    "print(normal_custom)"
   ]
  },
  {
   "cell_type": "markdown",
   "metadata": {},
   "source": [
    "## 5. Generate Random Numbers from a Uniform Distribution  \n",
    "This gives 3 float numbers between 5 and 10."
   ]
  },
  {
   "cell_type": "code",
   "execution_count": 5,
   "metadata": {},
   "outputs": [
    {
     "name": "stdout",
     "output_type": "stream",
     "text": [
      "[8.35303534 5.69666177 9.93681312]\n"
     ]
    }
   ],
   "source": [
    "uniform_numbers = np.random.uniform(low=5, high=10, size=3)\n",
    "print(uniform_numbers)"
   ]
  },
  {
   "cell_type": "markdown",
   "metadata": {},
   "source": [
    "## 6. Randomly Pick Elements from a List"
   ]
  },
  {
   "cell_type": "code",
   "execution_count": 28,
   "metadata": {},
   "outputs": [
    {
     "name": "stdout",
     "output_type": "stream",
     "text": [
      "[20 40 20]\n",
      "[40 50 30]\n"
     ]
    }
   ],
   "source": [
    "# Randomly selects 3 elements from the list.\n",
    "choices = np.random.choice([10, 20, 20, 20, 30, 40, 40, 40, 50], size=3)\n",
    "print(choices)\n",
    "\n",
    "# You can also set replace=False to avoid duplicates\n",
    "unique_choices = np.random.choice([10, 20, 30, 40, 50], size=3, replace=False)\n",
    "print(unique_choices)"
   ]
  },
  {
   "cell_type": "markdown",
   "metadata": {},
   "source": [
    "## 7. Shuffle an Array  \n",
    "This shuffles the array in place (changes the original array)."
   ]
  },
  {
   "cell_type": "code",
   "execution_count": 29,
   "metadata": {},
   "outputs": [
    {
     "name": "stdout",
     "output_type": "stream",
     "text": [
      "[4 5 1 3 2]\n"
     ]
    }
   ],
   "source": [
    "arr = np.array([1, 2, 3, 4, 5])\n",
    "np.random.shuffle(arr)\n",
    "print(arr)"
   ]
  },
  {
   "cell_type": "markdown",
   "metadata": {},
   "source": [
    "## Set a Seed for Reproducibility\n",
    "This fixes the sequence of random numbers so they are repeatable."
   ]
  },
  {
   "cell_type": "code",
   "execution_count": 35,
   "metadata": {},
   "outputs": [
    {
     "name": "stdout",
     "output_type": "stream",
     "text": [
      "[0.37454012 0.95071431 0.73199394]\n"
     ]
    }
   ],
   "source": [
    "np.random.seed(42)\n",
    "print(np.random.rand(3))"
   ]
  }
 ],
 "metadata": {
  "kernelspec": {
   "display_name": "Python 3",
   "language": "python",
   "name": "python3"
  },
  "language_info": {
   "codemirror_mode": {
    "name": "ipython",
    "version": 3
   },
   "file_extension": ".py",
   "mimetype": "text/x-python",
   "name": "python",
   "nbconvert_exporter": "python",
   "pygments_lexer": "ipython3",
   "version": "3.9.0"
  }
 },
 "nbformat": 4,
 "nbformat_minor": 5
}
